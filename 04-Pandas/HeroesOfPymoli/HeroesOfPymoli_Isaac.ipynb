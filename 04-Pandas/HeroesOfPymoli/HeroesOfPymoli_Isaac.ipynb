{
 "cells": [
  {
   "cell_type": "markdown",
   "metadata": {},
   "source": [
    "### Heroes Of Pymoli Data Analysis\n",
    "1) Of the 576 total players, 84% are male, 14% are female, and 2% are Other/Non-Disclosed.\n",
    "\n",
    "2) Purchase total by each gender aligned with their percent of the population. So, males purchases accounted for 84% of total purchases, female 14%, and Other/Non-Disclosed 2%.  Which means that gender seems not to be a factor in purchasing interest. \n",
    "\n",
    "3) A bit under half of all players (44.8%) are between the ages of 20-24 and also account for the majority of purchases, with 15-19 year olds coming in at 2nd place.\n",
    "\n",
    "-----"
   ]
  },
  {
   "cell_type": "code",
   "execution_count": 1,
   "metadata": {},
   "outputs": [
    {
     "data": {
      "text/html": [
       "<div>\n",
       "<style scoped>\n",
       "    .dataframe tbody tr th:only-of-type {\n",
       "        vertical-align: middle;\n",
       "    }\n",
       "\n",
       "    .dataframe tbody tr th {\n",
       "        vertical-align: top;\n",
       "    }\n",
       "\n",
       "    .dataframe thead th {\n",
       "        text-align: right;\n",
       "    }\n",
       "</style>\n",
       "<table border=\"1\" class=\"dataframe\">\n",
       "  <thead>\n",
       "    <tr style=\"text-align: right;\">\n",
       "      <th></th>\n",
       "      <th>Purchase ID</th>\n",
       "      <th>SN</th>\n",
       "      <th>Age</th>\n",
       "      <th>Gender</th>\n",
       "      <th>Item ID</th>\n",
       "      <th>Item Name</th>\n",
       "      <th>Price</th>\n",
       "    </tr>\n",
       "  </thead>\n",
       "  <tbody>\n",
       "    <tr>\n",
       "      <td>0</td>\n",
       "      <td>0</td>\n",
       "      <td>Lisim78</td>\n",
       "      <td>20</td>\n",
       "      <td>Male</td>\n",
       "      <td>108</td>\n",
       "      <td>Extraction, Quickblade Of Trembling Hands</td>\n",
       "      <td>3.53</td>\n",
       "    </tr>\n",
       "    <tr>\n",
       "      <td>1</td>\n",
       "      <td>1</td>\n",
       "      <td>Lisovynya38</td>\n",
       "      <td>40</td>\n",
       "      <td>Male</td>\n",
       "      <td>143</td>\n",
       "      <td>Frenzied Scimitar</td>\n",
       "      <td>1.56</td>\n",
       "    </tr>\n",
       "    <tr>\n",
       "      <td>2</td>\n",
       "      <td>2</td>\n",
       "      <td>Ithergue48</td>\n",
       "      <td>24</td>\n",
       "      <td>Male</td>\n",
       "      <td>92</td>\n",
       "      <td>Final Critic</td>\n",
       "      <td>4.88</td>\n",
       "    </tr>\n",
       "    <tr>\n",
       "      <td>3</td>\n",
       "      <td>3</td>\n",
       "      <td>Chamassasya86</td>\n",
       "      <td>24</td>\n",
       "      <td>Male</td>\n",
       "      <td>100</td>\n",
       "      <td>Blindscythe</td>\n",
       "      <td>3.27</td>\n",
       "    </tr>\n",
       "    <tr>\n",
       "      <td>4</td>\n",
       "      <td>4</td>\n",
       "      <td>Iskosia90</td>\n",
       "      <td>23</td>\n",
       "      <td>Male</td>\n",
       "      <td>131</td>\n",
       "      <td>Fury</td>\n",
       "      <td>1.44</td>\n",
       "    </tr>\n",
       "  </tbody>\n",
       "</table>\n",
       "</div>"
      ],
      "text/plain": [
       "   Purchase ID             SN  Age Gender  Item ID  \\\n",
       "0            0        Lisim78   20   Male      108   \n",
       "1            1    Lisovynya38   40   Male      143   \n",
       "2            2     Ithergue48   24   Male       92   \n",
       "3            3  Chamassasya86   24   Male      100   \n",
       "4            4      Iskosia90   23   Male      131   \n",
       "\n",
       "                                   Item Name  Price  \n",
       "0  Extraction, Quickblade Of Trembling Hands   3.53  \n",
       "1                          Frenzied Scimitar   1.56  \n",
       "2                               Final Critic   4.88  \n",
       "3                                Blindscythe   3.27  \n",
       "4                                       Fury   1.44  "
      ]
     },
     "execution_count": 1,
     "metadata": {},
     "output_type": "execute_result"
    }
   ],
   "source": [
    "#IMPORT DEPENDENCIES\n",
    "import pandas as pd\n",
    "\n",
    "#IMPORT DATA FROM CSV\n",
    "data = \"Resources/purchase_data.csv\"\n",
    "\n",
    "#READ DATA\n",
    "data = pd.read_csv(data)\n",
    "data.head()"
   ]
  },
  {
   "cell_type": "markdown",
   "metadata": {},
   "source": [
    "## Player Count"
   ]
  },
  {
   "cell_type": "markdown",
   "metadata": {},
   "source": [
    "* Display the total number of players\n"
   ]
  },
  {
   "cell_type": "code",
   "execution_count": 2,
   "metadata": {},
   "outputs": [
    {
     "data": {
      "text/html": [
       "<div>\n",
       "<style scoped>\n",
       "    .dataframe tbody tr th:only-of-type {\n",
       "        vertical-align: middle;\n",
       "    }\n",
       "\n",
       "    .dataframe tbody tr th {\n",
       "        vertical-align: top;\n",
       "    }\n",
       "\n",
       "    .dataframe thead th {\n",
       "        text-align: right;\n",
       "    }\n",
       "</style>\n",
       "<table border=\"1\" class=\"dataframe\">\n",
       "  <thead>\n",
       "    <tr style=\"text-align: right;\">\n",
       "      <th></th>\n",
       "      <th>Total Players</th>\n",
       "    </tr>\n",
       "  </thead>\n",
       "  <tbody>\n",
       "    <tr>\n",
       "      <td>0</td>\n",
       "      <td>576</td>\n",
       "    </tr>\n",
       "  </tbody>\n",
       "</table>\n",
       "</div>"
      ],
      "text/plain": [
       "   Total Players\n",
       "0            576"
      ]
     },
     "execution_count": 2,
     "metadata": {},
     "output_type": "execute_result"
    }
   ],
   "source": [
    "#TOTAL NUMBER OF PLAYERS\n",
    "total_players = data[\"SN\"].nunique()\n",
    "\n",
    "#DF TOTAL NUMBER OF PLAYERS\n",
    "total_players_df = pd.DataFrame({\"Total Players\" : [total_players]})\n",
    "total_players_df"
   ]
  },
  {
   "cell_type": "markdown",
   "metadata": {},
   "source": [
    "## Purchasing Analysis (Total)"
   ]
  },
  {
   "cell_type": "markdown",
   "metadata": {},
   "source": [
    "* Run basic calculations to obtain number of unique items, average price, etc.\n",
    "\n",
    "\n",
    "* Create a summary data frame to hold the results\n",
    "\n",
    "\n",
    "* Optional: give the displayed data cleaner formatting\n",
    "\n",
    "\n",
    "* Display the summary data frame\n"
   ]
  },
  {
   "cell_type": "code",
   "execution_count": 3,
   "metadata": {
    "scrolled": true
   },
   "outputs": [
    {
     "name": "stdout",
     "output_type": "stream",
     "text": [
      "Total revenue: 2379.77\n"
     ]
    }
   ],
   "source": [
    "#CALCULATIONS\n",
    "number_unique_items = data[\"Item ID\"].nunique()\n",
    "average_price = round((data[\"Price\"]).mean() , 2)\n",
    "number_of_purchases = data[\"Purchase ID\"].count()\n",
    "total_revenue = data[\"Price\"].sum()\n",
    "total_revenue\n",
    "\n",
    "print(f\"Total revenue: {total_revenue}\")"
   ]
  },
  {
   "cell_type": "code",
   "execution_count": 4,
   "metadata": {},
   "outputs": [
    {
     "data": {
      "text/html": [
       "<style  type=\"text/css\" >\n",
       "</style><table id=\"T_52ffe270_9709_11ea_86c0_7cd1c387f1ba\" ><thead>    <tr>        <th class=\"blank level0\" ></th>        <th class=\"col_heading level0 col0\" >Number of Unique Items</th>        <th class=\"col_heading level0 col1\" >Average Price</th>        <th class=\"col_heading level0 col2\" >Number of Purchases</th>        <th class=\"col_heading level0 col3\" >Total Revenue</th>    </tr></thead><tbody>\n",
       "                <tr>\n",
       "                        <th id=\"T_52ffe270_9709_11ea_86c0_7cd1c387f1balevel0_row0\" class=\"row_heading level0 row0\" >0</th>\n",
       "                        <td id=\"T_52ffe270_9709_11ea_86c0_7cd1c387f1barow0_col0\" class=\"data row0 col0\" >179</td>\n",
       "                        <td id=\"T_52ffe270_9709_11ea_86c0_7cd1c387f1barow0_col1\" class=\"data row0 col1\" >$3.05</td>\n",
       "                        <td id=\"T_52ffe270_9709_11ea_86c0_7cd1c387f1barow0_col2\" class=\"data row0 col2\" >780</td>\n",
       "                        <td id=\"T_52ffe270_9709_11ea_86c0_7cd1c387f1barow0_col3\" class=\"data row0 col3\" >$2,379.77</td>\n",
       "            </tr>\n",
       "    </tbody></table>"
      ],
      "text/plain": [
       "<pandas.io.formats.style.Styler at 0x10f195cd0>"
      ]
     },
     "execution_count": 4,
     "metadata": {},
     "output_type": "execute_result"
    }
   ],
   "source": [
    "#DF OF CALCULATIONS - using lists of dictonaries\n",
    "purchasing_analysis_total_df = pd.DataFrame([{\"Number of Unique Items\" : number_unique_items ,\n",
    "                                              \"Average Price\" : average_price , \n",
    "                                              \"Number of Purchases\" : number_of_purchases , \n",
    "                                              \"Total Revenue\" : total_revenue}])\n",
    "\n",
    "#FORMAT CURRENCY\n",
    "purchasing_analysis_total_df = purchasing_analysis_total_df.style.format({'Average Price':\"${:,.2f}\" ,\n",
    "                                                                          'Total Revenue': '${:,.2f}'})\n",
    "#SHOW/PRINT\n",
    "purchasing_analysis_total_df"
   ]
  },
  {
   "cell_type": "markdown",
   "metadata": {},
   "source": [
    "## Gender Demographics"
   ]
  },
  {
   "cell_type": "markdown",
   "metadata": {},
   "source": [
    "* Percentage and Count of Male Players\n",
    "\n",
    "\n",
    "* Percentage and Count of Female Players\n",
    "\n",
    "\n",
    "* Percentage and Count of Other / Non-Disclosed\n",
    "\n",
    "\n"
   ]
  },
  {
   "cell_type": "code",
   "execution_count": 5,
   "metadata": {},
   "outputs": [
    {
     "name": "stdout",
     "output_type": "stream",
     "text": [
      "Total Males: 484\n",
      "Total Females: 81\n",
      "Total Other: 11\n"
     ]
    }
   ],
   "source": [
    "#CALCULATIONS\n",
    "\n",
    "#DROP DUPLICATE USERS BY COLUMN \"SN\" (screen name)\n",
    "data_2 = data.drop_duplicates(subset=\"SN\")\n",
    "\n",
    "#TOTALS BY GENDER - since I dropped dupplicates in previous step, I can just count all the genders listed.\n",
    "total_male = data_2[\"Gender\"].value_counts()['Male']\n",
    "total_female = data_2[\"Gender\"].value_counts()['Female']\n",
    "total_other = data_2[\"Gender\"].value_counts()['Other / Non-Disclosed']\n",
    "\n",
    "print(\n",
    "    f\"Total Males: {total_male}\\n\"\n",
    "    f\"Total Females: {total_female}\\n\"\n",
    "    f\"Total Other: {total_other}\")"
   ]
  },
  {
   "cell_type": "code",
   "execution_count": 6,
   "metadata": {},
   "outputs": [
    {
     "name": "stdout",
     "output_type": "stream",
     "text": [
      "Percent of Males: 84.00%\n",
      "Percent of Females: 14.00%\n",
      "Percent of Other: 2.00%\n"
     ]
    }
   ],
   "source": [
    "#PERCENTAGE OF TOTAL\n",
    "percentage_of_males = round(total_male/total_players , 2)\n",
    "percentage_of_males = format(percentage_of_males , \".2%\")\n",
    "    \n",
    "percentage_of_females = round(total_female/total_players , 2)\n",
    "percentage_of_females = format(percentage_of_females , \".2%\")\n",
    "    \n",
    "percentage_of_other = round(total_other/total_players , 2)\n",
    "percentage_of_other = format(percentage_of_other , \".2%\")\n",
    "    \n",
    "print(\n",
    "    f\"Percent of Males: {percentage_of_males}\\n\"\n",
    "    f\"Percent of Females: {percentage_of_females}\\n\"\n",
    "    f\"Percent of Other: {percentage_of_other}\")"
   ]
  },
  {
   "cell_type": "code",
   "execution_count": 35,
   "metadata": {},
   "outputs": [
    {
     "data": {
      "text/html": [
       "<div>\n",
       "<style scoped>\n",
       "    .dataframe tbody tr th:only-of-type {\n",
       "        vertical-align: middle;\n",
       "    }\n",
       "\n",
       "    .dataframe tbody tr th {\n",
       "        vertical-align: top;\n",
       "    }\n",
       "\n",
       "    .dataframe thead th {\n",
       "        text-align: right;\n",
       "    }\n",
       "</style>\n",
       "<table border=\"1\" class=\"dataframe\">\n",
       "  <thead>\n",
       "    <tr style=\"text-align: right;\">\n",
       "      <th></th>\n",
       "      <th>Gender</th>\n",
       "      <th>Total</th>\n",
       "      <th>Percent of Players</th>\n",
       "    </tr>\n",
       "  </thead>\n",
       "  <tbody>\n",
       "    <tr>\n",
       "      <td>0</td>\n",
       "      <td>Male</td>\n",
       "      <td>484</td>\n",
       "      <td>84.00%</td>\n",
       "    </tr>\n",
       "    <tr>\n",
       "      <td>1</td>\n",
       "      <td>Female</td>\n",
       "      <td>81</td>\n",
       "      <td>14.00%</td>\n",
       "    </tr>\n",
       "    <tr>\n",
       "      <td>2</td>\n",
       "      <td>Other / Non-Disclosed</td>\n",
       "      <td>11</td>\n",
       "      <td>2.00%</td>\n",
       "    </tr>\n",
       "  </tbody>\n",
       "</table>\n",
       "</div>"
      ],
      "text/plain": [
       "                  Gender  Total Percent of Players\n",
       "0                   Male    484             84.00%\n",
       "1                 Female     81             14.00%\n",
       "2  Other / Non-Disclosed     11              2.00%"
      ]
     },
     "execution_count": 35,
     "metadata": {},
     "output_type": "execute_result"
    }
   ],
   "source": [
    "#DF OF CALCULATIONS - using dictionary of lists.\n",
    "gender_demographics_df = pd.DataFrame({\n",
    "    \"Gender\": [\"Male\" , \"Female\" , \"Other / Non-Disclosed\",],\n",
    "    \"Total\": [total_male, total_female ,total_other,],\n",
    "    \"Percent of Players\": [percentage_of_males , percentage_of_females, percentage_of_other,]\n",
    "})\n",
    "\n",
    "gender_demographics_df"
   ]
  },
  {
   "cell_type": "markdown",
   "metadata": {},
   "source": [
    "\n",
    "## Purchasing Analysis (Gender)"
   ]
  },
  {
   "cell_type": "markdown",
   "metadata": {},
   "source": [
    "* Run basic calculations to obtain purchase count, avg. purchase price, avg. purchase total per person etc. by gender\n",
    "\n",
    "\n",
    "\n",
    "\n",
    "* Create a summary data frame to hold the results\n",
    "\n",
    "\n",
    "* Optional: give the displayed data cleaner formatting\n",
    "\n",
    "\n",
    "* Display the summary data frame"
   ]
  },
  {
   "cell_type": "code",
   "execution_count": 34,
   "metadata": {},
   "outputs": [
    {
     "data": {
      "text/html": [
       "<style  type=\"text/css\" >\n",
       "</style><table id=\"T_a7321858_970f_11ea_86c0_7cd1c387f1ba\" ><thead>    <tr>        <th class=\"blank level0\" ></th>        <th class=\"col_heading level0 col0\" >Purchase Count</th>        <th class=\"col_heading level0 col1\" >Percent of Purchases</th>        <th class=\"col_heading level0 col2\" >Average Purchase Mean</th>        <th class=\"col_heading level0 col3\" >Total Purchase Price</th>        <th class=\"col_heading level0 col4\" >Avg Total Purchase per Person</th>    </tr></thead><tbody>\n",
       "                <tr>\n",
       "                        <th id=\"T_a7321858_970f_11ea_86c0_7cd1c387f1balevel0_row0\" class=\"row_heading level0 row0\" >Female</th>\n",
       "                        <td id=\"T_a7321858_970f_11ea_86c0_7cd1c387f1barow0_col0\" class=\"data row0 col0\" >113</td>\n",
       "                        <td id=\"T_a7321858_970f_11ea_86c0_7cd1c387f1barow0_col1\" class=\"data row0 col1\" >14.00%</td>\n",
       "                        <td id=\"T_a7321858_970f_11ea_86c0_7cd1c387f1barow0_col2\" class=\"data row0 col2\" >$3.20</td>\n",
       "                        <td id=\"T_a7321858_970f_11ea_86c0_7cd1c387f1barow0_col3\" class=\"data row0 col3\" >$361.94</td>\n",
       "                        <td id=\"T_a7321858_970f_11ea_86c0_7cd1c387f1barow0_col4\" class=\"data row0 col4\" >$4.47</td>\n",
       "            </tr>\n",
       "            <tr>\n",
       "                        <th id=\"T_a7321858_970f_11ea_86c0_7cd1c387f1balevel0_row1\" class=\"row_heading level0 row1\" >Male</th>\n",
       "                        <td id=\"T_a7321858_970f_11ea_86c0_7cd1c387f1barow1_col0\" class=\"data row1 col0\" >652</td>\n",
       "                        <td id=\"T_a7321858_970f_11ea_86c0_7cd1c387f1barow1_col1\" class=\"data row1 col1\" >84.00%</td>\n",
       "                        <td id=\"T_a7321858_970f_11ea_86c0_7cd1c387f1barow1_col2\" class=\"data row1 col2\" >$3.02</td>\n",
       "                        <td id=\"T_a7321858_970f_11ea_86c0_7cd1c387f1barow1_col3\" class=\"data row1 col3\" >$1,967.64</td>\n",
       "                        <td id=\"T_a7321858_970f_11ea_86c0_7cd1c387f1barow1_col4\" class=\"data row1 col4\" >$4.07</td>\n",
       "            </tr>\n",
       "            <tr>\n",
       "                        <th id=\"T_a7321858_970f_11ea_86c0_7cd1c387f1balevel0_row2\" class=\"row_heading level0 row2\" >Other / Non-Disclosed</th>\n",
       "                        <td id=\"T_a7321858_970f_11ea_86c0_7cd1c387f1barow2_col0\" class=\"data row2 col0\" >15</td>\n",
       "                        <td id=\"T_a7321858_970f_11ea_86c0_7cd1c387f1barow2_col1\" class=\"data row2 col1\" >2.00%</td>\n",
       "                        <td id=\"T_a7321858_970f_11ea_86c0_7cd1c387f1barow2_col2\" class=\"data row2 col2\" >$3.35</td>\n",
       "                        <td id=\"T_a7321858_970f_11ea_86c0_7cd1c387f1barow2_col3\" class=\"data row2 col3\" >$50.19</td>\n",
       "                        <td id=\"T_a7321858_970f_11ea_86c0_7cd1c387f1barow2_col4\" class=\"data row2 col4\" >$4.56</td>\n",
       "            </tr>\n",
       "    </tbody></table>"
      ],
      "text/plain": [
       "<pandas.io.formats.style.Styler at 0x12219c9d0>"
      ]
     },
     "execution_count": 34,
     "metadata": {},
     "output_type": "execute_result"
    }
   ],
   "source": [
    "#CALCULATIONS\n",
    "gender_purchases_count = data.Gender.value_counts()\n",
    "gender_purchases_mean = round(data.groupby([\"Gender\"]).mean()[\"Price\"] , 2)\n",
    "gender_purchases_sum = data.groupby([\"Gender\"]).sum()[\"Price\"]\n",
    "avg_total_purch_per_person = round(gender_purchases_sum/gender_demographics_df.set_index('Gender')['Total'] , 2)\n",
    "#EXTRA CALCULATION- PERCENT OF TOTAL PURCHASES BY GENDER\n",
    "percent_of_purchases = round(gender_purchases_count/gender_purchases_count.sum(), 2) * 100\n",
    "percent_of_purchases\n",
    "\n",
    "#DF OF CALCULATIONS - using dictionary of lists.\n",
    "purch_analysis_gender_df = pd.DataFrame({\"Purchase Count\" : gender_purchases_count,\n",
    "                                         \"Percent of Purchases\" : percent_of_purchases,#EXTRA COLUMN\n",
    "                                         \"Average Purchase Mean\" : gender_purchases_mean,\n",
    "                                         \"Total Purchase Price\" : gender_purchases_sum,\n",
    "                                         \"Avg Total Purchase per Person\" : avg_total_purch_per_person})\n",
    "\n",
    "purch_analysis_gender_df.style.format({\"Average Purchase Mean\":\"${:,.2f}\",\n",
    "                                       \"Total Purchase Price\":\"${:,.2f}\",\n",
    "                                       \"Avg Total Purchase per Person\":\"${:,.2f}\",\n",
    "                                       \"Percent of Purchases\":\"{:,.2f}%\"})"
   ]
  },
  {
   "cell_type": "markdown",
   "metadata": {},
   "source": [
    "## Age Demographics"
   ]
  },
  {
   "cell_type": "markdown",
   "metadata": {},
   "source": [
    "* Establish bins for ages\n",
    "\n",
    "\n",
    "* Categorize the existing players using the age bins. Hint: use pd.cut()\n",
    "\n",
    "\n",
    "* Calculate the numbers and percentages by age group\n",
    "\n",
    "\n",
    "* Create a summary data frame to hold the results\n",
    "\n",
    "\n",
    "* Optional: round the percentage column to two decimal points\n",
    "\n",
    "\n",
    "* Display Age Demographics Table\n"
   ]
  },
  {
   "cell_type": "code",
   "execution_count": 10,
   "metadata": {},
   "outputs": [
    {
     "data": {
      "text/html": [
       "<style  type=\"text/css\" >\n",
       "</style><table id=\"T_580f075a_9709_11ea_86c0_7cd1c387f1ba\" ><thead>    <tr>        <th class=\"blank level0\" ></th>        <th class=\"col_heading level0 col0\" >Players In Age Group</th>        <th class=\"col_heading level0 col1\" >Percentage of Total</th>    </tr>    <tr>        <th class=\"index_name level0\" >Age Group</th>        <th class=\"blank\" ></th>        <th class=\"blank\" ></th>    </tr></thead><tbody>\n",
       "                <tr>\n",
       "                        <th id=\"T_580f075a_9709_11ea_86c0_7cd1c387f1balevel0_row0\" class=\"row_heading level0 row0\" ><10</th>\n",
       "                        <td id=\"T_580f075a_9709_11ea_86c0_7cd1c387f1barow0_col0\" class=\"data row0 col0\" >17</td>\n",
       "                        <td id=\"T_580f075a_9709_11ea_86c0_7cd1c387f1barow0_col1\" class=\"data row0 col1\" >2.95%</td>\n",
       "            </tr>\n",
       "            <tr>\n",
       "                        <th id=\"T_580f075a_9709_11ea_86c0_7cd1c387f1balevel0_row1\" class=\"row_heading level0 row1\" >10-14</th>\n",
       "                        <td id=\"T_580f075a_9709_11ea_86c0_7cd1c387f1barow1_col0\" class=\"data row1 col0\" >22</td>\n",
       "                        <td id=\"T_580f075a_9709_11ea_86c0_7cd1c387f1barow1_col1\" class=\"data row1 col1\" >3.82%</td>\n",
       "            </tr>\n",
       "            <tr>\n",
       "                        <th id=\"T_580f075a_9709_11ea_86c0_7cd1c387f1balevel0_row2\" class=\"row_heading level0 row2\" >15-19</th>\n",
       "                        <td id=\"T_580f075a_9709_11ea_86c0_7cd1c387f1barow2_col0\" class=\"data row2 col0\" >107</td>\n",
       "                        <td id=\"T_580f075a_9709_11ea_86c0_7cd1c387f1barow2_col1\" class=\"data row2 col1\" >18.58%</td>\n",
       "            </tr>\n",
       "            <tr>\n",
       "                        <th id=\"T_580f075a_9709_11ea_86c0_7cd1c387f1balevel0_row3\" class=\"row_heading level0 row3\" >20-24</th>\n",
       "                        <td id=\"T_580f075a_9709_11ea_86c0_7cd1c387f1barow3_col0\" class=\"data row3 col0\" >258</td>\n",
       "                        <td id=\"T_580f075a_9709_11ea_86c0_7cd1c387f1barow3_col1\" class=\"data row3 col1\" >44.79%</td>\n",
       "            </tr>\n",
       "            <tr>\n",
       "                        <th id=\"T_580f075a_9709_11ea_86c0_7cd1c387f1balevel0_row4\" class=\"row_heading level0 row4\" >25-29</th>\n",
       "                        <td id=\"T_580f075a_9709_11ea_86c0_7cd1c387f1barow4_col0\" class=\"data row4 col0\" >77</td>\n",
       "                        <td id=\"T_580f075a_9709_11ea_86c0_7cd1c387f1barow4_col1\" class=\"data row4 col1\" >13.37%</td>\n",
       "            </tr>\n",
       "            <tr>\n",
       "                        <th id=\"T_580f075a_9709_11ea_86c0_7cd1c387f1balevel0_row5\" class=\"row_heading level0 row5\" >30-34</th>\n",
       "                        <td id=\"T_580f075a_9709_11ea_86c0_7cd1c387f1barow5_col0\" class=\"data row5 col0\" >52</td>\n",
       "                        <td id=\"T_580f075a_9709_11ea_86c0_7cd1c387f1barow5_col1\" class=\"data row5 col1\" >9.03%</td>\n",
       "            </tr>\n",
       "            <tr>\n",
       "                        <th id=\"T_580f075a_9709_11ea_86c0_7cd1c387f1balevel0_row6\" class=\"row_heading level0 row6\" >35-39</th>\n",
       "                        <td id=\"T_580f075a_9709_11ea_86c0_7cd1c387f1barow6_col0\" class=\"data row6 col0\" >31</td>\n",
       "                        <td id=\"T_580f075a_9709_11ea_86c0_7cd1c387f1barow6_col1\" class=\"data row6 col1\" >5.38%</td>\n",
       "            </tr>\n",
       "            <tr>\n",
       "                        <th id=\"T_580f075a_9709_11ea_86c0_7cd1c387f1balevel0_row7\" class=\"row_heading level0 row7\" >40+</th>\n",
       "                        <td id=\"T_580f075a_9709_11ea_86c0_7cd1c387f1barow7_col0\" class=\"data row7 col0\" >12</td>\n",
       "                        <td id=\"T_580f075a_9709_11ea_86c0_7cd1c387f1barow7_col1\" class=\"data row7 col1\" >2.08%</td>\n",
       "            </tr>\n",
       "    </tbody></table>"
      ],
      "text/plain": [
       "<pandas.io.formats.style.Styler at 0x10f1995d0>"
      ]
     },
     "execution_count": 10,
     "metadata": {},
     "output_type": "execute_result"
    }
   ],
   "source": [
    "#ESTABLISH AGE BINS AND GROUPS(index)\n",
    "age_bins = [0, 9.99, 14.99, 19.99, 24.99, 29.99, 34.99, 39.99, 149.99]\n",
    "group_names = [\"<10\", \"10-14\", \"15-19\", \"20-24\", \"25-29\", \"30-34\", \"35-39\", \"40+\"]\n",
    "\n",
    "#DISTRIBUTE THE AGES TO THEIR BINS\n",
    "data[\"Age Group\"] = pd.cut(data[\"Age\"],age_bins, labels=group_names)\n",
    "data\n",
    "\n",
    "#ADD \"Age Group\" AS A COLUMN TO MY ORIGINAL DF \"data\"\n",
    "age_group = data.groupby(\"Age Group\")\n",
    "\n",
    "#GET UNIQUE PLAYERS BY AGE GROUP\n",
    "total_count_age = age_group[\"SN\"].nunique()\n",
    "\n",
    "#CALCULATE TOTALS AND PERCENTAGES BY AGE GROUP\n",
    "percentage_by_age = (total_count_age/total_players) * 100\n",
    "\n",
    "#CREATE DF WITH DATA\n",
    "age_demographics_df = pd.DataFrame({\"Players In Age Group\" : total_count_age,\n",
    "                                    \"Percentage of Total\" : percentage_by_age})\n",
    "\n",
    "#FORMATING\n",
    "age_demographics_df.index.name = \"Age Group\"\n",
    "age_demographics_df.style.format({\"Percentage of Total\":\"{:,.2f}%\"})"
   ]
  },
  {
   "cell_type": "markdown",
   "metadata": {},
   "source": [
    "## Purchasing Analysis (Age)"
   ]
  },
  {
   "cell_type": "markdown",
   "metadata": {},
   "source": [
    "* Bin the purchase_data data frame by age\n",
    "\n",
    "\n",
    "* Run basic calculations to obtain purchase count, avg. purchase price, avg. purchase total per person etc. in the table below\n",
    "\n",
    "\n",
    "* Create a summary data frame to hold the results\n",
    "\n",
    "\n",
    "* Optional: give the displayed data cleaner formatting\n",
    "\n",
    "\n",
    "* Display the summary data frame"
   ]
  },
  {
   "cell_type": "code",
   "execution_count": 11,
   "metadata": {},
   "outputs": [
    {
     "data": {
      "text/html": [
       "<style  type=\"text/css\" >\n",
       "</style><table id=\"T_59aeec74_9709_11ea_86c0_7cd1c387f1ba\" ><thead>    <tr>        <th class=\"blank level0\" ></th>        <th class=\"col_heading level0 col0\" >Purchase Count</th>        <th class=\"col_heading level0 col1\" >Avg Purchase Price</th>        <th class=\"col_heading level0 col2\" >Total Purchase Value</th>        <th class=\"col_heading level0 col3\" >Avg Purchase Total per Person</th>    </tr>    <tr>        <th class=\"index_name level0\" >Age Group</th>        <th class=\"blank\" ></th>        <th class=\"blank\" ></th>        <th class=\"blank\" ></th>        <th class=\"blank\" ></th>    </tr></thead><tbody>\n",
       "                <tr>\n",
       "                        <th id=\"T_59aeec74_9709_11ea_86c0_7cd1c387f1balevel0_row0\" class=\"row_heading level0 row0\" ><10</th>\n",
       "                        <td id=\"T_59aeec74_9709_11ea_86c0_7cd1c387f1barow0_col0\" class=\"data row0 col0\" >23</td>\n",
       "                        <td id=\"T_59aeec74_9709_11ea_86c0_7cd1c387f1barow0_col1\" class=\"data row0 col1\" >$3.35</td>\n",
       "                        <td id=\"T_59aeec74_9709_11ea_86c0_7cd1c387f1barow0_col2\" class=\"data row0 col2\" >$77.13</td>\n",
       "                        <td id=\"T_59aeec74_9709_11ea_86c0_7cd1c387f1barow0_col3\" class=\"data row0 col3\" >$4.54</td>\n",
       "            </tr>\n",
       "            <tr>\n",
       "                        <th id=\"T_59aeec74_9709_11ea_86c0_7cd1c387f1balevel0_row1\" class=\"row_heading level0 row1\" >10-14</th>\n",
       "                        <td id=\"T_59aeec74_9709_11ea_86c0_7cd1c387f1barow1_col0\" class=\"data row1 col0\" >28</td>\n",
       "                        <td id=\"T_59aeec74_9709_11ea_86c0_7cd1c387f1barow1_col1\" class=\"data row1 col1\" >$2.96</td>\n",
       "                        <td id=\"T_59aeec74_9709_11ea_86c0_7cd1c387f1barow1_col2\" class=\"data row1 col2\" >$82.78</td>\n",
       "                        <td id=\"T_59aeec74_9709_11ea_86c0_7cd1c387f1barow1_col3\" class=\"data row1 col3\" >$3.76</td>\n",
       "            </tr>\n",
       "            <tr>\n",
       "                        <th id=\"T_59aeec74_9709_11ea_86c0_7cd1c387f1balevel0_row2\" class=\"row_heading level0 row2\" >15-19</th>\n",
       "                        <td id=\"T_59aeec74_9709_11ea_86c0_7cd1c387f1barow2_col0\" class=\"data row2 col0\" >136</td>\n",
       "                        <td id=\"T_59aeec74_9709_11ea_86c0_7cd1c387f1barow2_col1\" class=\"data row2 col1\" >$3.04</td>\n",
       "                        <td id=\"T_59aeec74_9709_11ea_86c0_7cd1c387f1barow2_col2\" class=\"data row2 col2\" >$412.89</td>\n",
       "                        <td id=\"T_59aeec74_9709_11ea_86c0_7cd1c387f1barow2_col3\" class=\"data row2 col3\" >$3.86</td>\n",
       "            </tr>\n",
       "            <tr>\n",
       "                        <th id=\"T_59aeec74_9709_11ea_86c0_7cd1c387f1balevel0_row3\" class=\"row_heading level0 row3\" >20-24</th>\n",
       "                        <td id=\"T_59aeec74_9709_11ea_86c0_7cd1c387f1barow3_col0\" class=\"data row3 col0\" >365</td>\n",
       "                        <td id=\"T_59aeec74_9709_11ea_86c0_7cd1c387f1barow3_col1\" class=\"data row3 col1\" >$3.05</td>\n",
       "                        <td id=\"T_59aeec74_9709_11ea_86c0_7cd1c387f1barow3_col2\" class=\"data row3 col2\" >$1,114.06</td>\n",
       "                        <td id=\"T_59aeec74_9709_11ea_86c0_7cd1c387f1barow3_col3\" class=\"data row3 col3\" >$4.32</td>\n",
       "            </tr>\n",
       "            <tr>\n",
       "                        <th id=\"T_59aeec74_9709_11ea_86c0_7cd1c387f1balevel0_row4\" class=\"row_heading level0 row4\" >25-29</th>\n",
       "                        <td id=\"T_59aeec74_9709_11ea_86c0_7cd1c387f1barow4_col0\" class=\"data row4 col0\" >101</td>\n",
       "                        <td id=\"T_59aeec74_9709_11ea_86c0_7cd1c387f1barow4_col1\" class=\"data row4 col1\" >$2.90</td>\n",
       "                        <td id=\"T_59aeec74_9709_11ea_86c0_7cd1c387f1barow4_col2\" class=\"data row4 col2\" >$293.00</td>\n",
       "                        <td id=\"T_59aeec74_9709_11ea_86c0_7cd1c387f1barow4_col3\" class=\"data row4 col3\" >$3.81</td>\n",
       "            </tr>\n",
       "            <tr>\n",
       "                        <th id=\"T_59aeec74_9709_11ea_86c0_7cd1c387f1balevel0_row5\" class=\"row_heading level0 row5\" >30-34</th>\n",
       "                        <td id=\"T_59aeec74_9709_11ea_86c0_7cd1c387f1barow5_col0\" class=\"data row5 col0\" >73</td>\n",
       "                        <td id=\"T_59aeec74_9709_11ea_86c0_7cd1c387f1barow5_col1\" class=\"data row5 col1\" >$2.93</td>\n",
       "                        <td id=\"T_59aeec74_9709_11ea_86c0_7cd1c387f1barow5_col2\" class=\"data row5 col2\" >$214.00</td>\n",
       "                        <td id=\"T_59aeec74_9709_11ea_86c0_7cd1c387f1barow5_col3\" class=\"data row5 col3\" >$4.12</td>\n",
       "            </tr>\n",
       "            <tr>\n",
       "                        <th id=\"T_59aeec74_9709_11ea_86c0_7cd1c387f1balevel0_row6\" class=\"row_heading level0 row6\" >35-39</th>\n",
       "                        <td id=\"T_59aeec74_9709_11ea_86c0_7cd1c387f1barow6_col0\" class=\"data row6 col0\" >41</td>\n",
       "                        <td id=\"T_59aeec74_9709_11ea_86c0_7cd1c387f1barow6_col1\" class=\"data row6 col1\" >$3.60</td>\n",
       "                        <td id=\"T_59aeec74_9709_11ea_86c0_7cd1c387f1barow6_col2\" class=\"data row6 col2\" >$147.67</td>\n",
       "                        <td id=\"T_59aeec74_9709_11ea_86c0_7cd1c387f1barow6_col3\" class=\"data row6 col3\" >$4.76</td>\n",
       "            </tr>\n",
       "            <tr>\n",
       "                        <th id=\"T_59aeec74_9709_11ea_86c0_7cd1c387f1balevel0_row7\" class=\"row_heading level0 row7\" >40+</th>\n",
       "                        <td id=\"T_59aeec74_9709_11ea_86c0_7cd1c387f1barow7_col0\" class=\"data row7 col0\" >13</td>\n",
       "                        <td id=\"T_59aeec74_9709_11ea_86c0_7cd1c387f1barow7_col1\" class=\"data row7 col1\" >$2.94</td>\n",
       "                        <td id=\"T_59aeec74_9709_11ea_86c0_7cd1c387f1barow7_col2\" class=\"data row7 col2\" >$38.24</td>\n",
       "                        <td id=\"T_59aeec74_9709_11ea_86c0_7cd1c387f1barow7_col3\" class=\"data row7 col3\" >$3.19</td>\n",
       "            </tr>\n",
       "    </tbody></table>"
      ],
      "text/plain": [
       "<pandas.io.formats.style.Styler at 0x11fda9910>"
      ]
     },
     "execution_count": 11,
     "metadata": {},
     "output_type": "execute_result"
    }
   ],
   "source": [
    "#CALCULATIONS\n",
    "\n",
    "#COUNT PURCHASES BY AGE GROUP\n",
    "purchase_count_age = age_group[\"Purchase ID\"].count()\n",
    "\n",
    "#AVERAGE PURCHASES BY AGE GROUP\n",
    "avg_purchase_price_age = age_group[\"Price\"].mean()\n",
    "\n",
    "#TOTAL PURCHASES BY AGE GROUP\n",
    "total_purchase_value = age_group[\"Price\"].sum()\n",
    "\n",
    "#AVERAGE PURCHASES PER PERSON WITHIN AGE GROUP\n",
    "avg_purchase_per_person_age = total_purchase_value/total_count_age\n",
    "\n",
    "#CREATE DF WITH DATA\n",
    "age_demographics = pd.DataFrame({\"Purchase Count\": purchase_count_age,\n",
    "                                 \"Avg Purchase Price\": avg_purchase_price_age,\n",
    "                                 \"Total Purchase Value\":total_purchase_value,\n",
    "                                 \"Avg Purchase Total per Person\": avg_purchase_per_person_age})\n",
    "\n",
    "#FORMATTING\n",
    "age_demographics.index.name = \"Age Group\"\n",
    "age_demographics.style.format({\"Avg Purchase Price\":\"${:,.2f}\",\n",
    "                               \"Total Purchase Value\":\"${:,.2f}\",\n",
    "                               \"Avg Purchase Total per Person\":\"${:,.2f}\"})"
   ]
  },
  {
   "cell_type": "markdown",
   "metadata": {},
   "source": [
    "## Top Spenders"
   ]
  },
  {
   "cell_type": "markdown",
   "metadata": {},
   "source": [
    "* Run basic calculations to obtain the results in the table below\n",
    "\n",
    "\n",
    "* Create a summary data frame to hold the results\n",
    "\n",
    "\n",
    "* Sort the total purchase value column in descending order\n",
    "\n",
    "\n",
    "* Optional: give the displayed data cleaner formatting\n",
    "\n",
    "\n",
    "* Display a preview of the summary data frame\n",
    "\n"
   ]
  },
  {
   "cell_type": "code",
   "execution_count": 12,
   "metadata": {},
   "outputs": [
    {
     "data": {
      "text/html": [
       "<div>\n",
       "<style scoped>\n",
       "    .dataframe tbody tr th:only-of-type {\n",
       "        vertical-align: middle;\n",
       "    }\n",
       "\n",
       "    .dataframe tbody tr th {\n",
       "        vertical-align: top;\n",
       "    }\n",
       "\n",
       "    .dataframe thead th {\n",
       "        text-align: right;\n",
       "    }\n",
       "</style>\n",
       "<table border=\"1\" class=\"dataframe\">\n",
       "  <thead>\n",
       "    <tr style=\"text-align: right;\">\n",
       "      <th></th>\n",
       "      <th>Purchase ID</th>\n",
       "      <th>SN</th>\n",
       "      <th>Age</th>\n",
       "      <th>Gender</th>\n",
       "      <th>Item ID</th>\n",
       "      <th>Item Name</th>\n",
       "      <th>Price</th>\n",
       "      <th>Age Group</th>\n",
       "    </tr>\n",
       "  </thead>\n",
       "  <tbody>\n",
       "  </tbody>\n",
       "</table>\n",
       "</div>"
      ],
      "text/plain": [
       "Empty DataFrame\n",
       "Columns: [Purchase ID, SN, Age, Gender, Item ID, Item Name, Price, Age Group]\n",
       "Index: []"
      ]
     },
     "execution_count": 12,
     "metadata": {},
     "output_type": "execute_result"
    }
   ],
   "source": [
    "data.head(0)"
   ]
  },
  {
   "cell_type": "code",
   "execution_count": 13,
   "metadata": {},
   "outputs": [
    {
     "data": {
      "text/html": [
       "<style  type=\"text/css\" >\n",
       "</style><table id=\"T_5e62b6ce_9709_11ea_86c0_7cd1c387f1ba\" ><thead>    <tr>        <th class=\"blank level0\" ></th>        <th class=\"col_heading level0 col0\" >Purchase Count</th>        <th class=\"col_heading level0 col1\" >Average Purchase Price</th>        <th class=\"col_heading level0 col2\" >Total Purchase Value</th>    </tr>    <tr>        <th class=\"index_name level0\" >SN</th>        <th class=\"blank\" ></th>        <th class=\"blank\" ></th>        <th class=\"blank\" ></th>    </tr></thead><tbody>\n",
       "                <tr>\n",
       "                        <th id=\"T_5e62b6ce_9709_11ea_86c0_7cd1c387f1balevel0_row0\" class=\"row_heading level0 row0\" >Lisosia93</th>\n",
       "                        <td id=\"T_5e62b6ce_9709_11ea_86c0_7cd1c387f1barow0_col0\" class=\"data row0 col0\" >5</td>\n",
       "                        <td id=\"T_5e62b6ce_9709_11ea_86c0_7cd1c387f1barow0_col1\" class=\"data row0 col1\" >$18.96</td>\n",
       "                        <td id=\"T_5e62b6ce_9709_11ea_86c0_7cd1c387f1barow0_col2\" class=\"data row0 col2\" >$18.96</td>\n",
       "            </tr>\n",
       "            <tr>\n",
       "                        <th id=\"T_5e62b6ce_9709_11ea_86c0_7cd1c387f1balevel0_row1\" class=\"row_heading level0 row1\" >Idastidru52</th>\n",
       "                        <td id=\"T_5e62b6ce_9709_11ea_86c0_7cd1c387f1barow1_col0\" class=\"data row1 col0\" >4</td>\n",
       "                        <td id=\"T_5e62b6ce_9709_11ea_86c0_7cd1c387f1barow1_col1\" class=\"data row1 col1\" >$15.45</td>\n",
       "                        <td id=\"T_5e62b6ce_9709_11ea_86c0_7cd1c387f1barow1_col2\" class=\"data row1 col2\" >$15.45</td>\n",
       "            </tr>\n",
       "            <tr>\n",
       "                        <th id=\"T_5e62b6ce_9709_11ea_86c0_7cd1c387f1balevel0_row2\" class=\"row_heading level0 row2\" >Chamjask73</th>\n",
       "                        <td id=\"T_5e62b6ce_9709_11ea_86c0_7cd1c387f1barow2_col0\" class=\"data row2 col0\" >3</td>\n",
       "                        <td id=\"T_5e62b6ce_9709_11ea_86c0_7cd1c387f1barow2_col1\" class=\"data row2 col1\" >$13.83</td>\n",
       "                        <td id=\"T_5e62b6ce_9709_11ea_86c0_7cd1c387f1barow2_col2\" class=\"data row2 col2\" >$13.83</td>\n",
       "            </tr>\n",
       "            <tr>\n",
       "                        <th id=\"T_5e62b6ce_9709_11ea_86c0_7cd1c387f1balevel0_row3\" class=\"row_heading level0 row3\" >Iral74</th>\n",
       "                        <td id=\"T_5e62b6ce_9709_11ea_86c0_7cd1c387f1barow3_col0\" class=\"data row3 col0\" >4</td>\n",
       "                        <td id=\"T_5e62b6ce_9709_11ea_86c0_7cd1c387f1barow3_col1\" class=\"data row3 col1\" >$13.62</td>\n",
       "                        <td id=\"T_5e62b6ce_9709_11ea_86c0_7cd1c387f1barow3_col2\" class=\"data row3 col2\" >$13.62</td>\n",
       "            </tr>\n",
       "            <tr>\n",
       "                        <th id=\"T_5e62b6ce_9709_11ea_86c0_7cd1c387f1balevel0_row4\" class=\"row_heading level0 row4\" >Iskadarya95</th>\n",
       "                        <td id=\"T_5e62b6ce_9709_11ea_86c0_7cd1c387f1barow4_col0\" class=\"data row4 col0\" >3</td>\n",
       "                        <td id=\"T_5e62b6ce_9709_11ea_86c0_7cd1c387f1barow4_col1\" class=\"data row4 col1\" >$13.10</td>\n",
       "                        <td id=\"T_5e62b6ce_9709_11ea_86c0_7cd1c387f1barow4_col2\" class=\"data row4 col2\" >$13.10</td>\n",
       "            </tr>\n",
       "    </tbody></table>"
      ],
      "text/plain": [
       "<pandas.io.formats.style.Styler at 0x11fe54a50>"
      ]
     },
     "execution_count": 13,
     "metadata": {},
     "output_type": "execute_result"
    }
   ],
   "source": [
    "#CALCULATIONS\n",
    "\n",
    "#GROUP PURCHASES BY PLAYER\n",
    "players_grouped = data.groupby(\"SN\")\n",
    "\n",
    "#COUNT PURCHASES BY PLAYER\n",
    "puchase_count_player = players_grouped[\"Purchase ID\"].count()\n",
    "\n",
    "#AVERAGE PURCHASE PRICE BY PLAYER\n",
    "puchase_average_player = players_grouped[\"Price\"].mean()\n",
    "\n",
    "#TOTAL PURCHASE VALUE BY PLAYER\n",
    "puchase_total_player = players_grouped[\"Price\"].sum()\n",
    "\n",
    "#CREATE DF WITH DATA\n",
    "top_spenders_df = pd.DataFrame({\"Purchase Count\" : puchase_count_player,\n",
    "                                \"Average Purchase Price\" : puchase_total_player,\n",
    "                                \"Total Purchase Value\" : puchase_total_player})\n",
    "\n",
    "#SORT \"TOTAL PURCHASE VALUE\" COLUMN IN DECENDING ORDER TO GET TOP 5 SPENDERS\n",
    "top_spenders_df = top_spenders_df.sort_values([\"Total Purchase Value\"] , ascending=False).head()\n",
    "\n",
    "#FORMATTING\n",
    "top_spenders_df.style.format({\"Average Purchase Price\":\"${:,.2f}\",\n",
    "                              \"Total Purchase Value\":\"${:,.2f}\"})"
   ]
  },
  {
   "cell_type": "markdown",
   "metadata": {},
   "source": [
    "## Most Popular Items"
   ]
  },
  {
   "cell_type": "markdown",
   "metadata": {},
   "source": [
    "* Retrieve the Item ID, Item Name, and Item Price columns\n",
    "\n",
    "\n",
    "* Group by Item ID and Item Name. Perform calculations to obtain purchase count, item price, and total purchase value\n",
    "\n",
    "\n",
    "* Create a summary data frame to hold the results\n",
    "\n",
    "\n",
    "* Sort the purchase count column in descending order\n",
    "\n",
    "\n",
    "* Optional: give the displayed data cleaner formatting\n",
    "\n",
    "\n",
    "* Display a preview of the summary data frame\n",
    "\n"
   ]
  },
  {
   "cell_type": "code",
   "execution_count": 14,
   "metadata": {},
   "outputs": [
    {
     "data": {
      "text/html": [
       "<div>\n",
       "<style scoped>\n",
       "    .dataframe tbody tr th:only-of-type {\n",
       "        vertical-align: middle;\n",
       "    }\n",
       "\n",
       "    .dataframe tbody tr th {\n",
       "        vertical-align: top;\n",
       "    }\n",
       "\n",
       "    .dataframe thead th {\n",
       "        text-align: right;\n",
       "    }\n",
       "</style>\n",
       "<table border=\"1\" class=\"dataframe\">\n",
       "  <thead>\n",
       "    <tr style=\"text-align: right;\">\n",
       "      <th></th>\n",
       "      <th>Purchase ID</th>\n",
       "      <th>SN</th>\n",
       "      <th>Age</th>\n",
       "      <th>Gender</th>\n",
       "      <th>Item ID</th>\n",
       "      <th>Item Name</th>\n",
       "      <th>Price</th>\n",
       "      <th>Age Group</th>\n",
       "    </tr>\n",
       "  </thead>\n",
       "  <tbody>\n",
       "  </tbody>\n",
       "</table>\n",
       "</div>"
      ],
      "text/plain": [
       "Empty DataFrame\n",
       "Columns: [Purchase ID, SN, Age, Gender, Item ID, Item Name, Price, Age Group]\n",
       "Index: []"
      ]
     },
     "execution_count": 14,
     "metadata": {},
     "output_type": "execute_result"
    }
   ],
   "source": [
    "data.head(0)"
   ]
  },
  {
   "cell_type": "code",
   "execution_count": 36,
   "metadata": {},
   "outputs": [
    {
     "data": {
      "text/html": [
       "<style  type=\"text/css\" >\n",
       "</style><table id=\"T_525130a6_9711_11ea_86c0_7cd1c387f1ba\" ><thead>    <tr>        <th class=\"blank\" ></th>        <th class=\"blank level0\" ></th>        <th class=\"col_heading level0 col0\" >Purchase Count</th>        <th class=\"col_heading level0 col1\" >Item Price</th>        <th class=\"col_heading level0 col2\" >Total Purchase Value</th>    </tr>    <tr>        <th class=\"index_name level0\" >Item ID</th>        <th class=\"index_name level1\" >Item Name</th>        <th class=\"blank\" ></th>        <th class=\"blank\" ></th>        <th class=\"blank\" ></th>    </tr></thead><tbody>\n",
       "                <tr>\n",
       "                        <th id=\"T_525130a6_9711_11ea_86c0_7cd1c387f1balevel0_row0\" class=\"row_heading level0 row0\" >92</th>\n",
       "                        <th id=\"T_525130a6_9711_11ea_86c0_7cd1c387f1balevel1_row0\" class=\"row_heading level1 row0\" >Final Critic</th>\n",
       "                        <td id=\"T_525130a6_9711_11ea_86c0_7cd1c387f1barow0_col0\" class=\"data row0 col0\" >13</td>\n",
       "                        <td id=\"T_525130a6_9711_11ea_86c0_7cd1c387f1barow0_col1\" class=\"data row0 col1\" >$4.61</td>\n",
       "                        <td id=\"T_525130a6_9711_11ea_86c0_7cd1c387f1barow0_col2\" class=\"data row0 col2\" >$59.99</td>\n",
       "            </tr>\n",
       "            <tr>\n",
       "                        <th id=\"T_525130a6_9711_11ea_86c0_7cd1c387f1balevel0_row1\" class=\"row_heading level0 row1\" >178</th>\n",
       "                        <th id=\"T_525130a6_9711_11ea_86c0_7cd1c387f1balevel1_row1\" class=\"row_heading level1 row1\" >Oathbreaker, Last Hope of the Breaking Storm</th>\n",
       "                        <td id=\"T_525130a6_9711_11ea_86c0_7cd1c387f1barow1_col0\" class=\"data row1 col0\" >12</td>\n",
       "                        <td id=\"T_525130a6_9711_11ea_86c0_7cd1c387f1barow1_col1\" class=\"data row1 col1\" >$4.23</td>\n",
       "                        <td id=\"T_525130a6_9711_11ea_86c0_7cd1c387f1barow1_col2\" class=\"data row1 col2\" >$50.76</td>\n",
       "            </tr>\n",
       "            <tr>\n",
       "                        <th id=\"T_525130a6_9711_11ea_86c0_7cd1c387f1balevel0_row2\" class=\"row_heading level0 row2\" >145</th>\n",
       "                        <th id=\"T_525130a6_9711_11ea_86c0_7cd1c387f1balevel1_row2\" class=\"row_heading level1 row2\" >Fiery Glass Crusader</th>\n",
       "                        <td id=\"T_525130a6_9711_11ea_86c0_7cd1c387f1barow2_col0\" class=\"data row2 col0\" >9</td>\n",
       "                        <td id=\"T_525130a6_9711_11ea_86c0_7cd1c387f1barow2_col1\" class=\"data row2 col1\" >$4.58</td>\n",
       "                        <td id=\"T_525130a6_9711_11ea_86c0_7cd1c387f1barow2_col2\" class=\"data row2 col2\" >$41.22</td>\n",
       "            </tr>\n",
       "            <tr>\n",
       "                        <th id=\"T_525130a6_9711_11ea_86c0_7cd1c387f1balevel0_row3\" class=\"row_heading level0 row3\" >132</th>\n",
       "                        <th id=\"T_525130a6_9711_11ea_86c0_7cd1c387f1balevel1_row3\" class=\"row_heading level1 row3\" >Persuasion</th>\n",
       "                        <td id=\"T_525130a6_9711_11ea_86c0_7cd1c387f1barow3_col0\" class=\"data row3 col0\" >9</td>\n",
       "                        <td id=\"T_525130a6_9711_11ea_86c0_7cd1c387f1barow3_col1\" class=\"data row3 col1\" >$3.22</td>\n",
       "                        <td id=\"T_525130a6_9711_11ea_86c0_7cd1c387f1barow3_col2\" class=\"data row3 col2\" >$28.99</td>\n",
       "            </tr>\n",
       "            <tr>\n",
       "                        <th id=\"T_525130a6_9711_11ea_86c0_7cd1c387f1balevel0_row4\" class=\"row_heading level0 row4\" >108</th>\n",
       "                        <th id=\"T_525130a6_9711_11ea_86c0_7cd1c387f1balevel1_row4\" class=\"row_heading level1 row4\" >Extraction, Quickblade Of Trembling Hands</th>\n",
       "                        <td id=\"T_525130a6_9711_11ea_86c0_7cd1c387f1barow4_col0\" class=\"data row4 col0\" >9</td>\n",
       "                        <td id=\"T_525130a6_9711_11ea_86c0_7cd1c387f1barow4_col1\" class=\"data row4 col1\" >$3.53</td>\n",
       "                        <td id=\"T_525130a6_9711_11ea_86c0_7cd1c387f1barow4_col2\" class=\"data row4 col2\" >$31.77</td>\n",
       "            </tr>\n",
       "    </tbody></table>"
      ],
      "text/plain": [
       "<pandas.io.formats.style.Styler at 0x120c2e590>"
      ]
     },
     "execution_count": 36,
     "metadata": {},
     "output_type": "execute_result"
    }
   ],
   "source": [
    "#GATHER Item ID, Item Name, and Item Price columns\n",
    "items = data[[\"Item ID\", \"Item Name\", \"Price\"]]\n",
    "\n",
    "#GROUP BY \"Item ID\" and \"Item Name\"\n",
    "items_grouped = items.groupby([\"Item ID\" , \"Item Name\"])\n",
    "\n",
    "#CALCULATIONS\n",
    "#HOW MANY TIMES AN ITEM HAS BEEN PURCHASES\n",
    "item_purch_count = items_grouped[\"Item ID\"].count()\n",
    "\n",
    "# #PRICE PER ITEM\n",
    "# item_price = items_grouped[\"Price\"]\n",
    "\n",
    "#TOTAL VALUE OF PURCHASES BY ITEM\n",
    "item_purchase_value = items_grouped[\"Price\"].sum()\n",
    "\n",
    "#PRICE PER ITEM\n",
    "item_price = item_purchase_value/item_purch_count\n",
    "\n",
    "#CREATE DF WITH DATA\n",
    "most_popular_items_df = pd.DataFrame({\"Purchase Count\" : item_purch_count,\n",
    "                                      \"Item Price\" : item_price,\n",
    "                                      \"Total Purchase Value\" : item_purchase_value})\n",
    "\n",
    "#SORT \"TOTAL PURCHASE VALUE\" COLUMN IN DECENDING ORDER TO GET TOP 5 SPENDERS\n",
    "most_popular_items_df = most_popular_items_df.sort_values([\"Purchase Count\"] , ascending=False).head()\n",
    "most_popular_items_df\n",
    "\n",
    "#FORMATTING\n",
    "most_popular_items_df.style.format({\"Item Price\":\"${:,.2f}\",\n",
    "                                    \"Total Purchase Value\":\"${:,.2f}\"})"
   ]
  },
  {
   "cell_type": "markdown",
   "metadata": {},
   "source": [
    "## Most Profitable Items"
   ]
  },
  {
   "cell_type": "markdown",
   "metadata": {},
   "source": [
    "* Sort the above table by total purchase value in descending order\n",
    "\n",
    "\n",
    "* Optional: give the displayed data cleaner formatting\n",
    "\n",
    "\n",
    "* Display a preview of the data frame\n",
    "\n"
   ]
  },
  {
   "cell_type": "code",
   "execution_count": 37,
   "metadata": {
    "scrolled": true
   },
   "outputs": [
    {
     "data": {
      "text/html": [
       "<style  type=\"text/css\" >\n",
       "</style><table id=\"T_5e00e748_9711_11ea_86c0_7cd1c387f1ba\" ><thead>    <tr>        <th class=\"blank\" ></th>        <th class=\"blank level0\" ></th>        <th class=\"col_heading level0 col0\" >Purchase Count</th>        <th class=\"col_heading level0 col1\" >Item Price</th>        <th class=\"col_heading level0 col2\" >Total Purchase Value</th>    </tr>    <tr>        <th class=\"index_name level0\" >Item ID</th>        <th class=\"index_name level1\" >Item Name</th>        <th class=\"blank\" ></th>        <th class=\"blank\" ></th>        <th class=\"blank\" ></th>    </tr></thead><tbody>\n",
       "                <tr>\n",
       "                        <th id=\"T_5e00e748_9711_11ea_86c0_7cd1c387f1balevel0_row0\" class=\"row_heading level0 row0\" >92</th>\n",
       "                        <th id=\"T_5e00e748_9711_11ea_86c0_7cd1c387f1balevel1_row0\" class=\"row_heading level1 row0\" >Final Critic</th>\n",
       "                        <td id=\"T_5e00e748_9711_11ea_86c0_7cd1c387f1barow0_col0\" class=\"data row0 col0\" >13</td>\n",
       "                        <td id=\"T_5e00e748_9711_11ea_86c0_7cd1c387f1barow0_col1\" class=\"data row0 col1\" >$4.61</td>\n",
       "                        <td id=\"T_5e00e748_9711_11ea_86c0_7cd1c387f1barow0_col2\" class=\"data row0 col2\" >$59.99</td>\n",
       "            </tr>\n",
       "            <tr>\n",
       "                        <th id=\"T_5e00e748_9711_11ea_86c0_7cd1c387f1balevel0_row1\" class=\"row_heading level0 row1\" >178</th>\n",
       "                        <th id=\"T_5e00e748_9711_11ea_86c0_7cd1c387f1balevel1_row1\" class=\"row_heading level1 row1\" >Oathbreaker, Last Hope of the Breaking Storm</th>\n",
       "                        <td id=\"T_5e00e748_9711_11ea_86c0_7cd1c387f1barow1_col0\" class=\"data row1 col0\" >12</td>\n",
       "                        <td id=\"T_5e00e748_9711_11ea_86c0_7cd1c387f1barow1_col1\" class=\"data row1 col1\" >$4.23</td>\n",
       "                        <td id=\"T_5e00e748_9711_11ea_86c0_7cd1c387f1barow1_col2\" class=\"data row1 col2\" >$50.76</td>\n",
       "            </tr>\n",
       "            <tr>\n",
       "                        <th id=\"T_5e00e748_9711_11ea_86c0_7cd1c387f1balevel0_row2\" class=\"row_heading level0 row2\" >145</th>\n",
       "                        <th id=\"T_5e00e748_9711_11ea_86c0_7cd1c387f1balevel1_row2\" class=\"row_heading level1 row2\" >Fiery Glass Crusader</th>\n",
       "                        <td id=\"T_5e00e748_9711_11ea_86c0_7cd1c387f1barow2_col0\" class=\"data row2 col0\" >9</td>\n",
       "                        <td id=\"T_5e00e748_9711_11ea_86c0_7cd1c387f1barow2_col1\" class=\"data row2 col1\" >$4.58</td>\n",
       "                        <td id=\"T_5e00e748_9711_11ea_86c0_7cd1c387f1barow2_col2\" class=\"data row2 col2\" >$41.22</td>\n",
       "            </tr>\n",
       "            <tr>\n",
       "                        <th id=\"T_5e00e748_9711_11ea_86c0_7cd1c387f1balevel0_row3\" class=\"row_heading level0 row3\" >108</th>\n",
       "                        <th id=\"T_5e00e748_9711_11ea_86c0_7cd1c387f1balevel1_row3\" class=\"row_heading level1 row3\" >Extraction, Quickblade Of Trembling Hands</th>\n",
       "                        <td id=\"T_5e00e748_9711_11ea_86c0_7cd1c387f1barow3_col0\" class=\"data row3 col0\" >9</td>\n",
       "                        <td id=\"T_5e00e748_9711_11ea_86c0_7cd1c387f1barow3_col1\" class=\"data row3 col1\" >$3.53</td>\n",
       "                        <td id=\"T_5e00e748_9711_11ea_86c0_7cd1c387f1barow3_col2\" class=\"data row3 col2\" >$31.77</td>\n",
       "            </tr>\n",
       "            <tr>\n",
       "                        <th id=\"T_5e00e748_9711_11ea_86c0_7cd1c387f1balevel0_row4\" class=\"row_heading level0 row4\" >132</th>\n",
       "                        <th id=\"T_5e00e748_9711_11ea_86c0_7cd1c387f1balevel1_row4\" class=\"row_heading level1 row4\" >Persuasion</th>\n",
       "                        <td id=\"T_5e00e748_9711_11ea_86c0_7cd1c387f1barow4_col0\" class=\"data row4 col0\" >9</td>\n",
       "                        <td id=\"T_5e00e748_9711_11ea_86c0_7cd1c387f1barow4_col1\" class=\"data row4 col1\" >$3.22</td>\n",
       "                        <td id=\"T_5e00e748_9711_11ea_86c0_7cd1c387f1barow4_col2\" class=\"data row4 col2\" >$28.99</td>\n",
       "            </tr>\n",
       "    </tbody></table>"
      ],
      "text/plain": [
       "<pandas.io.formats.style.Styler at 0x1221eaa50>"
      ]
     },
     "execution_count": 37,
     "metadata": {},
     "output_type": "execute_result"
    }
   ],
   "source": [
    "#SORT THE \"MOST PROFITABLE ITEMS\" TABLE BY PURCHASE VALUE\n",
    "most_profitable_items = most_popular_items_df.sort_values([\"Total Purchase Value\"] , ascending=False).head()\n",
    "most_profitable_items\n",
    "\n",
    "#FORMATTING\n",
    "most_profitable_items.style.format({\"Item Price\":\"${:,.2f}\",\n",
    "                                    \"Total Purchase Value\":\"${:,.2f}\"})"
   ]
  },
  {
   "cell_type": "code",
   "execution_count": null,
   "metadata": {},
   "outputs": [],
   "source": []
  }
 ],
 "metadata": {
  "anaconda-cloud": {},
  "kernel_info": {
   "name": "python3"
  },
  "kernelspec": {
   "display_name": "Python 3",
   "language": "python",
   "name": "python3"
  },
  "language_info": {
   "codemirror_mode": {
    "name": "ipython",
    "version": 3
   },
   "file_extension": ".py",
   "mimetype": "text/x-python",
   "name": "python",
   "nbconvert_exporter": "python",
   "pygments_lexer": "ipython3",
   "version": "3.7.4"
  },
  "latex_envs": {
   "LaTeX_envs_menu_present": true,
   "autoclose": false,
   "autocomplete": true,
   "bibliofile": "biblio.bib",
   "cite_by": "apalike",
   "current_citInitial": 1,
   "eqLabelWithNumbers": true,
   "eqNumInitial": 1,
   "hotkeys": {
    "equation": "Ctrl-E",
    "itemize": "Ctrl-I"
   },
   "labels_anchors": false,
   "latex_user_defs": false,
   "report_style_numbering": false,
   "user_envs_cfg": false
  },
  "nteract": {
   "version": "0.2.0"
  }
 },
 "nbformat": 4,
 "nbformat_minor": 2
}
