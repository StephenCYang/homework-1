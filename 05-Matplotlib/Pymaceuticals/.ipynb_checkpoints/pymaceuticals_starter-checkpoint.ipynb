{
 "cells": [
  {
   "cell_type": "markdown",
   "metadata": {},
   "source": [
    "\n",
    "## Observations and Insights \n",
    "1) Capomulin and Ramicane had the most mice treated.\n",
    "\n",
    "2) Capomulin and Ramicane are also the treatments that showed the smallest average tumor volume.\n",
    "\n",
    "3) There was a near equal distribution of Female to Male mice. 49.3(F) , 50.7(M"
   ]
  },
  {
   "cell_type": "code",
   "execution_count": 147,
   "metadata": {},
   "outputs": [],
   "source": [
    "# DEPENDENCIES AND SETUP\n",
    "import matplotlib.pyplot as plt\n",
    "import pandas as pd\n",
    "import numpy as np\n",
    "import scipy.stats as st\n",
    "\n",
    "# STUDY DATA FILES\n",
    "mouse_metadata_path = \"data/Mouse_metadata.csv\"\n",
    "study_results_path = \"data/Study_results.csv\"\n",
    "\n",
    "# READ THE MOUSE DATA AND THE STUDY RESULTS\n",
    "mouse_metadata = pd.read_csv(mouse_metadata_path)\n",
    "study_results = pd.read_csv(study_results_path)"
   ]
  },
  {
   "cell_type": "markdown",
   "metadata": {},
   "source": [
    "#### COMBINE THE DATA INTO A SINGLE DATASET"
   ]
  },
  {
   "cell_type": "code",
   "execution_count": 148,
   "metadata": {},
   "outputs": [
    {
     "data": {
      "text/html": [
       "<div>\n",
       "<style scoped>\n",
       "    .dataframe tbody tr th:only-of-type {\n",
       "        vertical-align: middle;\n",
       "    }\n",
       "\n",
       "    .dataframe tbody tr th {\n",
       "        vertical-align: top;\n",
       "    }\n",
       "\n",
       "    .dataframe thead th {\n",
       "        text-align: right;\n",
       "    }\n",
       "</style>\n",
       "<table border=\"1\" class=\"dataframe\">\n",
       "  <thead>\n",
       "    <tr style=\"text-align: right;\">\n",
       "      <th></th>\n",
       "      <th>Mouse ID</th>\n",
       "      <th>Drug Regimen</th>\n",
       "      <th>Sex</th>\n",
       "      <th>Age_months</th>\n",
       "      <th>Weight (g)</th>\n",
       "      <th>Timepoint</th>\n",
       "      <th>Tumor Volume (mm3)</th>\n",
       "      <th>Metastatic Sites</th>\n",
       "    </tr>\n",
       "  </thead>\n",
       "  <tbody>\n",
       "    <tr>\n",
       "      <td>0</td>\n",
       "      <td>k403</td>\n",
       "      <td>Ramicane</td>\n",
       "      <td>Male</td>\n",
       "      <td>21</td>\n",
       "      <td>16</td>\n",
       "      <td>0</td>\n",
       "      <td>45.000000</td>\n",
       "      <td>0</td>\n",
       "    </tr>\n",
       "    <tr>\n",
       "      <td>1</td>\n",
       "      <td>k403</td>\n",
       "      <td>Ramicane</td>\n",
       "      <td>Male</td>\n",
       "      <td>21</td>\n",
       "      <td>16</td>\n",
       "      <td>5</td>\n",
       "      <td>38.825898</td>\n",
       "      <td>0</td>\n",
       "    </tr>\n",
       "    <tr>\n",
       "      <td>2</td>\n",
       "      <td>k403</td>\n",
       "      <td>Ramicane</td>\n",
       "      <td>Male</td>\n",
       "      <td>21</td>\n",
       "      <td>16</td>\n",
       "      <td>10</td>\n",
       "      <td>35.014271</td>\n",
       "      <td>1</td>\n",
       "    </tr>\n",
       "    <tr>\n",
       "      <td>3</td>\n",
       "      <td>k403</td>\n",
       "      <td>Ramicane</td>\n",
       "      <td>Male</td>\n",
       "      <td>21</td>\n",
       "      <td>16</td>\n",
       "      <td>15</td>\n",
       "      <td>34.223992</td>\n",
       "      <td>1</td>\n",
       "    </tr>\n",
       "    <tr>\n",
       "      <td>4</td>\n",
       "      <td>k403</td>\n",
       "      <td>Ramicane</td>\n",
       "      <td>Male</td>\n",
       "      <td>21</td>\n",
       "      <td>16</td>\n",
       "      <td>20</td>\n",
       "      <td>32.997729</td>\n",
       "      <td>1</td>\n",
       "    </tr>\n",
       "  </tbody>\n",
       "</table>\n",
       "</div>"
      ],
      "text/plain": [
       "  Mouse ID Drug Regimen   Sex  Age_months  Weight (g)  Timepoint  \\\n",
       "0     k403     Ramicane  Male          21          16          0   \n",
       "1     k403     Ramicane  Male          21          16          5   \n",
       "2     k403     Ramicane  Male          21          16         10   \n",
       "3     k403     Ramicane  Male          21          16         15   \n",
       "4     k403     Ramicane  Male          21          16         20   \n",
       "\n",
       "   Tumor Volume (mm3)  Metastatic Sites  \n",
       "0           45.000000                 0  \n",
       "1           38.825898                 0  \n",
       "2           35.014271                 1  \n",
       "3           34.223992                 1  \n",
       "4           32.997729                 1  "
      ]
     },
     "execution_count": 148,
     "metadata": {},
     "output_type": "execute_result"
    }
   ],
   "source": [
    "merged_df = pd.merge(mouse_metadata, study_results, on=\"Mouse ID\")\n",
    "merged_df.head()"
   ]
  },
  {
   "cell_type": "markdown",
   "metadata": {},
   "source": [
    "#### CHECK THE NUMBER OF MICE IN THE DATAFRAME"
   ]
  },
  {
   "cell_type": "code",
   "execution_count": 149,
   "metadata": {},
   "outputs": [
    {
     "name": "stdout",
     "output_type": "stream",
     "text": [
      " Mice in DF: 249\n"
     ]
    }
   ],
   "source": [
    "mice_unique = merged_df[\"Mouse ID\"].unique()\n",
    "mice_unique_count = len(mice_unique)\n",
    "print(f\" Mice in DF: {mice_unique_count}\")"
   ]
  },
  {
   "cell_type": "markdown",
   "metadata": {},
   "source": [
    "#### GET THE DUPLICATE MICE BY ID NUMBER THAT SHOWS UP FOR MOUSE ID AND TIMEPOINT."
   ]
  },
  {
   "cell_type": "code",
   "execution_count": 150,
   "metadata": {},
   "outputs": [],
   "source": [
    "duplicate_mouse_data = merged_df[merged_df.duplicated([\"Mouse ID\" , \"Timepoint\"])]"
   ]
  },
  {
   "cell_type": "code",
   "execution_count": 151,
   "metadata": {},
   "outputs": [
    {
     "data": {
      "text/html": [
       "<style  type=\"text/css\" >\n",
       "</style><table id=\"T_64905bce_a540_11ea_8437_7cd1c387f1ba\" ><caption>DUPLICATE MICE DATA</caption><thead>    <tr>        <th class=\"blank level0\" ></th>        <th class=\"col_heading level0 col0\" >Mouse ID</th>        <th class=\"col_heading level0 col1\" >Drug Regimen</th>        <th class=\"col_heading level0 col2\" >Sex</th>        <th class=\"col_heading level0 col3\" >Age_months</th>        <th class=\"col_heading level0 col4\" >Weight (g)</th>        <th class=\"col_heading level0 col5\" >Timepoint</th>        <th class=\"col_heading level0 col6\" >Tumor Volume (mm3)</th>        <th class=\"col_heading level0 col7\" >Metastatic Sites</th>    </tr></thead><tbody>\n",
       "                <tr>\n",
       "                        <th id=\"T_64905bce_a540_11ea_8437_7cd1c387f1balevel0_row0\" class=\"row_heading level0 row0\" >909</th>\n",
       "                        <td id=\"T_64905bce_a540_11ea_8437_7cd1c387f1barow0_col0\" class=\"data row0 col0\" >g989</td>\n",
       "                        <td id=\"T_64905bce_a540_11ea_8437_7cd1c387f1barow0_col1\" class=\"data row0 col1\" >Propriva</td>\n",
       "                        <td id=\"T_64905bce_a540_11ea_8437_7cd1c387f1barow0_col2\" class=\"data row0 col2\" >Female</td>\n",
       "                        <td id=\"T_64905bce_a540_11ea_8437_7cd1c387f1barow0_col3\" class=\"data row0 col3\" >21</td>\n",
       "                        <td id=\"T_64905bce_a540_11ea_8437_7cd1c387f1barow0_col4\" class=\"data row0 col4\" >26</td>\n",
       "                        <td id=\"T_64905bce_a540_11ea_8437_7cd1c387f1barow0_col5\" class=\"data row0 col5\" >0</td>\n",
       "                        <td id=\"T_64905bce_a540_11ea_8437_7cd1c387f1barow0_col6\" class=\"data row0 col6\" >45</td>\n",
       "                        <td id=\"T_64905bce_a540_11ea_8437_7cd1c387f1barow0_col7\" class=\"data row0 col7\" >0</td>\n",
       "            </tr>\n",
       "            <tr>\n",
       "                        <th id=\"T_64905bce_a540_11ea_8437_7cd1c387f1balevel0_row1\" class=\"row_heading level0 row1\" >911</th>\n",
       "                        <td id=\"T_64905bce_a540_11ea_8437_7cd1c387f1barow1_col0\" class=\"data row1 col0\" >g989</td>\n",
       "                        <td id=\"T_64905bce_a540_11ea_8437_7cd1c387f1barow1_col1\" class=\"data row1 col1\" >Propriva</td>\n",
       "                        <td id=\"T_64905bce_a540_11ea_8437_7cd1c387f1barow1_col2\" class=\"data row1 col2\" >Female</td>\n",
       "                        <td id=\"T_64905bce_a540_11ea_8437_7cd1c387f1barow1_col3\" class=\"data row1 col3\" >21</td>\n",
       "                        <td id=\"T_64905bce_a540_11ea_8437_7cd1c387f1barow1_col4\" class=\"data row1 col4\" >26</td>\n",
       "                        <td id=\"T_64905bce_a540_11ea_8437_7cd1c387f1barow1_col5\" class=\"data row1 col5\" >5</td>\n",
       "                        <td id=\"T_64905bce_a540_11ea_8437_7cd1c387f1barow1_col6\" class=\"data row1 col6\" >47.5704</td>\n",
       "                        <td id=\"T_64905bce_a540_11ea_8437_7cd1c387f1barow1_col7\" class=\"data row1 col7\" >0</td>\n",
       "            </tr>\n",
       "            <tr>\n",
       "                        <th id=\"T_64905bce_a540_11ea_8437_7cd1c387f1balevel0_row2\" class=\"row_heading level0 row2\" >913</th>\n",
       "                        <td id=\"T_64905bce_a540_11ea_8437_7cd1c387f1barow2_col0\" class=\"data row2 col0\" >g989</td>\n",
       "                        <td id=\"T_64905bce_a540_11ea_8437_7cd1c387f1barow2_col1\" class=\"data row2 col1\" >Propriva</td>\n",
       "                        <td id=\"T_64905bce_a540_11ea_8437_7cd1c387f1barow2_col2\" class=\"data row2 col2\" >Female</td>\n",
       "                        <td id=\"T_64905bce_a540_11ea_8437_7cd1c387f1barow2_col3\" class=\"data row2 col3\" >21</td>\n",
       "                        <td id=\"T_64905bce_a540_11ea_8437_7cd1c387f1barow2_col4\" class=\"data row2 col4\" >26</td>\n",
       "                        <td id=\"T_64905bce_a540_11ea_8437_7cd1c387f1barow2_col5\" class=\"data row2 col5\" >10</td>\n",
       "                        <td id=\"T_64905bce_a540_11ea_8437_7cd1c387f1barow2_col6\" class=\"data row2 col6\" >49.8805</td>\n",
       "                        <td id=\"T_64905bce_a540_11ea_8437_7cd1c387f1barow2_col7\" class=\"data row2 col7\" >0</td>\n",
       "            </tr>\n",
       "            <tr>\n",
       "                        <th id=\"T_64905bce_a540_11ea_8437_7cd1c387f1balevel0_row3\" class=\"row_heading level0 row3\" >915</th>\n",
       "                        <td id=\"T_64905bce_a540_11ea_8437_7cd1c387f1barow3_col0\" class=\"data row3 col0\" >g989</td>\n",
       "                        <td id=\"T_64905bce_a540_11ea_8437_7cd1c387f1barow3_col1\" class=\"data row3 col1\" >Propriva</td>\n",
       "                        <td id=\"T_64905bce_a540_11ea_8437_7cd1c387f1barow3_col2\" class=\"data row3 col2\" >Female</td>\n",
       "                        <td id=\"T_64905bce_a540_11ea_8437_7cd1c387f1barow3_col3\" class=\"data row3 col3\" >21</td>\n",
       "                        <td id=\"T_64905bce_a540_11ea_8437_7cd1c387f1barow3_col4\" class=\"data row3 col4\" >26</td>\n",
       "                        <td id=\"T_64905bce_a540_11ea_8437_7cd1c387f1barow3_col5\" class=\"data row3 col5\" >15</td>\n",
       "                        <td id=\"T_64905bce_a540_11ea_8437_7cd1c387f1barow3_col6\" class=\"data row3 col6\" >53.442</td>\n",
       "                        <td id=\"T_64905bce_a540_11ea_8437_7cd1c387f1barow3_col7\" class=\"data row3 col7\" >0</td>\n",
       "            </tr>\n",
       "            <tr>\n",
       "                        <th id=\"T_64905bce_a540_11ea_8437_7cd1c387f1balevel0_row4\" class=\"row_heading level0 row4\" >917</th>\n",
       "                        <td id=\"T_64905bce_a540_11ea_8437_7cd1c387f1barow4_col0\" class=\"data row4 col0\" >g989</td>\n",
       "                        <td id=\"T_64905bce_a540_11ea_8437_7cd1c387f1barow4_col1\" class=\"data row4 col1\" >Propriva</td>\n",
       "                        <td id=\"T_64905bce_a540_11ea_8437_7cd1c387f1barow4_col2\" class=\"data row4 col2\" >Female</td>\n",
       "                        <td id=\"T_64905bce_a540_11ea_8437_7cd1c387f1barow4_col3\" class=\"data row4 col3\" >21</td>\n",
       "                        <td id=\"T_64905bce_a540_11ea_8437_7cd1c387f1barow4_col4\" class=\"data row4 col4\" >26</td>\n",
       "                        <td id=\"T_64905bce_a540_11ea_8437_7cd1c387f1barow4_col5\" class=\"data row4 col5\" >20</td>\n",
       "                        <td id=\"T_64905bce_a540_11ea_8437_7cd1c387f1barow4_col6\" class=\"data row4 col6\" >54.6577</td>\n",
       "                        <td id=\"T_64905bce_a540_11ea_8437_7cd1c387f1barow4_col7\" class=\"data row4 col7\" >1</td>\n",
       "            </tr>\n",
       "    </tbody></table>"
      ],
      "text/plain": [
       "<pandas.io.formats.style.Styler at 0x1a22d2e590>"
      ]
     },
     "execution_count": 151,
     "metadata": {},
     "output_type": "execute_result"
    }
   ],
   "source": [
    "# OPTIONAL: GET ALL THE DATA FOR THE DUPLICATE MOUSE ID.\n",
    "duplicate_mouse_data.style.set_caption(\"DUPLICATE MICE DATA\")"
   ]
  },
  {
   "cell_type": "markdown",
   "metadata": {},
   "source": [
    "#### CREATE A CLEAN DATAFRAME BY DROPPING THE DUPLICATE MOUSE BY ITS ID."
   ]
  },
  {
   "cell_type": "code",
   "execution_count": 152,
   "metadata": {},
   "outputs": [
    {
     "data": {
      "text/html": [
       "<div>\n",
       "<style scoped>\n",
       "    .dataframe tbody tr th:only-of-type {\n",
       "        vertical-align: middle;\n",
       "    }\n",
       "\n",
       "    .dataframe tbody tr th {\n",
       "        vertical-align: top;\n",
       "    }\n",
       "\n",
       "    .dataframe thead th {\n",
       "        text-align: right;\n",
       "    }\n",
       "</style>\n",
       "<table border=\"1\" class=\"dataframe\">\n",
       "  <thead>\n",
       "    <tr style=\"text-align: right;\">\n",
       "      <th></th>\n",
       "      <th>Mouse ID</th>\n",
       "      <th>Drug Regimen</th>\n",
       "      <th>Sex</th>\n",
       "      <th>Age_months</th>\n",
       "      <th>Weight (g)</th>\n",
       "      <th>Timepoint</th>\n",
       "      <th>Tumor Volume (mm3)</th>\n",
       "      <th>Metastatic Sites</th>\n",
       "    </tr>\n",
       "  </thead>\n",
       "  <tbody>\n",
       "    <tr>\n",
       "      <td>0</td>\n",
       "      <td>k403</td>\n",
       "      <td>Ramicane</td>\n",
       "      <td>Male</td>\n",
       "      <td>21</td>\n",
       "      <td>16</td>\n",
       "      <td>0</td>\n",
       "      <td>45.000000</td>\n",
       "      <td>0</td>\n",
       "    </tr>\n",
       "    <tr>\n",
       "      <td>1</td>\n",
       "      <td>k403</td>\n",
       "      <td>Ramicane</td>\n",
       "      <td>Male</td>\n",
       "      <td>21</td>\n",
       "      <td>16</td>\n",
       "      <td>5</td>\n",
       "      <td>38.825898</td>\n",
       "      <td>0</td>\n",
       "    </tr>\n",
       "    <tr>\n",
       "      <td>2</td>\n",
       "      <td>k403</td>\n",
       "      <td>Ramicane</td>\n",
       "      <td>Male</td>\n",
       "      <td>21</td>\n",
       "      <td>16</td>\n",
       "      <td>10</td>\n",
       "      <td>35.014271</td>\n",
       "      <td>1</td>\n",
       "    </tr>\n",
       "    <tr>\n",
       "      <td>3</td>\n",
       "      <td>k403</td>\n",
       "      <td>Ramicane</td>\n",
       "      <td>Male</td>\n",
       "      <td>21</td>\n",
       "      <td>16</td>\n",
       "      <td>15</td>\n",
       "      <td>34.223992</td>\n",
       "      <td>1</td>\n",
       "    </tr>\n",
       "    <tr>\n",
       "      <td>4</td>\n",
       "      <td>k403</td>\n",
       "      <td>Ramicane</td>\n",
       "      <td>Male</td>\n",
       "      <td>21</td>\n",
       "      <td>16</td>\n",
       "      <td>20</td>\n",
       "      <td>32.997729</td>\n",
       "      <td>1</td>\n",
       "    </tr>\n",
       "  </tbody>\n",
       "</table>\n",
       "</div>"
      ],
      "text/plain": [
       "  Mouse ID Drug Regimen   Sex  Age_months  Weight (g)  Timepoint  \\\n",
       "0     k403     Ramicane  Male          21          16          0   \n",
       "1     k403     Ramicane  Male          21          16          5   \n",
       "2     k403     Ramicane  Male          21          16         10   \n",
       "3     k403     Ramicane  Male          21          16         15   \n",
       "4     k403     Ramicane  Male          21          16         20   \n",
       "\n",
       "   Tumor Volume (mm3)  Metastatic Sites  \n",
       "0           45.000000                 0  \n",
       "1           38.825898                 0  \n",
       "2           35.014271                 1  \n",
       "3           34.223992                 1  \n",
       "4           32.997729                 1  "
      ]
     },
     "execution_count": 152,
     "metadata": {},
     "output_type": "execute_result"
    }
   ],
   "source": [
    "# NOTE: HAD TO ADD \"TIMEPOINT\" TO THE SUBSET TO AVOID LOOSING MOUSE DATA OTHERWISE I ONLY GET 249 ROWS.\n",
    "clean_df = merged_df.drop_duplicates(subset=[\"Mouse ID\",\"Timepoint\"], keep=\"first\")\n",
    "clean_df.head()"
   ]
  },
  {
   "cell_type": "code",
   "execution_count": 153,
   "metadata": {},
   "outputs": [
    {
     "data": {
      "text/plain": [
       "249"
      ]
     },
     "execution_count": 153,
     "metadata": {},
     "output_type": "execute_result"
    }
   ],
   "source": [
    "# CHECK THE NUMBER OF MICE IN THE CLEAN DATAFRAME.\n",
    "len(clean_df[\"Mouse ID\"].unique())"
   ]
  },
  {
   "cell_type": "markdown",
   "metadata": {},
   "source": [
    "## Summary Statistics"
   ]
  },
  {
   "cell_type": "code",
   "execution_count": 154,
   "metadata": {},
   "outputs": [
    {
     "data": {
      "text/html": [
       "<div>\n",
       "<style scoped>\n",
       "    .dataframe tbody tr th:only-of-type {\n",
       "        vertical-align: middle;\n",
       "    }\n",
       "\n",
       "    .dataframe tbody tr th {\n",
       "        vertical-align: top;\n",
       "    }\n",
       "\n",
       "    .dataframe thead th {\n",
       "        text-align: right;\n",
       "    }\n",
       "</style>\n",
       "<table border=\"1\" class=\"dataframe\">\n",
       "  <thead>\n",
       "    <tr style=\"text-align: right;\">\n",
       "      <th></th>\n",
       "      <th>Mouse ID</th>\n",
       "      <th>Drug Regimen</th>\n",
       "      <th>Sex</th>\n",
       "      <th>Age_months</th>\n",
       "      <th>Weight (g)</th>\n",
       "      <th>Timepoint</th>\n",
       "      <th>Tumor Volume (mm3)</th>\n",
       "      <th>Metastatic Sites</th>\n",
       "    </tr>\n",
       "  </thead>\n",
       "  <tbody>\n",
       "    <tr>\n",
       "      <td>0</td>\n",
       "      <td>k403</td>\n",
       "      <td>Ramicane</td>\n",
       "      <td>Male</td>\n",
       "      <td>21</td>\n",
       "      <td>16</td>\n",
       "      <td>0</td>\n",
       "      <td>45.0</td>\n",
       "      <td>0</td>\n",
       "    </tr>\n",
       "  </tbody>\n",
       "</table>\n",
       "</div>"
      ],
      "text/plain": [
       "  Mouse ID Drug Regimen   Sex  Age_months  Weight (g)  Timepoint  \\\n",
       "0     k403     Ramicane  Male          21          16          0   \n",
       "\n",
       "   Tumor Volume (mm3)  Metastatic Sites  \n",
       "0                45.0                 0  "
      ]
     },
     "execution_count": 154,
     "metadata": {},
     "output_type": "execute_result"
    }
   ],
   "source": [
    "clean_df.head(1)"
   ]
  },
  {
   "cell_type": "markdown",
   "metadata": {},
   "source": [
    "#### GENERATE A SUMMARY STATISTICS TABLE OF MEAN, MEDIAN, VARIANCE, STANDARD DEVIATION, AND SEM OF THE TUMOR VOLUME FOR EACH REGIMEN"
   ]
  },
  {
   "cell_type": "code",
   "execution_count": 155,
   "metadata": {},
   "outputs": [],
   "source": [
    "# CALCULATE STATS\n",
    "tumor_volume_mean = round(clean_df.groupby(\"Drug Regimen\")[\"Tumor Volume (mm3)\"].mean() , 2)\n",
    "tumor_volume_median = round(clean_df.groupby(\"Drug Regimen\")[\"Tumor Volume (mm3)\"].median() , 2)\n",
    "tumor_volume_variance = round(clean_df.groupby(\"Drug Regimen\")[\"Tumor Volume (mm3)\"].var() , 2)\n",
    "tumor_volume_sd = round(clean_df.groupby(\"Drug Regimen\")[\"Tumor Volume (mm3)\"].std() , 2)\n",
    "tumor_volume_sem = round(clean_df.groupby(\"Drug Regimen\")[\"Tumor Volume (mm3)\"].sem() , 2)"
   ]
  },
  {
   "cell_type": "code",
   "execution_count": 156,
   "metadata": {},
   "outputs": [
    {
     "data": {
      "text/plain": [
       "array(['Ramicane', 'Capomulin', 'Infubinol', 'Placebo', 'Ceftamin',\n",
       "       'Stelasyn', 'Zoniferol', 'Ketapril', 'Propriva', 'Naftisol'],\n",
       "      dtype=object)"
      ]
     },
     "execution_count": 156,
     "metadata": {},
     "output_type": "execute_result"
    }
   ],
   "source": [
    "# CREATE LIST OF REGIMENS\n",
    "drug_regimens = clean_df[\"Drug Regimen\"].unique()\n",
    "drug_regimens"
   ]
  },
  {
   "cell_type": "code",
   "execution_count": 157,
   "metadata": {},
   "outputs": [
    {
     "data": {
      "text/html": [
       "<style  type=\"text/css\" >\n",
       "</style><table id=\"T_672b4600_a540_11ea_8437_7cd1c387f1ba\" ><caption>DRUG REGIMEN STATS SUMMARY</caption><thead>    <tr>        <th class=\"blank level0\" ></th>        <th class=\"col_heading level0 col0\" >Tumor Vol Mean</th>        <th class=\"col_heading level0 col1\" >Tumor Vol Median</th>        <th class=\"col_heading level0 col2\" >Tumor Vol Variance</th>        <th class=\"col_heading level0 col3\" >Tumor Vol SD</th>        <th class=\"col_heading level0 col4\" >Tumor Vol SEM</th>    </tr>    <tr>        <th class=\"index_name level0\" >Drug Regimen</th>        <th class=\"blank\" ></th>        <th class=\"blank\" ></th>        <th class=\"blank\" ></th>        <th class=\"blank\" ></th>        <th class=\"blank\" ></th>    </tr></thead><tbody>\n",
       "                <tr>\n",
       "                        <th id=\"T_672b4600_a540_11ea_8437_7cd1c387f1balevel0_row0\" class=\"row_heading level0 row0\" >Capomulin</th>\n",
       "                        <td id=\"T_672b4600_a540_11ea_8437_7cd1c387f1barow0_col0\" class=\"data row0 col0\" >40.68</td>\n",
       "                        <td id=\"T_672b4600_a540_11ea_8437_7cd1c387f1barow0_col1\" class=\"data row0 col1\" >41.56</td>\n",
       "                        <td id=\"T_672b4600_a540_11ea_8437_7cd1c387f1barow0_col2\" class=\"data row0 col2\" >24.95</td>\n",
       "                        <td id=\"T_672b4600_a540_11ea_8437_7cd1c387f1barow0_col3\" class=\"data row0 col3\" >4.99</td>\n",
       "                        <td id=\"T_672b4600_a540_11ea_8437_7cd1c387f1barow0_col4\" class=\"data row0 col4\" >0.33</td>\n",
       "            </tr>\n",
       "            <tr>\n",
       "                        <th id=\"T_672b4600_a540_11ea_8437_7cd1c387f1balevel0_row1\" class=\"row_heading level0 row1\" >Ceftamin</th>\n",
       "                        <td id=\"T_672b4600_a540_11ea_8437_7cd1c387f1barow1_col0\" class=\"data row1 col0\" >52.59</td>\n",
       "                        <td id=\"T_672b4600_a540_11ea_8437_7cd1c387f1barow1_col1\" class=\"data row1 col1\" >51.78</td>\n",
       "                        <td id=\"T_672b4600_a540_11ea_8437_7cd1c387f1barow1_col2\" class=\"data row1 col2\" >39.29</td>\n",
       "                        <td id=\"T_672b4600_a540_11ea_8437_7cd1c387f1barow1_col3\" class=\"data row1 col3\" >6.27</td>\n",
       "                        <td id=\"T_672b4600_a540_11ea_8437_7cd1c387f1barow1_col4\" class=\"data row1 col4\" >0.47</td>\n",
       "            </tr>\n",
       "            <tr>\n",
       "                        <th id=\"T_672b4600_a540_11ea_8437_7cd1c387f1balevel0_row2\" class=\"row_heading level0 row2\" >Infubinol</th>\n",
       "                        <td id=\"T_672b4600_a540_11ea_8437_7cd1c387f1barow2_col0\" class=\"data row2 col0\" >52.88</td>\n",
       "                        <td id=\"T_672b4600_a540_11ea_8437_7cd1c387f1barow2_col1\" class=\"data row2 col1\" >51.82</td>\n",
       "                        <td id=\"T_672b4600_a540_11ea_8437_7cd1c387f1barow2_col2\" class=\"data row2 col2\" >43.13</td>\n",
       "                        <td id=\"T_672b4600_a540_11ea_8437_7cd1c387f1barow2_col3\" class=\"data row2 col3\" >6.57</td>\n",
       "                        <td id=\"T_672b4600_a540_11ea_8437_7cd1c387f1barow2_col4\" class=\"data row2 col4\" >0.49</td>\n",
       "            </tr>\n",
       "            <tr>\n",
       "                        <th id=\"T_672b4600_a540_11ea_8437_7cd1c387f1balevel0_row3\" class=\"row_heading level0 row3\" >Ketapril</th>\n",
       "                        <td id=\"T_672b4600_a540_11ea_8437_7cd1c387f1barow3_col0\" class=\"data row3 col0\" >55.24</td>\n",
       "                        <td id=\"T_672b4600_a540_11ea_8437_7cd1c387f1barow3_col1\" class=\"data row3 col1\" >53.7</td>\n",
       "                        <td id=\"T_672b4600_a540_11ea_8437_7cd1c387f1barow3_col2\" class=\"data row3 col2\" >68.55</td>\n",
       "                        <td id=\"T_672b4600_a540_11ea_8437_7cd1c387f1barow3_col3\" class=\"data row3 col3\" >8.28</td>\n",
       "                        <td id=\"T_672b4600_a540_11ea_8437_7cd1c387f1barow3_col4\" class=\"data row3 col4\" >0.6</td>\n",
       "            </tr>\n",
       "            <tr>\n",
       "                        <th id=\"T_672b4600_a540_11ea_8437_7cd1c387f1balevel0_row4\" class=\"row_heading level0 row4\" >Naftisol</th>\n",
       "                        <td id=\"T_672b4600_a540_11ea_8437_7cd1c387f1barow4_col0\" class=\"data row4 col0\" >54.33</td>\n",
       "                        <td id=\"T_672b4600_a540_11ea_8437_7cd1c387f1barow4_col1\" class=\"data row4 col1\" >52.51</td>\n",
       "                        <td id=\"T_672b4600_a540_11ea_8437_7cd1c387f1barow4_col2\" class=\"data row4 col2\" >66.17</td>\n",
       "                        <td id=\"T_672b4600_a540_11ea_8437_7cd1c387f1barow4_col3\" class=\"data row4 col3\" >8.13</td>\n",
       "                        <td id=\"T_672b4600_a540_11ea_8437_7cd1c387f1barow4_col4\" class=\"data row4 col4\" >0.6</td>\n",
       "            </tr>\n",
       "            <tr>\n",
       "                        <th id=\"T_672b4600_a540_11ea_8437_7cd1c387f1balevel0_row5\" class=\"row_heading level0 row5\" >Placebo</th>\n",
       "                        <td id=\"T_672b4600_a540_11ea_8437_7cd1c387f1barow5_col0\" class=\"data row5 col0\" >54.03</td>\n",
       "                        <td id=\"T_672b4600_a540_11ea_8437_7cd1c387f1barow5_col1\" class=\"data row5 col1\" >52.29</td>\n",
       "                        <td id=\"T_672b4600_a540_11ea_8437_7cd1c387f1barow5_col2\" class=\"data row5 col2\" >61.17</td>\n",
       "                        <td id=\"T_672b4600_a540_11ea_8437_7cd1c387f1barow5_col3\" class=\"data row5 col3\" >7.82</td>\n",
       "                        <td id=\"T_672b4600_a540_11ea_8437_7cd1c387f1barow5_col4\" class=\"data row5 col4\" >0.58</td>\n",
       "            </tr>\n",
       "            <tr>\n",
       "                        <th id=\"T_672b4600_a540_11ea_8437_7cd1c387f1balevel0_row6\" class=\"row_heading level0 row6\" >Propriva</th>\n",
       "                        <td id=\"T_672b4600_a540_11ea_8437_7cd1c387f1barow6_col0\" class=\"data row6 col0\" >52.39</td>\n",
       "                        <td id=\"T_672b4600_a540_11ea_8437_7cd1c387f1barow6_col1\" class=\"data row6 col1\" >50.91</td>\n",
       "                        <td id=\"T_672b4600_a540_11ea_8437_7cd1c387f1barow6_col2\" class=\"data row6 col2\" >43.14</td>\n",
       "                        <td id=\"T_672b4600_a540_11ea_8437_7cd1c387f1barow6_col3\" class=\"data row6 col3\" >6.57</td>\n",
       "                        <td id=\"T_672b4600_a540_11ea_8437_7cd1c387f1barow6_col4\" class=\"data row6 col4\" >0.53</td>\n",
       "            </tr>\n",
       "            <tr>\n",
       "                        <th id=\"T_672b4600_a540_11ea_8437_7cd1c387f1balevel0_row7\" class=\"row_heading level0 row7\" >Ramicane</th>\n",
       "                        <td id=\"T_672b4600_a540_11ea_8437_7cd1c387f1barow7_col0\" class=\"data row7 col0\" >40.22</td>\n",
       "                        <td id=\"T_672b4600_a540_11ea_8437_7cd1c387f1barow7_col1\" class=\"data row7 col1\" >40.67</td>\n",
       "                        <td id=\"T_672b4600_a540_11ea_8437_7cd1c387f1barow7_col2\" class=\"data row7 col2\" >23.49</td>\n",
       "                        <td id=\"T_672b4600_a540_11ea_8437_7cd1c387f1barow7_col3\" class=\"data row7 col3\" >4.85</td>\n",
       "                        <td id=\"T_672b4600_a540_11ea_8437_7cd1c387f1barow7_col4\" class=\"data row7 col4\" >0.32</td>\n",
       "            </tr>\n",
       "            <tr>\n",
       "                        <th id=\"T_672b4600_a540_11ea_8437_7cd1c387f1balevel0_row8\" class=\"row_heading level0 row8\" >Stelasyn</th>\n",
       "                        <td id=\"T_672b4600_a540_11ea_8437_7cd1c387f1barow8_col0\" class=\"data row8 col0\" >54.23</td>\n",
       "                        <td id=\"T_672b4600_a540_11ea_8437_7cd1c387f1barow8_col1\" class=\"data row8 col1\" >52.43</td>\n",
       "                        <td id=\"T_672b4600_a540_11ea_8437_7cd1c387f1barow8_col2\" class=\"data row8 col2\" >59.45</td>\n",
       "                        <td id=\"T_672b4600_a540_11ea_8437_7cd1c387f1barow8_col3\" class=\"data row8 col3\" >7.71</td>\n",
       "                        <td id=\"T_672b4600_a540_11ea_8437_7cd1c387f1barow8_col4\" class=\"data row8 col4\" >0.57</td>\n",
       "            </tr>\n",
       "            <tr>\n",
       "                        <th id=\"T_672b4600_a540_11ea_8437_7cd1c387f1balevel0_row9\" class=\"row_heading level0 row9\" >Zoniferol</th>\n",
       "                        <td id=\"T_672b4600_a540_11ea_8437_7cd1c387f1barow9_col0\" class=\"data row9 col0\" >53.24</td>\n",
       "                        <td id=\"T_672b4600_a540_11ea_8437_7cd1c387f1barow9_col1\" class=\"data row9 col1\" >51.82</td>\n",
       "                        <td id=\"T_672b4600_a540_11ea_8437_7cd1c387f1barow9_col2\" class=\"data row9 col2\" >48.53</td>\n",
       "                        <td id=\"T_672b4600_a540_11ea_8437_7cd1c387f1barow9_col3\" class=\"data row9 col3\" >6.97</td>\n",
       "                        <td id=\"T_672b4600_a540_11ea_8437_7cd1c387f1barow9_col4\" class=\"data row9 col4\" >0.52</td>\n",
       "            </tr>\n",
       "    </tbody></table>"
      ],
      "text/plain": [
       "<pandas.io.formats.style.Styler at 0x1a22d0b990>"
      ]
     },
     "execution_count": 157,
     "metadata": {},
     "output_type": "execute_result"
    }
   ],
   "source": [
    "# COMBINE DATA ABOVE INTO DF\n",
    "regimen_stats_df = pd.DataFrame({\"Tumor Vol Mean\" : tumor_volume_mean,\n",
    "                                 \"Tumor Vol Median\" : tumor_volume_median,\n",
    "                                 \"Tumor Vol Variance\" : tumor_volume_variance,\n",
    "                                 \"Tumor Vol SD\" : tumor_volume_sd,\n",
    "                                 \"Tumor Vol SEM\" : tumor_volume_sem,})\n",
    "\n",
    "regimen_stats_df.style.set_caption(\"DRUG REGIMEN STATS SUMMARY\")"
   ]
  },
  {
   "cell_type": "markdown",
   "metadata": {},
   "source": [
    "## Bar Plots"
   ]
  },
  {
   "cell_type": "code",
   "execution_count": 158,
   "metadata": {},
   "outputs": [
    {
     "data": {
      "text/html": [
       "<div>\n",
       "<style scoped>\n",
       "    .dataframe tbody tr th:only-of-type {\n",
       "        vertical-align: middle;\n",
       "    }\n",
       "\n",
       "    .dataframe tbody tr th {\n",
       "        vertical-align: top;\n",
       "    }\n",
       "\n",
       "    .dataframe thead th {\n",
       "        text-align: right;\n",
       "    }\n",
       "</style>\n",
       "<table border=\"1\" class=\"dataframe\">\n",
       "  <thead>\n",
       "    <tr style=\"text-align: right;\">\n",
       "      <th></th>\n",
       "      <th>Mouse ID</th>\n",
       "      <th>Drug Regimen</th>\n",
       "      <th>Sex</th>\n",
       "      <th>Age_months</th>\n",
       "      <th>Weight (g)</th>\n",
       "      <th>Timepoint</th>\n",
       "      <th>Tumor Volume (mm3)</th>\n",
       "      <th>Metastatic Sites</th>\n",
       "    </tr>\n",
       "  </thead>\n",
       "  <tbody>\n",
       "    <tr>\n",
       "      <td>0</td>\n",
       "      <td>k403</td>\n",
       "      <td>Ramicane</td>\n",
       "      <td>Male</td>\n",
       "      <td>21</td>\n",
       "      <td>16</td>\n",
       "      <td>0</td>\n",
       "      <td>45.0</td>\n",
       "      <td>0</td>\n",
       "    </tr>\n",
       "  </tbody>\n",
       "</table>\n",
       "</div>"
      ],
      "text/plain": [
       "  Mouse ID Drug Regimen   Sex  Age_months  Weight (g)  Timepoint  \\\n",
       "0     k403     Ramicane  Male          21          16          0   \n",
       "\n",
       "   Tumor Volume (mm3)  Metastatic Sites  \n",
       "0                45.0                 0  "
      ]
     },
     "execution_count": 158,
     "metadata": {},
     "output_type": "execute_result"
    }
   ],
   "source": [
    "# DISPLAYING HEADERS\n",
    "clean_df.head(1)"
   ]
  },
  {
   "cell_type": "markdown",
   "metadata": {},
   "source": [
    "#### GENERATE A BAR PLOT SHOWING THE NUMBER OF MICE FOR EACH TREATMENT THROUGHOUT THE COURSE OF THE STUDY USING PANDAS."
   ]
  },
  {
   "cell_type": "code",
   "execution_count": 159,
   "metadata": {},
   "outputs": [
    {
     "data": {
      "text/plain": [
       "Text(0, 0.5, 'Number of Mice')"
      ]
     },
     "execution_count": 159,
     "metadata": {},
     "output_type": "execute_result"
    },
    {
     "data": {
      "image/png": "[encoded data removed]",
      "text/plain": [
       "<Figure size 432x288 with 1 Axes>"
      ]
     },
     "metadata": {
      "needs_background": "light"
     },
     "output_type": "display_data"
    }
   ],
   "source": [
    "treatments_df = clean_df[\"Drug Regimen\"].value_counts()\n",
    "treatments_pd_plot = treatments_df.plot(kind=\"bar\")\n",
    "\n",
    "# LABLING\n",
    "treatments_pd_plot.set_title(\"MICE PER TREATMENT\")\n",
    "treatments_pd_plot.set_xlabel(\"Drug Regimen\")\n",
    "treatments_pd_plot.set_ylabel(\"Number of Mice\")"
   ]
  },
  {
   "cell_type": "markdown",
   "metadata": {},
   "source": [
    "#### GENERATE A BAR PLOT SHOWING THE NUMBER OF MICE FOR EACH TREATMENT THROUGHOUT THE COURSE OF THE STUDY USING PYPLOT."
   ]
  },
  {
   "cell_type": "code",
   "execution_count": 160,
   "metadata": {},
   "outputs": [
    {
     "data": {
      "image/png": "[encoded data removed]",
      "text/plain": [
       "<Figure size 432x288 with 1 Axes>"
      ]
     },
     "metadata": {
      "needs_background": "light"
     },
     "output_type": "display_data"
    }
   ],
   "source": [
    "# GET TREATMENT LIST\n",
    "treatment_list = drug_regimens.tolist()\n",
    "\n",
    "# GET MICE PER TREATMENT LIST\n",
    "mice_per_treatment_list = treatments_df.to_list()\n",
    "\n",
    "#PLOT\n",
    "plt.bar(treatment_list, mice_per_treatment_list)\n",
    "\n",
    "# LABLING\n",
    "plt.xlabel(\"Drug Regimen\")\n",
    "plt.xticks(rotation=90) \n",
    "plt.ylabel(\"Number of Mice\")\n",
    "plt.title(\"MICE PER TREATMENT\")\n",
    "plt.show()"
   ]
  },
  {
   "cell_type": "markdown",
   "metadata": {},
   "source": [
    "#### GENERATE A BAR PLOT SHOWING THE NUMBER OF MICE PER TIME POINT FOR EACH TREATMENT THROUGHOUT THE COURSE OF THE STUDY USING PANDAS."
   ]
  },
  {
   "cell_type": "code",
   "execution_count": 166,
   "metadata": {},
   "outputs": [
    {
     "data": {
      "text/plain": [
       "<matplotlib.axes._subplots.AxesSubplot at 0x1a1f27c990>"
      ]
     },
     "execution_count": 166,
     "metadata": {},
     "output_type": "execute_result"
    },
    {
     "data": {
      "image/png": "[encoded data removed]",
      "text/plain": [
       "<Figure size 1440x288 with 1 Axes>"
      ]
     },
     "metadata": {
      "needs_background": "light"
     },
     "output_type": "display_data"
    }
   ],
   "source": [
    "# SET UP DF\n",
    "drug_timepoint_df = pd.pivot_table(clean_df , \"Mouse ID\", index = [\"Drug Regimen\"], columns=[\"Timepoint\"], aggfunc=\"count\")\n",
    "\n",
    "#PLOT\n",
    "drug_timepoint_df.plot(kind=\"bar\", figsize=(20,4) , grid=True , title=\"NUMBER OF MICE PER TIMEPOINT PER TREATMENT\", legend=True)"
   ]
  },
  {
   "cell_type": "markdown",
   "metadata": {},
   "source": [
    "## Pie Plots"
   ]
  },
  {
   "cell_type": "code",
   "execution_count": 167,
   "metadata": {},
   "outputs": [
    {
     "data": {
      "text/plain": [
       "Index(['Mouse ID', 'Drug Regimen', 'Sex', 'Age_months', 'Weight (g)',\n",
       "       'Timepoint', 'Tumor Volume (mm3)', 'Metastatic Sites'],\n",
       "      dtype='object')"
      ]
     },
     "execution_count": 167,
     "metadata": {},
     "output_type": "execute_result"
    }
   ],
   "source": [
    "# HEADERS\n",
    "clean_df.columns"
   ]
  },
  {
   "cell_type": "markdown",
   "metadata": {},
   "source": [
    "#### GENERATE A PIE PLOT SHOWING THE DISTRIBUTION OF FEMALE VERSUS MALE MICE USING PANDAS"
   ]
  },
  {
   "cell_type": "code",
   "execution_count": 168,
   "metadata": {},
   "outputs": [
    {
     "data": {
      "text/plain": [
       "<matplotlib.axes._subplots.AxesSubplot at 0x1a186d94d0>"
      ]
     },
     "execution_count": 168,
     "metadata": {},
     "output_type": "execute_result"
    },
    {
     "data": {
      "image/png": "[encoded data removed]",
      "text/plain": [
       "<Figure size 432x288 with 1 Axes>"
      ]
     },
     "metadata": {},
     "output_type": "display_data"
    }
   ],
   "source": [
    "mice_by_sex = clean_df.groupby(\"Sex\")[\"Sex\"].count()\n",
    "mice_by_sex.plot(kind = \"pie\" , title = \"FEMALE TO MALE MICE RATIO\" , autopct=\"%1.1f%%\")"
   ]
  },
  {
   "cell_type": "markdown",
   "metadata": {},
   "source": [
    "#### GENERATE A PIE PLOT SHOWING THE DISTRIBUTION OF FEMALE VERSUS MALE MICE USING PYPLOT"
   ]
  },
  {
   "cell_type": "code",
   "execution_count": 169,
   "metadata": {},
   "outputs": [
    {
     "data": {
      "image/png": "[encoded data removed]",
      "text/plain": [
       "<Figure size 432x288 with 1 Axes>"
      ]
     },
     "metadata": {},
     "output_type": "display_data"
    }
   ],
   "source": [
    "sex_list = [\"Female\", \"Male\"]\n",
    "plt.pie(mice_by_sex, labels=sex_list , autopct=\"%1.1f%%\")\n",
    "plt.title(\"FEMALE TO MALE MICE RATIO\")\n",
    "plt.show()"
   ]
  },
  {
   "cell_type": "markdown",
   "metadata": {},
   "source": [
    "## Quartiles, Outliers and Boxplots\n",
    "#### CALCULATE THE FINAL TUMOR VOLUME OF EACH MOUSE ACROSS THE 4 MOST PROMISING TREATMENT REGIMENS:\n",
    "- Capomulin, Ramicane, Infubinol, and Ceftamin"
   ]
  },
  {
   "cell_type": "code",
   "execution_count": 170,
   "metadata": {},
   "outputs": [
    {
     "data": {
      "text/html": [
       "<div>\n",
       "<style scoped>\n",
       "    .dataframe tbody tr th:only-of-type {\n",
       "        vertical-align: middle;\n",
       "    }\n",
       "\n",
       "    .dataframe tbody tr th {\n",
       "        vertical-align: top;\n",
       "    }\n",
       "\n",
       "    .dataframe thead th {\n",
       "        text-align: right;\n",
       "    }\n",
       "</style>\n",
       "<table border=\"1\" class=\"dataframe\">\n",
       "  <thead>\n",
       "    <tr style=\"text-align: right;\">\n",
       "      <th></th>\n",
       "      <th>Mouse ID</th>\n",
       "      <th>Drug Regimen</th>\n",
       "      <th>Sex</th>\n",
       "      <th>Age_months</th>\n",
       "      <th>Weight (g)</th>\n",
       "      <th>Timepoint</th>\n",
       "      <th>Tumor Volume (mm3)</th>\n",
       "      <th>Metastatic Sites</th>\n",
       "    </tr>\n",
       "  </thead>\n",
       "  <tbody>\n",
       "    <tr>\n",
       "      <td>0</td>\n",
       "      <td>k403</td>\n",
       "      <td>Ramicane</td>\n",
       "      <td>Male</td>\n",
       "      <td>21</td>\n",
       "      <td>16</td>\n",
       "      <td>0</td>\n",
       "      <td>45.0</td>\n",
       "      <td>0</td>\n",
       "    </tr>\n",
       "  </tbody>\n",
       "</table>\n",
       "</div>"
      ],
      "text/plain": [
       "  Mouse ID Drug Regimen   Sex  Age_months  Weight (g)  Timepoint  \\\n",
       "0     k403     Ramicane  Male          21          16          0   \n",
       "\n",
       "   Tumor Volume (mm3)  Metastatic Sites  \n",
       "0                45.0                 0  "
      ]
     },
     "execution_count": 170,
     "metadata": {},
     "output_type": "execute_result"
    }
   ],
   "source": [
    "# DISPLAYING HEADERS\n",
    "clean_df.head(1)"
   ]
  },
  {
   "cell_type": "code",
   "execution_count": 171,
   "metadata": {
    "scrolled": true
   },
   "outputs": [
    {
     "data": {
      "text/html": [
       "<style  type=\"text/css\" >\n",
       "</style><table id=\"T_e7feabaa_a540_11ea_8437_7cd1c387f1ba\" ><caption>FINAL TUMOR VOLUME PER MOUSE PER TOP 4 REGIMENS</caption><thead>    <tr>        <th class=\"blank level0\" ></th>        <th class=\"col_heading level0 col0\" >Timepoint</th>        <th class=\"col_heading level0 col1\" >Drug Regimen</th>        <th class=\"col_heading level0 col2\" >Tumor Volume (mm3)</th>    </tr>    <tr>        <th class=\"index_name level0\" >Mouse ID</th>        <th class=\"blank\" ></th>        <th class=\"blank\" ></th>        <th class=\"blank\" ></th>    </tr></thead><tbody>\n",
       "                <tr>\n",
       "                        <th id=\"T_e7feabaa_a540_11ea_8437_7cd1c387f1balevel0_row0\" class=\"row_heading level0 row0\" >k403</th>\n",
       "                        <td id=\"T_e7feabaa_a540_11ea_8437_7cd1c387f1barow0_col0\" class=\"data row0 col0\" >45</td>\n",
       "                        <td id=\"T_e7feabaa_a540_11ea_8437_7cd1c387f1barow0_col1\" class=\"data row0 col1\" >Ramicane</td>\n",
       "                        <td id=\"T_e7feabaa_a540_11ea_8437_7cd1c387f1barow0_col2\" class=\"data row0 col2\" >22.0501</td>\n",
       "            </tr>\n",
       "            <tr>\n",
       "                        <th id=\"T_e7feabaa_a540_11ea_8437_7cd1c387f1balevel0_row1\" class=\"row_heading level0 row1\" >s185</th>\n",
       "                        <td id=\"T_e7feabaa_a540_11ea_8437_7cd1c387f1barow1_col0\" class=\"data row1 col0\" >45</td>\n",
       "                        <td id=\"T_e7feabaa_a540_11ea_8437_7cd1c387f1barow1_col1\" class=\"data row1 col1\" >Capomulin</td>\n",
       "                        <td id=\"T_e7feabaa_a540_11ea_8437_7cd1c387f1barow1_col2\" class=\"data row1 col2\" >23.3436</td>\n",
       "            </tr>\n",
       "            <tr>\n",
       "                        <th id=\"T_e7feabaa_a540_11ea_8437_7cd1c387f1balevel0_row2\" class=\"row_heading level0 row2\" >x401</th>\n",
       "                        <td id=\"T_e7feabaa_a540_11ea_8437_7cd1c387f1barow2_col0\" class=\"data row2 col0\" >45</td>\n",
       "                        <td id=\"T_e7feabaa_a540_11ea_8437_7cd1c387f1barow2_col1\" class=\"data row2 col1\" >Capomulin</td>\n",
       "                        <td id=\"T_e7feabaa_a540_11ea_8437_7cd1c387f1barow2_col2\" class=\"data row2 col2\" >28.484</td>\n",
       "            </tr>\n",
       "            <tr>\n",
       "                        <th id=\"T_e7feabaa_a540_11ea_8437_7cd1c387f1balevel0_row3\" class=\"row_heading level0 row3\" >m601</th>\n",
       "                        <td id=\"T_e7feabaa_a540_11ea_8437_7cd1c387f1barow3_col0\" class=\"data row3 col0\" >45</td>\n",
       "                        <td id=\"T_e7feabaa_a540_11ea_8437_7cd1c387f1barow3_col1\" class=\"data row3 col1\" >Capomulin</td>\n",
       "                        <td id=\"T_e7feabaa_a540_11ea_8437_7cd1c387f1barow3_col2\" class=\"data row3 col2\" >28.431</td>\n",
       "            </tr>\n",
       "            <tr>\n",
       "                        <th id=\"T_e7feabaa_a540_11ea_8437_7cd1c387f1balevel0_row4\" class=\"row_heading level0 row4\" >g791</th>\n",
       "                        <td id=\"T_e7feabaa_a540_11ea_8437_7cd1c387f1barow4_col0\" class=\"data row4 col0\" >45</td>\n",
       "                        <td id=\"T_e7feabaa_a540_11ea_8437_7cd1c387f1barow4_col1\" class=\"data row4 col1\" >Ramicane</td>\n",
       "                        <td id=\"T_e7feabaa_a540_11ea_8437_7cd1c387f1barow4_col2\" class=\"data row4 col2\" >29.1285</td>\n",
       "            </tr>\n",
       "            <tr>\n",
       "                        <th id=\"T_e7feabaa_a540_11ea_8437_7cd1c387f1balevel0_row5\" class=\"row_heading level0 row5\" >s508</th>\n",
       "                        <td id=\"T_e7feabaa_a540_11ea_8437_7cd1c387f1barow5_col0\" class=\"data row5 col0\" >45</td>\n",
       "                        <td id=\"T_e7feabaa_a540_11ea_8437_7cd1c387f1barow5_col1\" class=\"data row5 col1\" >Ramicane</td>\n",
       "                        <td id=\"T_e7feabaa_a540_11ea_8437_7cd1c387f1barow5_col2\" class=\"data row5 col2\" >30.2762</td>\n",
       "            </tr>\n",
       "            <tr>\n",
       "                        <th id=\"T_e7feabaa_a540_11ea_8437_7cd1c387f1balevel0_row6\" class=\"row_heading level0 row6\" >m546</th>\n",
       "                        <td id=\"T_e7feabaa_a540_11ea_8437_7cd1c387f1barow6_col0\" class=\"data row6 col0\" >45</td>\n",
       "                        <td id=\"T_e7feabaa_a540_11ea_8437_7cd1c387f1barow6_col1\" class=\"data row6 col1\" >Ramicane</td>\n",
       "                        <td id=\"T_e7feabaa_a540_11ea_8437_7cd1c387f1barow6_col2\" class=\"data row6 col2\" >30.5646</td>\n",
       "            </tr>\n",
       "            <tr>\n",
       "                        <th id=\"T_e7feabaa_a540_11ea_8437_7cd1c387f1balevel0_row7\" class=\"row_heading level0 row7\" >z578</th>\n",
       "                        <td id=\"T_e7feabaa_a540_11ea_8437_7cd1c387f1barow7_col0\" class=\"data row7 col0\" >45</td>\n",
       "                        <td id=\"T_e7feabaa_a540_11ea_8437_7cd1c387f1barow7_col1\" class=\"data row7 col1\" >Ramicane</td>\n",
       "                        <td id=\"T_e7feabaa_a540_11ea_8437_7cd1c387f1barow7_col2\" class=\"data row7 col2\" >30.6387</td>\n",
       "            </tr>\n",
       "            <tr>\n",
       "                        <th id=\"T_e7feabaa_a540_11ea_8437_7cd1c387f1balevel0_row8\" class=\"row_heading level0 row8\" >j913</th>\n",
       "                        <td id=\"T_e7feabaa_a540_11ea_8437_7cd1c387f1barow8_col0\" class=\"data row8 col0\" >45</td>\n",
       "                        <td id=\"T_e7feabaa_a540_11ea_8437_7cd1c387f1barow8_col1\" class=\"data row8 col1\" >Ramicane</td>\n",
       "                        <td id=\"T_e7feabaa_a540_11ea_8437_7cd1c387f1barow8_col2\" class=\"data row8 col2\" >31.5605</td>\n",
       "            </tr>\n",
       "            <tr>\n",
       "                        <th id=\"T_e7feabaa_a540_11ea_8437_7cd1c387f1balevel0_row9\" class=\"row_heading level0 row9\" >u364</th>\n",
       "                        <td id=\"T_e7feabaa_a540_11ea_8437_7cd1c387f1barow9_col0\" class=\"data row9 col0\" >45</td>\n",
       "                        <td id=\"T_e7feabaa_a540_11ea_8437_7cd1c387f1barow9_col1\" class=\"data row9 col1\" >Capomulin</td>\n",
       "                        <td id=\"T_e7feabaa_a540_11ea_8437_7cd1c387f1barow9_col2\" class=\"data row9 col2\" >31.0239</td>\n",
       "            </tr>\n",
       "            <tr>\n",
       "                        <th id=\"T_e7feabaa_a540_11ea_8437_7cd1c387f1balevel0_row10\" class=\"row_heading level0 row10\" >n364</th>\n",
       "                        <td id=\"T_e7feabaa_a540_11ea_8437_7cd1c387f1barow10_col0\" class=\"data row10 col0\" >45</td>\n",
       "                        <td id=\"T_e7feabaa_a540_11ea_8437_7cd1c387f1barow10_col1\" class=\"data row10 col1\" >Ramicane</td>\n",
       "                        <td id=\"T_e7feabaa_a540_11ea_8437_7cd1c387f1barow10_col2\" class=\"data row10 col2\" >31.0953</td>\n",
       "            </tr>\n",
       "            <tr>\n",
       "                        <th id=\"T_e7feabaa_a540_11ea_8437_7cd1c387f1balevel0_row11\" class=\"row_heading level0 row11\" >y793</th>\n",
       "                        <td id=\"T_e7feabaa_a540_11ea_8437_7cd1c387f1barow11_col0\" class=\"data row11 col0\" >45</td>\n",
       "                        <td id=\"T_e7feabaa_a540_11ea_8437_7cd1c387f1barow11_col1\" class=\"data row11 col1\" >Capomulin</td>\n",
       "                        <td id=\"T_e7feabaa_a540_11ea_8437_7cd1c387f1barow11_col2\" class=\"data row11 col2\" >31.8962</td>\n",
       "            </tr>\n",
       "            <tr>\n",
       "                        <th id=\"T_e7feabaa_a540_11ea_8437_7cd1c387f1balevel0_row12\" class=\"row_heading level0 row12\" >r554</th>\n",
       "                        <td id=\"T_e7feabaa_a540_11ea_8437_7cd1c387f1barow12_col0\" class=\"data row12 col0\" >45</td>\n",
       "                        <td id=\"T_e7feabaa_a540_11ea_8437_7cd1c387f1barow12_col1\" class=\"data row12 col1\" >Capomulin</td>\n",
       "                        <td id=\"T_e7feabaa_a540_11ea_8437_7cd1c387f1barow12_col2\" class=\"data row12 col2\" >32.3774</td>\n",
       "            </tr>\n",
       "            <tr>\n",
       "                        <th id=\"T_e7feabaa_a540_11ea_8437_7cd1c387f1balevel0_row13\" class=\"row_heading level0 row13\" >m957</th>\n",
       "                        <td id=\"T_e7feabaa_a540_11ea_8437_7cd1c387f1barow13_col0\" class=\"data row13 col0\" >45</td>\n",
       "                        <td id=\"T_e7feabaa_a540_11ea_8437_7cd1c387f1barow13_col1\" class=\"data row13 col1\" >Capomulin</td>\n",
       "                        <td id=\"T_e7feabaa_a540_11ea_8437_7cd1c387f1barow13_col2\" class=\"data row13 col2\" >33.3291</td>\n",
       "            </tr>\n",
       "            <tr>\n",
       "                        <th id=\"T_e7feabaa_a540_11ea_8437_7cd1c387f1balevel0_row14\" class=\"row_heading level0 row14\" >c758</th>\n",
       "                        <td id=\"T_e7feabaa_a540_11ea_8437_7cd1c387f1barow14_col0\" class=\"data row14 col0\" >45</td>\n",
       "                        <td id=\"T_e7feabaa_a540_11ea_8437_7cd1c387f1barow14_col1\" class=\"data row14 col1\" >Ramicane</td>\n",
       "                        <td id=\"T_e7feabaa_a540_11ea_8437_7cd1c387f1barow14_col2\" class=\"data row14 col2\" >33.3977</td>\n",
       "            </tr>\n",
       "            <tr>\n",
       "                        <th id=\"T_e7feabaa_a540_11ea_8437_7cd1c387f1balevel0_row15\" class=\"row_heading level0 row15\" >t565</th>\n",
       "                        <td id=\"T_e7feabaa_a540_11ea_8437_7cd1c387f1barow15_col0\" class=\"data row15 col0\" >45</td>\n",
       "                        <td id=\"T_e7feabaa_a540_11ea_8437_7cd1c387f1barow15_col1\" class=\"data row15 col1\" >Capomulin</td>\n",
       "                        <td id=\"T_e7feabaa_a540_11ea_8437_7cd1c387f1barow15_col2\" class=\"data row15 col2\" >34.4553</td>\n",
       "            </tr>\n",
       "            <tr>\n",
       "                        <th id=\"T_e7feabaa_a540_11ea_8437_7cd1c387f1balevel0_row16\" class=\"row_heading level0 row16\" >a644</th>\n",
       "                        <td id=\"T_e7feabaa_a540_11ea_8437_7cd1c387f1barow16_col0\" class=\"data row16 col0\" >45</td>\n",
       "                        <td id=\"T_e7feabaa_a540_11ea_8437_7cd1c387f1barow16_col1\" class=\"data row16 col1\" >Ramicane</td>\n",
       "                        <td id=\"T_e7feabaa_a540_11ea_8437_7cd1c387f1barow16_col2\" class=\"data row16 col2\" >32.9785</td>\n",
       "            </tr>\n",
       "            <tr>\n",
       "                        <th id=\"T_e7feabaa_a540_11ea_8437_7cd1c387f1balevel0_row17\" class=\"row_heading level0 row17\" >i177</th>\n",
       "                        <td id=\"T_e7feabaa_a540_11ea_8437_7cd1c387f1barow17_col0\" class=\"data row17 col0\" >45</td>\n",
       "                        <td id=\"T_e7feabaa_a540_11ea_8437_7cd1c387f1barow17_col1\" class=\"data row17 col1\" >Ramicane</td>\n",
       "                        <td id=\"T_e7feabaa_a540_11ea_8437_7cd1c387f1barow17_col2\" class=\"data row17 col2\" >33.5624</td>\n",
       "            </tr>\n",
       "            <tr>\n",
       "                        <th id=\"T_e7feabaa_a540_11ea_8437_7cd1c387f1balevel0_row18\" class=\"row_heading level0 row18\" >j989</th>\n",
       "                        <td id=\"T_e7feabaa_a540_11ea_8437_7cd1c387f1barow18_col0\" class=\"data row18 col0\" >45</td>\n",
       "                        <td id=\"T_e7feabaa_a540_11ea_8437_7cd1c387f1barow18_col1\" class=\"data row18 col1\" >Ramicane</td>\n",
       "                        <td id=\"T_e7feabaa_a540_11ea_8437_7cd1c387f1barow18_col2\" class=\"data row18 col2\" >36.1349</td>\n",
       "            </tr>\n",
       "            <tr>\n",
       "                        <th id=\"T_e7feabaa_a540_11ea_8437_7cd1c387f1balevel0_row19\" class=\"row_heading level0 row19\" >i738</th>\n",
       "                        <td id=\"T_e7feabaa_a540_11ea_8437_7cd1c387f1barow19_col0\" class=\"data row19 col0\" >45</td>\n",
       "                        <td id=\"T_e7feabaa_a540_11ea_8437_7cd1c387f1barow19_col1\" class=\"data row19 col1\" >Capomulin</td>\n",
       "                        <td id=\"T_e7feabaa_a540_11ea_8437_7cd1c387f1barow19_col2\" class=\"data row19 col2\" >37.3118</td>\n",
       "            </tr>\n",
       "            <tr>\n",
       "                        <th id=\"T_e7feabaa_a540_11ea_8437_7cd1c387f1balevel0_row20\" class=\"row_heading level0 row20\" >a520</th>\n",
       "                        <td id=\"T_e7feabaa_a540_11ea_8437_7cd1c387f1barow20_col0\" class=\"data row20 col0\" >45</td>\n",
       "                        <td id=\"T_e7feabaa_a540_11ea_8437_7cd1c387f1barow20_col1\" class=\"data row20 col1\" >Ramicane</td>\n",
       "                        <td id=\"T_e7feabaa_a540_11ea_8437_7cd1c387f1barow20_col2\" class=\"data row20 col2\" >38.8104</td>\n",
       "            </tr>\n",
       "            <tr>\n",
       "                        <th id=\"T_e7feabaa_a540_11ea_8437_7cd1c387f1balevel0_row21\" class=\"row_heading level0 row21\" >w914</th>\n",
       "                        <td id=\"T_e7feabaa_a540_11ea_8437_7cd1c387f1barow21_col0\" class=\"data row21 col0\" >45</td>\n",
       "                        <td id=\"T_e7feabaa_a540_11ea_8437_7cd1c387f1barow21_col1\" class=\"data row21 col1\" >Capomulin</td>\n",
       "                        <td id=\"T_e7feabaa_a540_11ea_8437_7cd1c387f1barow21_col2\" class=\"data row21 col2\" >36.041</td>\n",
       "            </tr>\n",
       "            <tr>\n",
       "                        <th id=\"T_e7feabaa_a540_11ea_8437_7cd1c387f1balevel0_row22\" class=\"row_heading level0 row22\" >r811</th>\n",
       "                        <td id=\"T_e7feabaa_a540_11ea_8437_7cd1c387f1barow22_col0\" class=\"data row22 col0\" >45</td>\n",
       "                        <td id=\"T_e7feabaa_a540_11ea_8437_7cd1c387f1barow22_col1\" class=\"data row22 col1\" >Ramicane</td>\n",
       "                        <td id=\"T_e7feabaa_a540_11ea_8437_7cd1c387f1barow22_col2\" class=\"data row22 col2\" >37.2257</td>\n",
       "            </tr>\n",
       "            <tr>\n",
       "                        <th id=\"T_e7feabaa_a540_11ea_8437_7cd1c387f1balevel0_row23\" class=\"row_heading level0 row23\" >g288</th>\n",
       "                        <td id=\"T_e7feabaa_a540_11ea_8437_7cd1c387f1barow23_col0\" class=\"data row23 col0\" >45</td>\n",
       "                        <td id=\"T_e7feabaa_a540_11ea_8437_7cd1c387f1barow23_col1\" class=\"data row23 col1\" >Capomulin</td>\n",
       "                        <td id=\"T_e7feabaa_a540_11ea_8437_7cd1c387f1barow23_col2\" class=\"data row23 col2\" >37.074</td>\n",
       "            </tr>\n",
       "            <tr>\n",
       "                        <th id=\"T_e7feabaa_a540_11ea_8437_7cd1c387f1balevel0_row24\" class=\"row_heading level0 row24\" >i334</th>\n",
       "                        <td id=\"T_e7feabaa_a540_11ea_8437_7cd1c387f1barow24_col0\" class=\"data row24 col0\" >45</td>\n",
       "                        <td id=\"T_e7feabaa_a540_11ea_8437_7cd1c387f1barow24_col1\" class=\"data row24 col1\" >Ramicane</td>\n",
       "                        <td id=\"T_e7feabaa_a540_11ea_8437_7cd1c387f1barow24_col2\" class=\"data row24 col2\" >36.3745</td>\n",
       "            </tr>\n",
       "            <tr>\n",
       "                        <th id=\"T_e7feabaa_a540_11ea_8437_7cd1c387f1balevel0_row25\" class=\"row_heading level0 row25\" >d251</th>\n",
       "                        <td id=\"T_e7feabaa_a540_11ea_8437_7cd1c387f1barow25_col0\" class=\"data row25 col0\" >45</td>\n",
       "                        <td id=\"T_e7feabaa_a540_11ea_8437_7cd1c387f1barow25_col1\" class=\"data row25 col1\" >Ramicane</td>\n",
       "                        <td id=\"T_e7feabaa_a540_11ea_8437_7cd1c387f1barow25_col2\" class=\"data row25 col2\" >37.3112</td>\n",
       "            </tr>\n",
       "            <tr>\n",
       "                        <th id=\"T_e7feabaa_a540_11ea_8437_7cd1c387f1balevel0_row26\" class=\"row_heading level0 row26\" >l897</th>\n",
       "                        <td id=\"T_e7feabaa_a540_11ea_8437_7cd1c387f1barow26_col0\" class=\"data row26 col0\" >45</td>\n",
       "                        <td id=\"T_e7feabaa_a540_11ea_8437_7cd1c387f1barow26_col1\" class=\"data row26 col1\" >Capomulin</td>\n",
       "                        <td id=\"T_e7feabaa_a540_11ea_8437_7cd1c387f1barow26_col2\" class=\"data row26 col2\" >38.8469</td>\n",
       "            </tr>\n",
       "            <tr>\n",
       "                        <th id=\"T_e7feabaa_a540_11ea_8437_7cd1c387f1balevel0_row27\" class=\"row_heading level0 row27\" >b742</th>\n",
       "                        <td id=\"T_e7feabaa_a540_11ea_8437_7cd1c387f1barow27_col0\" class=\"data row27 col0\" >45</td>\n",
       "                        <td id=\"T_e7feabaa_a540_11ea_8437_7cd1c387f1barow27_col1\" class=\"data row27 col1\" >Capomulin</td>\n",
       "                        <td id=\"T_e7feabaa_a540_11ea_8437_7cd1c387f1barow27_col2\" class=\"data row27 col2\" >38.9396</td>\n",
       "            </tr>\n",
       "            <tr>\n",
       "                        <th id=\"T_e7feabaa_a540_11ea_8437_7cd1c387f1balevel0_row28\" class=\"row_heading level0 row28\" >b128</th>\n",
       "                        <td id=\"T_e7feabaa_a540_11ea_8437_7cd1c387f1barow28_col0\" class=\"data row28 col0\" >45</td>\n",
       "                        <td id=\"T_e7feabaa_a540_11ea_8437_7cd1c387f1barow28_col1\" class=\"data row28 col1\" >Capomulin</td>\n",
       "                        <td id=\"T_e7feabaa_a540_11ea_8437_7cd1c387f1barow28_col2\" class=\"data row28 col2\" >38.9829</td>\n",
       "            </tr>\n",
       "            <tr>\n",
       "                        <th id=\"T_e7feabaa_a540_11ea_8437_7cd1c387f1balevel0_row29\" class=\"row_heading level0 row29\" >a411</th>\n",
       "                        <td id=\"T_e7feabaa_a540_11ea_8437_7cd1c387f1barow29_col0\" class=\"data row29 col0\" >45</td>\n",
       "                        <td id=\"T_e7feabaa_a540_11ea_8437_7cd1c387f1barow29_col1\" class=\"data row29 col1\" >Ramicane</td>\n",
       "                        <td id=\"T_e7feabaa_a540_11ea_8437_7cd1c387f1barow29_col2\" class=\"data row29 col2\" >38.4076</td>\n",
       "            </tr>\n",
       "            <tr>\n",
       "                        <th id=\"T_e7feabaa_a540_11ea_8437_7cd1c387f1balevel0_row30\" class=\"row_heading level0 row30\" >j119</th>\n",
       "                        <td id=\"T_e7feabaa_a540_11ea_8437_7cd1c387f1barow30_col0\" class=\"data row30 col0\" >45</td>\n",
       "                        <td id=\"T_e7feabaa_a540_11ea_8437_7cd1c387f1barow30_col1\" class=\"data row30 col1\" >Capomulin</td>\n",
       "                        <td id=\"T_e7feabaa_a540_11ea_8437_7cd1c387f1barow30_col2\" class=\"data row30 col2\" >38.1252</td>\n",
       "            </tr>\n",
       "            <tr>\n",
       "                        <th id=\"T_e7feabaa_a540_11ea_8437_7cd1c387f1balevel0_row31\" class=\"row_heading level0 row31\" >v923</th>\n",
       "                        <td id=\"T_e7feabaa_a540_11ea_8437_7cd1c387f1barow31_col0\" class=\"data row31 col0\" >45</td>\n",
       "                        <td id=\"T_e7feabaa_a540_11ea_8437_7cd1c387f1barow31_col1\" class=\"data row31 col1\" >Capomulin</td>\n",
       "                        <td id=\"T_e7feabaa_a540_11ea_8437_7cd1c387f1barow31_col2\" class=\"data row31 col2\" >40.6581</td>\n",
       "            </tr>\n",
       "            <tr>\n",
       "                        <th id=\"T_e7feabaa_a540_11ea_8437_7cd1c387f1balevel0_row32\" class=\"row_heading level0 row32\" >g316</th>\n",
       "                        <td id=\"T_e7feabaa_a540_11ea_8437_7cd1c387f1barow32_col0\" class=\"data row32 col0\" >45</td>\n",
       "                        <td id=\"T_e7feabaa_a540_11ea_8437_7cd1c387f1barow32_col1\" class=\"data row32 col1\" >Capomulin</td>\n",
       "                        <td id=\"T_e7feabaa_a540_11ea_8437_7cd1c387f1barow32_col2\" class=\"data row32 col2\" >40.1592</td>\n",
       "            </tr>\n",
       "            <tr>\n",
       "                        <th id=\"T_e7feabaa_a540_11ea_8437_7cd1c387f1balevel0_row33\" class=\"row_heading level0 row33\" >s710</th>\n",
       "                        <td id=\"T_e7feabaa_a540_11ea_8437_7cd1c387f1barow33_col0\" class=\"data row33 col0\" >45</td>\n",
       "                        <td id=\"T_e7feabaa_a540_11ea_8437_7cd1c387f1barow33_col1\" class=\"data row33 col1\" >Capomulin</td>\n",
       "                        <td id=\"T_e7feabaa_a540_11ea_8437_7cd1c387f1barow33_col2\" class=\"data row33 col2\" >40.7286</td>\n",
       "            </tr>\n",
       "            <tr>\n",
       "                        <th id=\"T_e7feabaa_a540_11ea_8437_7cd1c387f1balevel0_row34\" class=\"row_heading level0 row34\" >l509</th>\n",
       "                        <td id=\"T_e7feabaa_a540_11ea_8437_7cd1c387f1barow34_col0\" class=\"data row34 col0\" >45</td>\n",
       "                        <td id=\"T_e7feabaa_a540_11ea_8437_7cd1c387f1barow34_col1\" class=\"data row34 col1\" >Capomulin</td>\n",
       "                        <td id=\"T_e7feabaa_a540_11ea_8437_7cd1c387f1barow34_col2\" class=\"data row34 col2\" >41.483</td>\n",
       "            </tr>\n",
       "            <tr>\n",
       "                        <th id=\"T_e7feabaa_a540_11ea_8437_7cd1c387f1balevel0_row35\" class=\"row_heading level0 row35\" >r944</th>\n",
       "                        <td id=\"T_e7feabaa_a540_11ea_8437_7cd1c387f1barow35_col0\" class=\"data row35 col0\" >45</td>\n",
       "                        <td id=\"T_e7feabaa_a540_11ea_8437_7cd1c387f1barow35_col1\" class=\"data row35 col1\" >Capomulin</td>\n",
       "                        <td id=\"T_e7feabaa_a540_11ea_8437_7cd1c387f1barow35_col2\" class=\"data row35 col2\" >41.5815</td>\n",
       "            </tr>\n",
       "            <tr>\n",
       "                        <th id=\"T_e7feabaa_a540_11ea_8437_7cd1c387f1balevel0_row36\" class=\"row_heading level0 row36\" >e662</th>\n",
       "                        <td id=\"T_e7feabaa_a540_11ea_8437_7cd1c387f1barow36_col0\" class=\"data row36 col0\" >45</td>\n",
       "                        <td id=\"T_e7feabaa_a540_11ea_8437_7cd1c387f1barow36_col1\" class=\"data row36 col1\" >Ramicane</td>\n",
       "                        <td id=\"T_e7feabaa_a540_11ea_8437_7cd1c387f1barow36_col2\" class=\"data row36 col2\" >40.659</td>\n",
       "            </tr>\n",
       "            <tr>\n",
       "                        <th id=\"T_e7feabaa_a540_11ea_8437_7cd1c387f1balevel0_row37\" class=\"row_heading level0 row37\" >u196</th>\n",
       "                        <td id=\"T_e7feabaa_a540_11ea_8437_7cd1c387f1barow37_col0\" class=\"data row37 col0\" >45</td>\n",
       "                        <td id=\"T_e7feabaa_a540_11ea_8437_7cd1c387f1barow37_col1\" class=\"data row37 col1\" >Ramicane</td>\n",
       "                        <td id=\"T_e7feabaa_a540_11ea_8437_7cd1c387f1barow37_col2\" class=\"data row37 col2\" >40.6677</td>\n",
       "            </tr>\n",
       "            <tr>\n",
       "                        <th id=\"T_e7feabaa_a540_11ea_8437_7cd1c387f1balevel0_row38\" class=\"row_heading level0 row38\" >q597</th>\n",
       "                        <td id=\"T_e7feabaa_a540_11ea_8437_7cd1c387f1barow38_col0\" class=\"data row38 col0\" >45</td>\n",
       "                        <td id=\"T_e7feabaa_a540_11ea_8437_7cd1c387f1barow38_col1\" class=\"data row38 col1\" >Ramicane</td>\n",
       "                        <td id=\"T_e7feabaa_a540_11ea_8437_7cd1c387f1barow38_col2\" class=\"data row38 col2\" >45.2209</td>\n",
       "            </tr>\n",
       "            <tr>\n",
       "                        <th id=\"T_e7feabaa_a540_11ea_8437_7cd1c387f1balevel0_row39\" class=\"row_heading level0 row39\" >a444</th>\n",
       "                        <td id=\"T_e7feabaa_a540_11ea_8437_7cd1c387f1barow39_col0\" class=\"data row39 col0\" >45</td>\n",
       "                        <td id=\"T_e7feabaa_a540_11ea_8437_7cd1c387f1barow39_col1\" class=\"data row39 col1\" >Ramicane</td>\n",
       "                        <td id=\"T_e7feabaa_a540_11ea_8437_7cd1c387f1barow39_col2\" class=\"data row39 col2\" >43.0475</td>\n",
       "            </tr>\n",
       "            <tr>\n",
       "                        <th id=\"T_e7feabaa_a540_11ea_8437_7cd1c387f1balevel0_row40\" class=\"row_heading level0 row40\" >i557</th>\n",
       "                        <td id=\"T_e7feabaa_a540_11ea_8437_7cd1c387f1barow40_col0\" class=\"data row40 col0\" >45</td>\n",
       "                        <td id=\"T_e7feabaa_a540_11ea_8437_7cd1c387f1barow40_col1\" class=\"data row40 col1\" >Capomulin</td>\n",
       "                        <td id=\"T_e7feabaa_a540_11ea_8437_7cd1c387f1barow40_col2\" class=\"data row40 col2\" >47.686</td>\n",
       "            </tr>\n",
       "            <tr>\n",
       "                        <th id=\"T_e7feabaa_a540_11ea_8437_7cd1c387f1balevel0_row41\" class=\"row_heading level0 row41\" >a203</th>\n",
       "                        <td id=\"T_e7feabaa_a540_11ea_8437_7cd1c387f1barow41_col0\" class=\"data row41 col0\" >45</td>\n",
       "                        <td id=\"T_e7feabaa_a540_11ea_8437_7cd1c387f1barow41_col1\" class=\"data row41 col1\" >Infubinol</td>\n",
       "                        <td id=\"T_e7feabaa_a540_11ea_8437_7cd1c387f1barow41_col2\" class=\"data row41 col2\" >67.9734</td>\n",
       "            </tr>\n",
       "            <tr>\n",
       "                        <th id=\"T_e7feabaa_a540_11ea_8437_7cd1c387f1balevel0_row42\" class=\"row_heading level0 row42\" >a251</th>\n",
       "                        <td id=\"T_e7feabaa_a540_11ea_8437_7cd1c387f1barow42_col0\" class=\"data row42 col0\" >45</td>\n",
       "                        <td id=\"T_e7feabaa_a540_11ea_8437_7cd1c387f1barow42_col1\" class=\"data row42 col1\" >Infubinol</td>\n",
       "                        <td id=\"T_e7feabaa_a540_11ea_8437_7cd1c387f1barow42_col2\" class=\"data row42 col2\" >65.5257</td>\n",
       "            </tr>\n",
       "            <tr>\n",
       "                        <th id=\"T_e7feabaa_a540_11ea_8437_7cd1c387f1balevel0_row43\" class=\"row_heading level0 row43\" >a275</th>\n",
       "                        <td id=\"T_e7feabaa_a540_11ea_8437_7cd1c387f1barow43_col0\" class=\"data row43 col0\" >45</td>\n",
       "                        <td id=\"T_e7feabaa_a540_11ea_8437_7cd1c387f1barow43_col1\" class=\"data row43 col1\" >Ceftamin</td>\n",
       "                        <td id=\"T_e7feabaa_a540_11ea_8437_7cd1c387f1barow43_col2\" class=\"data row43 col2\" >62.9994</td>\n",
       "            </tr>\n",
       "            <tr>\n",
       "                        <th id=\"T_e7feabaa_a540_11ea_8437_7cd1c387f1balevel0_row44\" class=\"row_heading level0 row44\" >a685</th>\n",
       "                        <td id=\"T_e7feabaa_a540_11ea_8437_7cd1c387f1barow44_col0\" class=\"data row44 col0\" >45</td>\n",
       "                        <td id=\"T_e7feabaa_a540_11ea_8437_7cd1c387f1barow44_col1\" class=\"data row44 col1\" >Infubinol</td>\n",
       "                        <td id=\"T_e7feabaa_a540_11ea_8437_7cd1c387f1barow44_col2\" class=\"data row44 col2\" >66.0831</td>\n",
       "            </tr>\n",
       "            <tr>\n",
       "                        <th id=\"T_e7feabaa_a540_11ea_8437_7cd1c387f1balevel0_row45\" class=\"row_heading level0 row45\" >c139</th>\n",
       "                        <td id=\"T_e7feabaa_a540_11ea_8437_7cd1c387f1barow45_col0\" class=\"data row45 col0\" >45</td>\n",
       "                        <td id=\"T_e7feabaa_a540_11ea_8437_7cd1c387f1barow45_col1\" class=\"data row45 col1\" >Infubinol</td>\n",
       "                        <td id=\"T_e7feabaa_a540_11ea_8437_7cd1c387f1barow45_col2\" class=\"data row45 col2\" >72.2267</td>\n",
       "            </tr>\n",
       "            <tr>\n",
       "                        <th id=\"T_e7feabaa_a540_11ea_8437_7cd1c387f1balevel0_row46\" class=\"row_heading level0 row46\" >e476</th>\n",
       "                        <td id=\"T_e7feabaa_a540_11ea_8437_7cd1c387f1barow46_col0\" class=\"data row46 col0\" >45</td>\n",
       "                        <td id=\"T_e7feabaa_a540_11ea_8437_7cd1c387f1barow46_col1\" class=\"data row46 col1\" >Infubinol</td>\n",
       "                        <td id=\"T_e7feabaa_a540_11ea_8437_7cd1c387f1barow46_col2\" class=\"data row46 col2\" >62.4354</td>\n",
       "            </tr>\n",
       "            <tr>\n",
       "                        <th id=\"T_e7feabaa_a540_11ea_8437_7cd1c387f1balevel0_row47\" class=\"row_heading level0 row47\" >f345</th>\n",
       "                        <td id=\"T_e7feabaa_a540_11ea_8437_7cd1c387f1barow47_col0\" class=\"data row47 col0\" >45</td>\n",
       "                        <td id=\"T_e7feabaa_a540_11ea_8437_7cd1c387f1barow47_col1\" class=\"data row47 col1\" >Infubinol</td>\n",
       "                        <td id=\"T_e7feabaa_a540_11ea_8437_7cd1c387f1barow47_col2\" class=\"data row47 col2\" >60.9188</td>\n",
       "            </tr>\n",
       "            <tr>\n",
       "                        <th id=\"T_e7feabaa_a540_11ea_8437_7cd1c387f1balevel0_row48\" class=\"row_heading level0 row48\" >j296</th>\n",
       "                        <td id=\"T_e7feabaa_a540_11ea_8437_7cd1c387f1barow48_col0\" class=\"data row48 col0\" >45</td>\n",
       "                        <td id=\"T_e7feabaa_a540_11ea_8437_7cd1c387f1barow48_col1\" class=\"data row48 col1\" >Ceftamin</td>\n",
       "                        <td id=\"T_e7feabaa_a540_11ea_8437_7cd1c387f1barow48_col2\" class=\"data row48 col2\" >61.849</td>\n",
       "            </tr>\n",
       "            <tr>\n",
       "                        <th id=\"T_e7feabaa_a540_11ea_8437_7cd1c387f1balevel0_row49\" class=\"row_heading level0 row49\" >k210</th>\n",
       "                        <td id=\"T_e7feabaa_a540_11ea_8437_7cd1c387f1barow49_col0\" class=\"data row49 col0\" >45</td>\n",
       "                        <td id=\"T_e7feabaa_a540_11ea_8437_7cd1c387f1barow49_col1\" class=\"data row49 col1\" >Ceftamin</td>\n",
       "                        <td id=\"T_e7feabaa_a540_11ea_8437_7cd1c387f1barow49_col2\" class=\"data row49 col2\" >68.9232</td>\n",
       "            </tr>\n",
       "            <tr>\n",
       "                        <th id=\"T_e7feabaa_a540_11ea_8437_7cd1c387f1balevel0_row50\" class=\"row_heading level0 row50\" >k483</th>\n",
       "                        <td id=\"T_e7feabaa_a540_11ea_8437_7cd1c387f1barow50_col0\" class=\"data row50 col0\" >45</td>\n",
       "                        <td id=\"T_e7feabaa_a540_11ea_8437_7cd1c387f1barow50_col1\" class=\"data row50 col1\" >Infubinol</td>\n",
       "                        <td id=\"T_e7feabaa_a540_11ea_8437_7cd1c387f1barow50_col2\" class=\"data row50 col2\" >66.1969</td>\n",
       "            </tr>\n",
       "            <tr>\n",
       "                        <th id=\"T_e7feabaa_a540_11ea_8437_7cd1c387f1balevel0_row51\" class=\"row_heading level0 row51\" >l471</th>\n",
       "                        <td id=\"T_e7feabaa_a540_11ea_8437_7cd1c387f1barow51_col0\" class=\"data row51 col0\" >45</td>\n",
       "                        <td id=\"T_e7feabaa_a540_11ea_8437_7cd1c387f1barow51_col1\" class=\"data row51 col1\" >Ceftamin</td>\n",
       "                        <td id=\"T_e7feabaa_a540_11ea_8437_7cd1c387f1barow51_col2\" class=\"data row51 col2\" >67.7487</td>\n",
       "            </tr>\n",
       "            <tr>\n",
       "                        <th id=\"T_e7feabaa_a540_11ea_8437_7cd1c387f1balevel0_row52\" class=\"row_heading level0 row52\" >l661</th>\n",
       "                        <td id=\"T_e7feabaa_a540_11ea_8437_7cd1c387f1barow52_col0\" class=\"data row52 col0\" >45</td>\n",
       "                        <td id=\"T_e7feabaa_a540_11ea_8437_7cd1c387f1barow52_col1\" class=\"data row52 col1\" >Ceftamin</td>\n",
       "                        <td id=\"T_e7feabaa_a540_11ea_8437_7cd1c387f1barow52_col2\" class=\"data row52 col2\" >59.852</td>\n",
       "            </tr>\n",
       "            <tr>\n",
       "                        <th id=\"T_e7feabaa_a540_11ea_8437_7cd1c387f1balevel0_row53\" class=\"row_heading level0 row53\" >l733</th>\n",
       "                        <td id=\"T_e7feabaa_a540_11ea_8437_7cd1c387f1barow53_col0\" class=\"data row53 col0\" >45</td>\n",
       "                        <td id=\"T_e7feabaa_a540_11ea_8437_7cd1c387f1barow53_col1\" class=\"data row53 col1\" >Ceftamin</td>\n",
       "                        <td id=\"T_e7feabaa_a540_11ea_8437_7cd1c387f1barow53_col2\" class=\"data row53 col2\" >64.2998</td>\n",
       "            </tr>\n",
       "            <tr>\n",
       "                        <th id=\"T_e7feabaa_a540_11ea_8437_7cd1c387f1balevel0_row54\" class=\"row_heading level0 row54\" >o287</th>\n",
       "                        <td id=\"T_e7feabaa_a540_11ea_8437_7cd1c387f1barow54_col0\" class=\"data row54 col0\" >45</td>\n",
       "                        <td id=\"T_e7feabaa_a540_11ea_8437_7cd1c387f1barow54_col1\" class=\"data row54 col1\" >Ceftamin</td>\n",
       "                        <td id=\"T_e7feabaa_a540_11ea_8437_7cd1c387f1barow54_col2\" class=\"data row54 col2\" >59.7419</td>\n",
       "            </tr>\n",
       "            <tr>\n",
       "                        <th id=\"T_e7feabaa_a540_11ea_8437_7cd1c387f1balevel0_row55\" class=\"row_heading level0 row55\" >p438</th>\n",
       "                        <td id=\"T_e7feabaa_a540_11ea_8437_7cd1c387f1barow55_col0\" class=\"data row55 col0\" >45</td>\n",
       "                        <td id=\"T_e7feabaa_a540_11ea_8437_7cd1c387f1barow55_col1\" class=\"data row55 col1\" >Ceftamin</td>\n",
       "                        <td id=\"T_e7feabaa_a540_11ea_8437_7cd1c387f1barow55_col2\" class=\"data row55 col2\" >61.4339</td>\n",
       "            </tr>\n",
       "            <tr>\n",
       "                        <th id=\"T_e7feabaa_a540_11ea_8437_7cd1c387f1balevel0_row56\" class=\"row_heading level0 row56\" >w151</th>\n",
       "                        <td id=\"T_e7feabaa_a540_11ea_8437_7cd1c387f1barow56_col0\" class=\"data row56 col0\" >45</td>\n",
       "                        <td id=\"T_e7feabaa_a540_11ea_8437_7cd1c387f1barow56_col1\" class=\"data row56 col1\" >Ceftamin</td>\n",
       "                        <td id=\"T_e7feabaa_a540_11ea_8437_7cd1c387f1barow56_col2\" class=\"data row56 col2\" >67.5275</td>\n",
       "            </tr>\n",
       "            <tr>\n",
       "                        <th id=\"T_e7feabaa_a540_11ea_8437_7cd1c387f1balevel0_row57\" class=\"row_heading level0 row57\" >x581</th>\n",
       "                        <td id=\"T_e7feabaa_a540_11ea_8437_7cd1c387f1barow57_col0\" class=\"data row57 col0\" >45</td>\n",
       "                        <td id=\"T_e7feabaa_a540_11ea_8437_7cd1c387f1barow57_col1\" class=\"data row57 col1\" >Ceftamin</td>\n",
       "                        <td id=\"T_e7feabaa_a540_11ea_8437_7cd1c387f1barow57_col2\" class=\"data row57 col2\" >64.6349</td>\n",
       "            </tr>\n",
       "            <tr>\n",
       "                        <th id=\"T_e7feabaa_a540_11ea_8437_7cd1c387f1balevel0_row58\" class=\"row_heading level0 row58\" >x822</th>\n",
       "                        <td id=\"T_e7feabaa_a540_11ea_8437_7cd1c387f1barow58_col0\" class=\"data row58 col0\" >45</td>\n",
       "                        <td id=\"T_e7feabaa_a540_11ea_8437_7cd1c387f1barow58_col1\" class=\"data row58 col1\" >Ceftamin</td>\n",
       "                        <td id=\"T_e7feabaa_a540_11ea_8437_7cd1c387f1barow58_col2\" class=\"data row58 col2\" >61.3867</td>\n",
       "            </tr>\n",
       "            <tr>\n",
       "                        <th id=\"T_e7feabaa_a540_11ea_8437_7cd1c387f1balevel0_row59\" class=\"row_heading level0 row59\" >y163</th>\n",
       "                        <td id=\"T_e7feabaa_a540_11ea_8437_7cd1c387f1barow59_col0\" class=\"data row59 col0\" >45</td>\n",
       "                        <td id=\"T_e7feabaa_a540_11ea_8437_7cd1c387f1barow59_col1\" class=\"data row59 col1\" >Infubinol</td>\n",
       "                        <td id=\"T_e7feabaa_a540_11ea_8437_7cd1c387f1barow59_col2\" class=\"data row59 col2\" >67.6856</td>\n",
       "            </tr>\n",
       "            <tr>\n",
       "                        <th id=\"T_e7feabaa_a540_11ea_8437_7cd1c387f1balevel0_row60\" class=\"row_heading level0 row60\" >y769</th>\n",
       "                        <td id=\"T_e7feabaa_a540_11ea_8437_7cd1c387f1barow60_col0\" class=\"data row60 col0\" >45</td>\n",
       "                        <td id=\"T_e7feabaa_a540_11ea_8437_7cd1c387f1barow60_col1\" class=\"data row60 col1\" >Ceftamin</td>\n",
       "                        <td id=\"T_e7feabaa_a540_11ea_8437_7cd1c387f1barow60_col2\" class=\"data row60 col2\" >68.5947</td>\n",
       "            </tr>\n",
       "            <tr>\n",
       "                        <th id=\"T_e7feabaa_a540_11ea_8437_7cd1c387f1balevel0_row61\" class=\"row_heading level0 row61\" >y865</th>\n",
       "                        <td id=\"T_e7feabaa_a540_11ea_8437_7cd1c387f1barow61_col0\" class=\"data row61 col0\" >45</td>\n",
       "                        <td id=\"T_e7feabaa_a540_11ea_8437_7cd1c387f1barow61_col1\" class=\"data row61 col1\" >Ceftamin</td>\n",
       "                        <td id=\"T_e7feabaa_a540_11ea_8437_7cd1c387f1barow61_col2\" class=\"data row61 col2\" >64.7298</td>\n",
       "            </tr>\n",
       "            <tr>\n",
       "                        <th id=\"T_e7feabaa_a540_11ea_8437_7cd1c387f1balevel0_row62\" class=\"row_heading level0 row62\" >z581</th>\n",
       "                        <td id=\"T_e7feabaa_a540_11ea_8437_7cd1c387f1barow62_col0\" class=\"data row62 col0\" >45</td>\n",
       "                        <td id=\"T_e7feabaa_a540_11ea_8437_7cd1c387f1barow62_col1\" class=\"data row62 col1\" >Infubinol</td>\n",
       "                        <td id=\"T_e7feabaa_a540_11ea_8437_7cd1c387f1barow62_col2\" class=\"data row62 col2\" >62.7545</td>\n",
       "            </tr>\n",
       "    </tbody></table>"
      ],
      "text/plain": [
       "<pandas.io.formats.style.Styler at 0x1a25a2fbd0>"
      ]
     },
     "execution_count": 171,
     "metadata": {},
     "output_type": "execute_result"
    }
   ],
   "source": [
    "# MAKE LIST OF TOP 4 DRUGS (GOT LIST FROM READ ME)\n",
    "top_4_drugs = [\"Capomulin\", \"Ramicane\", \"Infubinol\", \"Ceftamin\"]\n",
    "\n",
    "# CALULATE FINAL TUMOR VOLUME PER MOUSE PER TOP TREATMENTS\n",
    "top_4_drugs_df = clean_df.loc[clean_df[\"Drug Regimen\"].isin(top_4_drugs),\n",
    "                              [\"Mouse ID\",\"Timepoint\", \"Drug Regimen\",\"Tumor Volume (mm3)\"]]\n",
    "\n",
    "final_tumor_df = top_4_drugs_df.loc[top_4_drugs_df[\"Timepoint\"] == 45].set_index(\"Mouse ID\")\n",
    "final_tumor_df.head(10)\n",
    "\n",
    "#XXX- WHY WONT HEAD() WORK WHEN I USE THE CAPTION?\n",
    "final_tumor_df.style.set_caption(\"FINAL TUMOR VOLUME PER MOUSE PER TOP 4 REGIMENS\")"
   ]
  },
  {
   "cell_type": "code",
   "execution_count": 172,
   "metadata": {},
   "outputs": [
    {
     "data": {
      "text/html": [
       "<div>\n",
       "<style scoped>\n",
       "    .dataframe tbody tr th:only-of-type {\n",
       "        vertical-align: middle;\n",
       "    }\n",
       "\n",
       "    .dataframe tbody tr th {\n",
       "        vertical-align: top;\n",
       "    }\n",
       "\n",
       "    .dataframe thead th {\n",
       "        text-align: right;\n",
       "    }\n",
       "</style>\n",
       "<table border=\"1\" class=\"dataframe\">\n",
       "  <thead>\n",
       "    <tr style=\"text-align: right;\">\n",
       "      <th></th>\n",
       "      <th>Mouse ID</th>\n",
       "      <th>Drug Regimen</th>\n",
       "      <th>Sex</th>\n",
       "      <th>Age_months</th>\n",
       "      <th>Weight (g)</th>\n",
       "      <th>Timepoint</th>\n",
       "      <th>Tumor Volume (mm3)</th>\n",
       "      <th>Metastatic Sites</th>\n",
       "    </tr>\n",
       "  </thead>\n",
       "  <tbody>\n",
       "    <tr>\n",
       "      <td>0</td>\n",
       "      <td>k403</td>\n",
       "      <td>Ramicane</td>\n",
       "      <td>Male</td>\n",
       "      <td>21</td>\n",
       "      <td>16</td>\n",
       "      <td>0</td>\n",
       "      <td>45.0</td>\n",
       "      <td>0</td>\n",
       "    </tr>\n",
       "  </tbody>\n",
       "</table>\n",
       "</div>"
      ],
      "text/plain": [
       "  Mouse ID Drug Regimen   Sex  Age_months  Weight (g)  Timepoint  \\\n",
       "0     k403     Ramicane  Male          21          16          0   \n",
       "\n",
       "   Tumor Volume (mm3)  Metastatic Sites  \n",
       "0                45.0                 0  "
      ]
     },
     "execution_count": 172,
     "metadata": {},
     "output_type": "execute_result"
    }
   ],
   "source": [
    "# DISPLAYING HEADERS\n",
    "clean_df.head(1)"
   ]
  },
  {
   "cell_type": "code",
   "execution_count": 173,
   "metadata": {},
   "outputs": [],
   "source": [
    "# MAKE DFs OF TOP 4 REGIMENS AT FINAL TIMEPOINT\n",
    "capomulin_df = final_tumor_df.loc[final_tumor_df['Drug Regimen'] == 'Capomulin']\n",
    "ramicane_df = final_tumor_df.loc[final_tumor_df['Drug Regimen'] == 'Ramicane']\n",
    "infubinol_df = final_tumor_df.loc[final_tumor_df['Drug Regimen'] == 'Infubinol']\n",
    "ceftamin_df = final_tumor_df.loc[final_tumor_df['Drug Regimen'] == 'Ceftamin']"
   ]
  },
  {
   "cell_type": "code",
   "execution_count": 174,
   "metadata": {},
   "outputs": [],
   "source": [
    "# CAPOMULIN STATS\n",
    "capomulin_final_tumors = capomulin_df[\"Tumor Volume (mm3)\"]\n",
    "capomulin_quartiles = round(capomulin_final_tumors.quantile([.25, .50, .75]) , 2)\n",
    "capomulin_q1 = capomulin_quartiles[.25]\n",
    "capomulin_q2 = capomulin_quartiles[.50]\n",
    "capomulin_q3 = capomulin_quartiles[.75]\n",
    "capomulin_iqr = round(st.iqr(capomulin_final_tumors) , 2)\n",
    "capomulin_low_out = capomulin_q1 - 1.5*capomulin_iqr\n",
    "capomulin_high_out = capomulin_q3 + 1.5*capomulin_iqr\n",
    "\n",
    "    # SET AS INTERGER\n",
    "(capomulin_df[\"Tumor Volume (mm3)\"]).astype(int)\n",
    "    # GET OUTLIERS\n",
    "capomulin_outliers = capomulin_df.loc[(capomulin_df[\"Tumor Volume (mm3)\"]> capomulin_high_out) | \n",
    "                            (capomulin_df[\"Tumor Volume (mm3)\"] < capomulin_low_out)]\n",
    "    # COUNT OURLIERS\n",
    "capomulin_out_count = capomulin_outliers[\"Timepoint\"].count()\n",
    "\n",
    "# SUMMARY\n",
    "capomulin_summary = (\n",
    "    f\"CAPOMULIN STATS\\n\"\n",
    "    f\"Quartile 1: {capomulin_q1}\\n\"\n",
    "    f\"Quartile 2: {capomulin_q2}\\n\"\n",
    "    f\"Quartile 3: {capomulin_q3}\\n\"\n",
    "    f\"Interquartile Range: {capomulin_iqr}\\n\"\n",
    "    f\"Outliers have a tumor volume below {capomulin_low_out} and above {capomulin_high_out}\\n\"\n",
    "    f\"Capomulin outliers: {capomulin_out_count}\\n\"\n",
    "    f\"{'-' *20}\\n\")"
   ]
  },
  {
   "cell_type": "code",
   "execution_count": 175,
   "metadata": {},
   "outputs": [],
   "source": [
    "# RAMICANE STATS\n",
    "ramicane_final_tumors = ramicane_df[\"Tumor Volume (mm3)\"]\n",
    "ramicane_quartiles = round(ramicane_final_tumors.quantile([.25, .50, .75]) , 2)\n",
    "ramicane_q1 = ramicane_quartiles[.25]\n",
    "ramicane_q2 = ramicane_quartiles[.50]\n",
    "ramicane_q3 = ramicane_quartiles[.75]\n",
    "ramicane_iqr = round(st.iqr(ramicane_final_tumors) , 2)\n",
    "ramicane_low_out = round(ramicane_q1 - 1.5*ramicane_iqr , 2)\n",
    "ramicane_high_out = round(ramicane_q3 + 1.5*ramicane_iqr , 2)\n",
    "\n",
    "    # SET AS INTERGER\n",
    "(ramicane_df[\"Tumor Volume (mm3)\"]).astype(int)\n",
    "    # GET OUTLIERS\n",
    "ramicane_outliers = ramicane_df.loc[(capomulin_df[\"Tumor Volume (mm3)\"]> ramicane_high_out) | \n",
    "                            (ramicane_df[\"Tumor Volume (mm3)\"] < ramicane_low_out)]\n",
    "    # COUNT OURLIERS\n",
    "ramicane_out_count = ramicane_outliers[\"Timepoint\"].count()\n",
    "\n",
    "# SUMMARY\n",
    "ramicane_summary = (\n",
    "    f\"RAMICANE STATS\\n\"\n",
    "    f\"Quartile 1: {ramicane_q1}\\n\"\n",
    "    f\"Quartile 2: {ramicane_q2}\\n\"\n",
    "    f\"Quartile 3: {ramicane_q3}\\n\"\n",
    "    f\"Interquartile Range: {ramicane_iqr}\\n\"\n",
    "    f\"Outliers have a tumor volume below {ramicane_low_out} and above {ramicane_high_out}\\n\"\n",
    "    f\"Ramicane outliers: {ramicane_out_count}\\n\"\n",
    "    f\"{'-' *20}\\n\")"
   ]
  },
  {
   "cell_type": "code",
   "execution_count": 176,
   "metadata": {},
   "outputs": [],
   "source": [
    "# INFUBINOL STATS\n",
    "infubinol_final_tumors = infubinol_df[\"Tumor Volume (mm3)\"]\n",
    "infubinol_quartiles = round(infubinol_final_tumors.quantile([.25, .50, .75]) , 2)\n",
    "infubinol_q1 = infubinol_quartiles[.25]\n",
    "infubinol_q2 = infubinol_quartiles[.25]\n",
    "infubinol_q3 = infubinol_quartiles[.75]\n",
    "infubinol_iqr = round(st.iqr(infubinol_final_tumors) , 2)\n",
    "infubinol_low_out = round(infubinol_q1 - 1.5*infubinol_iqr , 2)\n",
    "infubinol_hight_out = round(infubinol_q3 + 1.5*infubinol_iqr , 2)\n",
    "\n",
    "# SET AS INTERGER\n",
    "(infubinol_df[\"Tumor Volume (mm3)\"]).astype(int)\n",
    "    #GET OUTLIERS\n",
    "infubinol_outliers = infubinol_df.loc[(capomulin_df[\"Tumor Volume (mm3)\"]> infubinol_hight_out) | \n",
    "                            (infubinol_df[\"Tumor Volume (mm3)\"] < infubinol_low_out)]\n",
    "    # COUNT OURLIERS\n",
    "infubinol_out_count = infubinol_outliers[\"Timepoint\"].count()\n",
    "\n",
    "# SUMMARY\n",
    "infubinol_summary = (\n",
    "    f\"INFUBINOL STATS\\n\"\n",
    "    f\"Quartile 1: {infubinol_q1}\\n\"\n",
    "    f\"Quartile 2: {infubinol_q2}\\n\"\n",
    "    f\"Quartile 3: {infubinol_q3}\\n\"\n",
    "    f\"Interquartile Range: {infubinol_iqr}\\n\"\n",
    "    f\"Outliers have a tumor volume below {infubinol_low_out} and above {infubinol_hight_out}\\n\"\n",
    "    f\"Infubinol outliers: {infubinol_out_count}\\n\"\n",
    "    f\"{'-' *20}\\n\")"
   ]
  },
  {
   "cell_type": "code",
   "execution_count": 177,
   "metadata": {},
   "outputs": [],
   "source": [
    "# CEFTAMIN STATS\n",
    "ceftamin_final_tumors = ceftamin_df[\"Tumor Volume (mm3)\"]\n",
    "ceftamin_quartiles = round(ceftamin_final_tumors.quantile([.25, .50, .75]) , 2)\n",
    "ceftamin_q1 = ceftamin_quartiles[.25]\n",
    "ceftamin_q2 = ceftamin_quartiles[.50]\n",
    "ceftamin_q3 = ceftamin_quartiles[.75]\n",
    "ceftamin_iqr = round(st.iqr(ceftamin_final_tumors) , 2)\n",
    "ceftamin_low_out = round(ceftamin_q1 - 1.5*ceftamin_iqr , 2)\n",
    "ceftamin_high_out = round(ceftamin_q3 + 1.5*ceftamin_iqr , 2)\n",
    "\n",
    "# SET AS INTERGER\n",
    "(ceftamin_df[\"Tumor Volume (mm3)\"]).astype(int)\n",
    "    # GET OUTLIERS\n",
    "ceftamin_outliers = ceftamin_df.loc[(capomulin_df[\"Tumor Volume (mm3)\"]> ceftamin_high_out) | \n",
    "                            (ceftamin_df[\"Tumor Volume (mm3)\"] < ceftamin_low_out)]\n",
    "    # COUNT OURLIERS\n",
    "ceftamin_out_count = ceftamin_outliers[\"Timepoint\"].count()\n",
    "\n",
    "# SUMMARY\n",
    "ceftamin_summary = (\n",
    "    f\"CEFTAMIN STATS\\n\"\n",
    "    f\"Quartile 1: {ceftamin_q1}\\n\"\n",
    "    f\"Quartile 2: {ceftamin_q2}\\n\"\n",
    "    f\"Quartile 3: {ceftamin_q2}\\n\"\n",
    "    f\"Interquartile Range: {ceftamin_iqr}\\n\"\n",
    "    f\"Outliers have a tumor volume below {ceftamin_low_out} and above {ceftamin_high_out}\\n\"\n",
    "    f\"Ceftamin outliers: {ceftamin_out_count}\\n\"\n",
    "    f\"{'-' *20}\\n\")"
   ]
  },
  {
   "cell_type": "markdown",
   "metadata": {},
   "source": [
    "#### Calculate the IQR (Interquartile Range) and quantitatively determine if there are any potential outliers. "
   ]
  },
  {
   "cell_type": "code",
   "execution_count": 178,
   "metadata": {},
   "outputs": [
    {
     "name": "stdout",
     "output_type": "stream",
     "text": [
      "CAPOMULIN STATS\n",
      "Quartile 1: 32.38\n",
      "Quartile 2: 37.31\n",
      "Quartile 3: 40.16\n",
      "Interquartile Range: 7.78\n",
      "Outliers have a tumor volume below 20.71 and above 51.83\n",
      "Capomulin outliers: 0\n",
      "--------------------\n",
      "\n",
      "RAMICANE STATS\n",
      "Quartile 1: 30.98\n",
      "Quartile 2: 34.85\n",
      "Quartile 3: 38.51\n",
      "Interquartile Range: 7.53\n",
      "Outliers have a tumor volume below 19.69 and above 49.8\n",
      "Ramicane outliers: 0\n",
      "--------------------\n",
      "\n",
      "INFUBINOL STATS\n",
      "Quartile 1: 62.75\n",
      "Quartile 2: 62.75\n",
      "Quartile 3: 67.69\n",
      "Interquartile Range: 4.93\n",
      "Outliers have a tumor volume below 55.36 and above 75.08\n",
      "Infubinol outliers: 0\n",
      "--------------------\n",
      "\n",
      "CEFTAMIN STATS\n",
      "Quartile 1: 61.43\n",
      "Quartile 2: 64.3\n",
      "Quartile 3: 64.3\n",
      "Interquartile Range: 6.09\n",
      "Outliers have a tumor volume below 52.3 and above 76.67\n",
      "Ceftamin outliers: 0\n",
      "--------------------\n",
      "\n"
     ]
    }
   ],
   "source": [
    "# PRINT SUMMARIES\n",
    "print(capomulin_summary)\n",
    "print(ramicane_summary)\n",
    "print(infubinol_summary)\n",
    "print(ceftamin_summary)"
   ]
  },
  {
   "cell_type": "markdown",
   "metadata": {},
   "source": [
    "#### GENERATE A BOX PLOT OF THE FINAL TUMOR VOLUME OF EACH MOUSE ACROSS FOUR REGIMENS OF INTEREST"
   ]
  },
  {
   "cell_type": "code",
   "execution_count": 179,
   "metadata": {},
   "outputs": [
    {
     "data": {
      "text/plain": [
       "Text(0, 0.5, 'Tumor Volume')"
      ]
     },
     "execution_count": 179,
     "metadata": {},
     "output_type": "execute_result"
    },
    {
     "data": {
      "image/png": "[encoded data removed]",
      "text/plain": [
       "<Figure size 432x288 with 1 Axes>"
      ]
     },
     "metadata": {
      "needs_background": "light"
     },
     "output_type": "display_data"
    }
   ],
   "source": [
    "plt.boxplot([capomulin_final_tumors, ramicane_final_tumors, infubinol_final_tumors, ceftamin_final_tumors])\n",
    "plt.xticks([1, 2, 3, 4], ['Capomulin', 'Ramicane', 'Infubinol', 'Ceftamin'])\n",
    "plt.title(\"FINAL TUMOR VOLUME FOR TOP REGIMENS\")\n",
    "plt.ylabel(\"Tumor Volume\")"
   ]
  },
  {
   "cell_type": "markdown",
   "metadata": {},
   "source": [
    "## Line and Scatter Plots"
   ]
  },
  {
   "cell_type": "markdown",
   "metadata": {},
   "source": [
    "#### GENERATE A LINE PLOT OF TIME POINT VERSUS TUMOR VOLUME FOR A MOUSE TREATED WITH CAPOMULIN"
   ]
  },
  {
   "cell_type": "code",
   "execution_count": 180,
   "metadata": {},
   "outputs": [
    {
     "data": {
      "text/plain": [
       "Text(0, 0.5, 'Tumor Volume (mm3)')"
      ]
     },
     "execution_count": 180,
     "metadata": {},
     "output_type": "execute_result"
    },
    {
     "data": {
      "image/png": "[encoded data removed]",
      "text/plain": [
       "<Figure size 432x288 with 1 Axes>"
      ]
     },
     "metadata": {
      "needs_background": "light"
     },
     "output_type": "display_data"
    }
   ],
   "source": [
    "capomulin_mouse = clean_df.loc[((clean_df['Drug Regimen'] == 'Capomulin') & (clean_df['Mouse ID'] == 's185'))]\n",
    "capomulin_mouse_df = capomulin_mouse[['Timepoint', 'Tumor Volume (mm3)']].set_index('Timepoint')\n",
    "capomulin_mouse_plot = capomulin_mouse_df.plot.line(title = \"CAPOMULIN TREATMENT FOR MOUSE S185\")\n",
    "capomulin_mouse_plot.set_xlabel(\"Timepoint (days)\")\n",
    "capomulin_mouse_plot.set_ylabel(\"Tumor Volume (mm3)\")"
   ]
  },
  {
   "cell_type": "markdown",
   "metadata": {},
   "source": [
    "#### GENERATE A SCATTER PLOT OF MOUSE WEIGHT VERSUS AVERAGE TUMOR VOLUME FOR THE CAPOMULIN REGIMEN"
   ]
  },
  {
   "cell_type": "code",
   "execution_count": 181,
   "metadata": {},
   "outputs": [
    {
     "data": {
      "image/png": "[encoded data removed]",
      "text/plain": [
       "<Figure size 432x288 with 1 Axes>"
      ]
     },
     "metadata": {
      "needs_background": "light"
     },
     "output_type": "display_data"
    }
   ],
   "source": [
    "# GET DF FOR NEEDED DATA\n",
    "weight_volume_df = clean_df.loc[clean_df[\"Drug Regimen\"]==\"Capomulin\", [\"Mouse ID\", \"Weight (g)\", \"Tumor Volume (mm3)\"]]\n",
    "\n",
    "# GET MEAN FOR METRICS OF INTEREST\n",
    "weight_volume_mean_df = weight_volume_df.groupby(\"Mouse ID\").mean()\n",
    "\n",
    "# GET LIST OF METRICS TO PLOT\n",
    "weight_list = weight_volume_mean_df[\"Weight (g)\"]\n",
    "volume_list = weight_volume_mean_df[\"Tumor Volume (mm3)\"]\n",
    "\n",
    "# PLOT\n",
    "plt.scatter(weight_list, volume_list)\n",
    "plt.xlabel(\"Weight (g)\")\n",
    "plt.ylabel(\"Tumor Volume (mm3)\")\n",
    "plt.title(\"CAPOMULIN REGIMEN: MOUSE WEIGHT VS AVERAGE TUMOR VOLUME\")\n",
    "plt.show()"
   ]
  },
  {
   "cell_type": "markdown",
   "metadata": {},
   "source": [
    "## Correlation and Regression"
   ]
  },
  {
   "cell_type": "markdown",
   "metadata": {},
   "source": [
    "#### CALCULATE THE CORRELATION COEFFICIENT AND LINEAR REGRESSION MODEL FOR MOUSE WEIGHT AND AVERAGE TUMOR VOLUME FOR THE CAPOMULIN REGIMEN"
   ]
  },
  {
   "cell_type": "code",
   "execution_count": 182,
   "metadata": {},
   "outputs": [
    {
     "name": "stdout",
     "output_type": "stream",
     "text": [
      "Correlation: 0.84\n",
      "P-value: 0.0\n",
      "Linear Regression equation: y = 0.95x + 21.55\n"
     ]
    },
    {
     "data": {
      "image/png": "[encoded data removed]",
      "text/plain": [
       "<Figure size 432x288 with 1 Axes>"
      ]
     },
     "metadata": {
      "needs_background": "light"
     },
     "output_type": "display_data"
    }
   ],
   "source": [
    "# CORRELATION\n",
    "correlation = st.pearsonr(weight_list, volume_list) #these lists are above\n",
    "print(f\"Correlation: {round(correlation[0],2)}\")\n",
    "print(f\"P-value: {round(correlation[1],2)}\")\n",
    "\n",
    "\n",
    "# GET SLOPES\n",
    "x_values = weight_list\n",
    "y_values = volume_list\n",
    "\n",
    "(slope, intercept, rvalue, pvalue, stderr) = st.linregress(x_values, y_values)\n",
    "regress_values = x_values * slope + intercept\n",
    "line_equation = \"y = \" + str(round(slope,2)) + \"x + \" + str(round(intercept,2))\n",
    "\n",
    "print(f\"Linear Regression equation: {line_equation}\")\n",
    "\n",
    "# PLOT\n",
    "plt.scatter(x_values, y_values)\n",
    "plt.plot(x_values, regress_values,\"r-\")\n",
    "plt.xlabel(\"Weight (g)\")\n",
    "plt.ylabel(\"Tumor Volume\")\n",
    "plt.title(\"CAPOMULIN REGIMEN: MOUSE WEIGHT vs. AVERAGE TUMOR VOLUME\")\n",
    "plt.show()"
   ]
  }
 ],
 "metadata": {
  "anaconda-cloud": {},
  "kernelspec": {
   "display_name": "Python 3",
   "language": "python",
   "name": "python3"
  },
  "language_info": {
   "codemirror_mode": {
    "name": "ipython",
    "version": 3
   },
   "file_extension": ".py",
   "mimetype": "text/x-python",
   "name": "python",
   "nbconvert_exporter": "python",
   "pygments_lexer": "ipython3",
   "version": "3.7.4"
  }
 },
 "nbformat": 4,
 "nbformat_minor": 2
}
