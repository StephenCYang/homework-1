{
 "cells": [
  {
   "cell_type": "markdown",
   "metadata": {},
   "source": [
    "# WeatherPy\n",
    "----\n",
    "\n",
    "#### Note\n",
    "* Instructions have been included for each segment. You do not have to follow them exactly, but they are included to help you think through the steps."
   ]
  },
  {
   "cell_type": "code",
   "execution_count": 1,
   "metadata": {
    "scrolled": true
   },
   "outputs": [],
   "source": [
    "# Dependencies and Setup\n",
    "import matplotlib.pyplot as plt\n",
    "import pandas as pd\n",
    "import numpy as np\n",
    "import requests\n",
    "import time\n",
    "from scipy.stats import linregress\n",
    "\n",
    "# Import API key\n",
    "from api_keys import weather_api_key\n",
    "\n",
    "# Incorporated citipy to determine city based on latitude and longitude\n",
    "from citipy import citipy\n",
    "\n",
    "# Output File (CSV)\n",
    "output_data_file = \"output_data/cities.csv\"\n",
    "\n",
    "# Range of latitudes and longitudes\n",
    "lat_range = (-90, 90)\n",
    "lng_range = (-180, 180)"
   ]
  },
  {
   "cell_type": "markdown",
   "metadata": {},
   "source": [
    "## Generate Cities List"
   ]
  },
  {
   "cell_type": "code",
   "execution_count": 2,
   "metadata": {},
   "outputs": [
    {
     "data": {
      "text/plain": [
       "599"
      ]
     },
     "execution_count": 2,
     "metadata": {},
     "output_type": "execute_result"
    }
   ],
   "source": [
    "# List for holding lat_lngs and cities\n",
    "lat_lngs = []\n",
    "cities = []\n",
    "\n",
    "# Create a set of random lat and lng combinations\n",
    "lats = np.random.uniform(lat_range[0], lat_range[1], size=1500)\n",
    "lngs = np.random.uniform(lng_range[0], lng_range[1], size=1500)\n",
    "lat_lngs = zip(lats, lngs)\n",
    "\n",
    "# Identify nearest city for each lat, lng combination\n",
    "for lat_lng in lat_lngs:\n",
    "    city = citipy.nearest_city(lat_lng[0], lat_lng[1]).city_name\n",
    "    \n",
    "    # If the city is unique, then add it to a our cities list\n",
    "    if city not in cities:\n",
    "        cities.append(city)\n",
    "\n",
    "# Print the city count to confirm sufficient count\n",
    "len(cities)"
   ]
  },
  {
   "cell_type": "markdown",
   "metadata": {},
   "source": [
    "### Perform API Calls\n",
    "* Perform a weather check on each city using a series of successive API calls.\n",
    "* Include a print log of each city as it'sbeing processed (with the city number and city name).\n"
   ]
  },
  {
   "cell_type": "code",
   "execution_count": 4,
   "metadata": {},
   "outputs": [
    {
     "name": "stdout",
     "output_type": "stream",
     "text": [
      "PRINT LOG OF CITIES PROCESSED\n",
      "------------------------------\n",
      "Processing Record 0 | san joaquin.\n",
      "Processing Record 1 | ushuaia.\n",
      "Processing Record 2 | bengkulu.\n",
      "Processing Record 3 | tuktoyaktuk.\n",
      "Processing Record 4 | landazuri.\n",
      "Processing Record 5 | rikitea.\n",
      "Processing Record 6 | khorol.\n",
      "Processing Record 7 | mataura.\n",
      "Processing Record 8 | marienburg.\n",
      "Processing Record 9 | saskylakh.\n",
      "Processing Record 10 | klaksvik.\n",
      "Processing Record 11 | ilyich.\n",
      "Processing Record 12 | port hedland.\n",
      "Processing Record 13 | kloulklubed.\n",
      "Processing Record 14 | souillac.\n",
      "Processing Record 15 | dwarka.\n",
      "Processing Record 16 | punta arenas.\n",
      "Processing Record 17 | marcona.\n",
      "City not found. Skipping...\n",
      "Processing Record 18 | cherskiy.\n",
      "Processing Record 19 | suntar.\n",
      "Processing Record 20 | tasiilaq.\n",
      "Processing Record 21 | severo-kurilsk.\n",
      "Processing Record 22 | dubrovka.\n",
      "Processing Record 23 | teya.\n",
      "Processing Record 24 | illoqqortoormiut.\n",
      "City not found. Skipping...\n",
      "Processing Record 25 | busselton.\n",
      "Processing Record 26 | wufeng.\n",
      "Processing Record 27 | qaanaaq.\n",
      "Processing Record 28 | codrington.\n",
      "Processing Record 29 | port blair.\n",
      "Processing Record 30 | guerrero negro.\n",
      "Processing Record 31 | nome.\n",
      "Processing Record 32 | yellowknife.\n",
      "Processing Record 33 | cockburn town.\n",
      "Processing Record 34 | graaff-reinet.\n",
      "Processing Record 35 | the valley.\n",
      "Processing Record 36 | bedi.\n",
      "Processing Record 37 | formosa.\n",
      "Processing Record 38 | torbay.\n",
      "Processing Record 39 | bambanglipuro.\n",
      "Processing Record 40 | clyde river.\n",
      "Processing Record 41 | east london.\n",
      "Processing Record 42 | new norfolk.\n",
      "Processing Record 43 | waipawa.\n",
      "Processing Record 44 | arlit.\n",
      "Processing Record 45 | tual.\n",
      "Processing Record 46 | atuona.\n",
      "Processing Record 47 | yulara.\n",
      "Processing Record 48 | kintampo.\n",
      "Processing Record 49 | hualmay.\n",
      "Processing Record 50 | high level.\n",
      "Processing Record 51 | butaritari.\n",
      "Processing Record 52 | hithadhoo.\n",
      "Processing Record 53 | ballinrobe.\n",
      "Processing Record 54 | eyrarbakki.\n",
      "Processing Record 55 | taolanaro.\n",
      "City not found. Skipping...\n",
      "Processing Record 56 | victoria.\n",
      "Processing Record 57 | bambous virieux.\n",
      "Processing Record 58 | kapaa.\n",
      "Processing Record 59 | evensk.\n",
      "Processing Record 60 | westport.\n",
      "Processing Record 61 | arraial do cabo.\n",
      "Processing Record 62 | bredasdorp.\n",
      "Processing Record 63 | rexburg.\n",
      "Processing Record 64 | cabo san lucas.\n",
      "Processing Record 65 | dianopolis.\n",
      "City not found. Skipping...\n",
      "Processing Record 66 | narsaq.\n",
      "Processing Record 67 | nikolskoye.\n",
      "Processing Record 68 | nouadhibou.\n",
      "Processing Record 69 | jamestown.\n",
      "Processing Record 70 | port alfred.\n",
      "Processing Record 71 | barquisimeto.\n",
      "Processing Record 72 | frontera.\n",
      "Processing Record 73 | lebu.\n",
      "Processing Record 74 | ballina.\n",
      "Processing Record 75 | airai.\n",
      "Processing Record 76 | shitkino.\n",
      "Processing Record 77 | hilo.\n",
      "Processing Record 78 | sentyabrskiy.\n",
      "City not found. Skipping...\n",
      "Processing Record 79 | bluff.\n",
      "Processing Record 80 | barentsburg.\n",
      "City not found. Skipping...\n",
      "Processing Record 81 | bolungarvik.\n",
      "City not found. Skipping...\n",
      "Processing Record 82 | dickinson.\n",
      "Processing Record 83 | iqaluit.\n",
      "Processing Record 84 | laguna.\n",
      "Processing Record 85 | balkanabat.\n",
      "Processing Record 86 | satitoa.\n",
      "City not found. Skipping...\n",
      "Processing Record 87 | flinders.\n",
      "Processing Record 88 | avarua.\n",
      "Processing Record 89 | fortuna.\n",
      "Processing Record 90 | hermanus.\n",
      "Processing Record 91 | norman wells.\n",
      "Processing Record 92 | thompson.\n",
      "Processing Record 93 | aklavik.\n",
      "Processing Record 94 | poshtove.\n",
      "Processing Record 95 | kalmunai.\n",
      "Processing Record 96 | cape coast.\n",
      "Processing Record 97 | lavrentiya.\n",
      "Processing Record 98 | hobart.\n",
      "Processing Record 99 | ribeira grande.\n",
      "Processing Record 100 | monrovia.\n",
      "Processing Record 101 | belushya guba.\n",
      "City not found. Skipping...\n",
      "Processing Record 102 | port-gentil.\n",
      "Processing Record 103 | albany.\n",
      "Processing Record 104 | puerto ayora.\n",
      "Processing Record 105 | mar del plata.\n",
      "Processing Record 106 | kurayoshi.\n",
      "Processing Record 107 | kahului.\n",
      "Processing Record 108 | bethel.\n",
      "Processing Record 109 | sibolga.\n",
      "Processing Record 110 | egvekinot.\n",
      "Processing Record 111 | vaini.\n",
      "Processing Record 112 | tulun.\n",
      "Processing Record 113 | estelle.\n",
      "Processing Record 114 | ko samui.\n",
      "Processing Record 115 | kawana waters.\n",
      "City not found. Skipping...\n",
      "Processing Record 116 | rudbar.\n",
      "Processing Record 117 | baoro.\n",
      "Processing Record 118 | axim.\n",
      "Processing Record 119 | san-pedro.\n",
      "Processing Record 120 | lillooet.\n",
      "Processing Record 121 | bargal.\n",
      "City not found. Skipping...\n",
      "Processing Record 122 | jalu.\n",
      "Processing Record 123 | tiksi.\n",
      "Processing Record 124 | la primavera.\n",
      "Processing Record 125 | faanui.\n",
      "Processing Record 126 | alyangula.\n",
      "Processing Record 127 | kruisfontein.\n",
      "Processing Record 128 | dawei.\n",
      "Processing Record 129 | mount gambier.\n",
      "Processing Record 130 | vaitupu.\n",
      "City not found. Skipping...\n",
      "Processing Record 131 | oussouye.\n",
      "Processing Record 132 | hay river.\n",
      "Processing Record 133 | saint george.\n",
      "Processing Record 134 | nizhneyansk.\n",
      "City not found. Skipping...\n",
      "Processing Record 135 | macheng.\n",
      "Processing Record 136 | hammerfest.\n",
      "Processing Record 137 | phan thiet.\n",
      "Processing Record 138 | tumannyy.\n",
      "City not found. Skipping...\n",
      "Processing Record 139 | castro.\n",
      "Processing Record 140 | ostrovnoy.\n",
      "Processing Record 141 | port macquarie.\n",
      "Processing Record 142 | ouadda.\n",
      "Processing Record 143 | pontianak.\n",
      "Processing Record 144 | fairbanks.\n",
      "Processing Record 145 | la libertad.\n",
      "Processing Record 146 | maneadero.\n",
      "Processing Record 147 | pilao arcado.\n",
      "City not found. Skipping...\n",
      "Processing Record 148 | porto walter.\n",
      "Processing Record 149 | jumla.\n",
      "Processing Record 150 | nhulunbuy.\n",
      "Processing Record 151 | urucara.\n",
      "Processing Record 152 | tabas.\n",
      "Processing Record 153 | lieksa.\n",
      "Processing Record 154 | beloha.\n",
      "Processing Record 155 | havre-saint-pierre.\n",
      "Processing Record 156 | san patricio.\n",
      "Processing Record 157 | kaitangata.\n",
      "Processing Record 158 | saint-pierre.\n",
      "Processing Record 159 | yar-sale.\n",
      "Processing Record 160 | tongliao.\n",
      "Processing Record 161 | zhangjiakou.\n",
      "Processing Record 162 | torbat-e jam.\n",
      "Processing Record 163 | marzuq.\n",
      "Processing Record 164 | anshun.\n",
      "Processing Record 165 | carnarvon.\n",
      "Processing Record 166 | mys shmidta.\n",
      "City not found. Skipping...\n",
      "Processing Record 167 | wageningen.\n",
      "Processing Record 168 | chuy.\n",
      "Processing Record 169 | cayenne.\n",
      "Processing Record 170 | havoysund.\n",
      "Processing Record 171 | celestun.\n",
      "Processing Record 172 | mount isa.\n",
      "Processing Record 173 | usinsk.\n",
      "Processing Record 174 | saldanha.\n",
      "Processing Record 175 | barrow.\n",
      "Processing Record 176 | port elizabeth.\n",
      "Processing Record 177 | pasinler.\n",
      "Processing Record 178 | pisco.\n",
      "Processing Record 179 | port hawkesbury.\n",
      "Processing Record 180 | non sung.\n",
      "Processing Record 181 | pevek.\n",
      "Processing Record 182 | valparaiso.\n",
      "Processing Record 183 | upington.\n",
      "Processing Record 184 | praia da vitoria.\n",
      "Processing Record 185 | luderitz.\n",
      "Processing Record 186 | kirakira.\n",
      "Processing Record 187 | roura.\n",
      "Processing Record 188 | sebina.\n",
      "Processing Record 189 | asuncion mita.\n",
      "Processing Record 190 | smirnykh.\n",
      "Processing Record 191 | severo-yeniseyskiy.\n",
      "Processing Record 192 | chokurdakh.\n",
      "Processing Record 193 | katsuura.\n",
      "Processing Record 194 | lagoa.\n",
      "Processing Record 195 | miramar.\n",
      "Processing Record 196 | thilogne.\n",
      "City not found. Skipping...\n",
      "Processing Record 197 | fuzhou.\n",
      "Processing Record 198 | hailar.\n",
      "Processing Record 199 | cidreira.\n",
      "Processing Record 200 | sao filipe.\n",
      "Processing Record 201 | anadyr.\n",
      "Processing Record 202 | daru.\n",
      "Processing Record 203 | kendari.\n",
      "Processing Record 204 | harper.\n",
      "Processing Record 205 | maarianhamina.\n",
      "Processing Record 206 | roebourne.\n",
      "Processing Record 207 | tezu.\n",
      "Processing Record 208 | saint-joseph.\n",
      "Processing Record 209 | swan hill.\n",
      "Processing Record 210 | upernavik.\n",
      "Processing Record 211 | sept-iles.\n",
      "Processing Record 212 | maceio.\n",
      "Processing Record 213 | asfi.\n",
      "Processing Record 214 | gravdal.\n",
      "Processing Record 215 | jacmel.\n",
      "Processing Record 216 | burnie.\n",
      "Processing Record 217 | sa kaeo.\n",
      "Processing Record 218 | vanavara.\n",
      "Processing Record 219 | along.\n",
      "Processing Record 220 | jagdalpur.\n",
      "Processing Record 221 | marv dasht.\n",
      "City not found. Skipping...\n",
      "Processing Record 222 | mayo.\n",
      "Processing Record 223 | sitka.\n",
      "Processing Record 224 | kodiak.\n"
     ]
    },
    {
     "name": "stdout",
     "output_type": "stream",
     "text": [
      "Processing Record 225 | kortkeros.\n",
      "Processing Record 226 | half moon bay.\n",
      "Processing Record 227 | cape town.\n",
      "Processing Record 228 | canto do buriti.\n",
      "Processing Record 229 | tsihombe.\n",
      "City not found. Skipping...\n",
      "Processing Record 230 | amderma.\n",
      "City not found. Skipping...\n",
      "Processing Record 231 | verkhnevilyuysk.\n",
      "Processing Record 232 | yining.\n",
      "Processing Record 233 | mvomero.\n",
      "Processing Record 234 | bathsheba.\n",
      "Processing Record 235 | talnakh.\n",
      "Processing Record 236 | dingle.\n",
      "Processing Record 237 | rio branco.\n",
      "Processing Record 238 | maloy.\n",
      "Processing Record 239 | mansa.\n",
      "Processing Record 240 | chagda.\n",
      "City not found. Skipping...\n",
      "Processing Record 241 | vardo.\n",
      "Processing Record 242 | mineros.\n",
      "Processing Record 243 | turtkul.\n",
      "City not found. Skipping...\n",
      "Processing Record 244 | rio cauto.\n",
      "Processing Record 245 | esperance.\n",
      "Processing Record 246 | alofi.\n",
      "Processing Record 247 | bone.\n",
      "Processing Record 248 | marsh harbour.\n",
      "Processing Record 249 | ginir.\n",
      "Processing Record 250 | viedma.\n",
      "Processing Record 251 | grootfontein.\n",
      "Processing Record 252 | tuatapere.\n",
      "Processing Record 253 | ilulissat.\n",
      "Processing Record 254 | chicama.\n",
      "Processing Record 255 | husavik.\n",
      "Processing Record 256 | georgetown.\n",
      "Processing Record 257 | maningrida.\n",
      "Processing Record 258 | turan.\n",
      "Processing Record 259 | clyde.\n",
      "Processing Record 260 | coquimbo.\n",
      "Processing Record 261 | lappeenranta.\n",
      "Processing Record 262 | halalo.\n",
      "City not found. Skipping...\n",
      "Processing Record 263 | geraldton.\n",
      "Processing Record 264 | nemuro.\n",
      "Processing Record 265 | ucluelet.\n",
      "Processing Record 266 | miyako.\n",
      "Processing Record 267 | chaplynka.\n",
      "Processing Record 268 | olga.\n",
      "Processing Record 269 | provideniya.\n",
      "Processing Record 270 | bowen.\n",
      "Processing Record 271 | tambul.\n",
      "City not found. Skipping...\n",
      "Processing Record 272 | wahran.\n",
      "City not found. Skipping...\n",
      "Processing Record 273 | bobrovka.\n",
      "Processing Record 274 | champerico.\n",
      "Processing Record 275 | hit.\n",
      "Processing Record 276 | nalut.\n",
      "Processing Record 277 | xalpatlahuac.\n",
      "Processing Record 278 | krasnyy kut.\n",
      "Processing Record 279 | leningradskiy.\n",
      "Processing Record 280 | leh.\n",
      "Processing Record 281 | dikson.\n",
      "Processing Record 282 | naze.\n",
      "Processing Record 283 | ormara.\n",
      "Processing Record 284 | chitungwiza.\n",
      "Processing Record 285 | ust-ilimsk.\n",
      "Processing Record 286 | aswan.\n",
      "Processing Record 287 | haines junction.\n",
      "Processing Record 288 | cervo.\n",
      "Processing Record 289 | tarudant.\n",
      "City not found. Skipping...\n",
      "Processing Record 290 | fredericksburg.\n",
      "Processing Record 291 | vila franca do campo.\n",
      "Processing Record 292 | saint anthony.\n",
      "Processing Record 293 | palafrugell.\n",
      "Processing Record 294 | bobonong.\n",
      "City not found. Skipping...\n",
      "Processing Record 295 | hasaki.\n",
      "Processing Record 296 | gouyave.\n",
      "Processing Record 297 | tromso.\n",
      "Processing Record 298 | tautira.\n",
      "Processing Record 299 | payakumbuh.\n",
      "Processing Record 300 | chumikan.\n",
      "Processing Record 301 | lasa.\n",
      "Processing Record 302 | constitucion.\n",
      "Processing Record 303 | jiuquan.\n",
      "Processing Record 304 | attawapiskat.\n",
      "City not found. Skipping...\n",
      "Processing Record 305 | aranos.\n",
      "Processing Record 306 | angra dos reis.\n",
      "Processing Record 307 | matane.\n",
      "Processing Record 308 | lamas.\n",
      "Processing Record 309 | moen.\n",
      "Processing Record 310 | bluefield.\n",
      "Processing Record 311 | peniche.\n",
      "Processing Record 312 | hamilton.\n",
      "Processing Record 313 | namatanai.\n",
      "Processing Record 314 | coihaique.\n",
      "Processing Record 315 | dunedin.\n",
      "Processing Record 316 | avera.\n",
      "Processing Record 317 | yanchukan.\n",
      "City not found. Skipping...\n",
      "Processing Record 318 | college.\n",
      "Processing Record 319 | kolpashevo.\n",
      "Processing Record 320 | mahebourg.\n",
      "Processing Record 321 | rungata.\n",
      "City not found. Skipping...\n",
      "Processing Record 322 | vanimo.\n",
      "Processing Record 323 | savannah bight.\n",
      "Processing Record 324 | hofn.\n",
      "Processing Record 325 | praya.\n",
      "Processing Record 326 | ardahan.\n",
      "Processing Record 327 | santa marta.\n",
      "Processing Record 328 | bilibino.\n",
      "Processing Record 329 | saint-philippe.\n",
      "Processing Record 330 | roald.\n",
      "Processing Record 331 | broken hill.\n",
      "Processing Record 332 | flin flon.\n",
      "Processing Record 333 | mehamn.\n",
      "Processing Record 334 | samarai.\n",
      "Processing Record 335 | coahuayana.\n",
      "Processing Record 336 | concepcion.\n",
      "Processing Record 337 | lorengau.\n",
      "Processing Record 338 | ous.\n",
      "Processing Record 339 | kerema.\n",
      "Processing Record 340 | sergeyevka.\n",
      "Processing Record 341 | ugoofaaru.\n",
      "Processing Record 342 | nuuk.\n",
      "Processing Record 343 | poum.\n",
      "Processing Record 344 | sur.\n",
      "Processing Record 345 | biak.\n",
      "Processing Record 346 | clarence town.\n",
      "Processing Record 347 | muisne.\n",
      "Processing Record 348 | gornyak.\n",
      "Processing Record 349 | vestmanna.\n",
      "Processing Record 350 | kavieng.\n",
      "Processing Record 351 | san cristobal.\n",
      "Processing Record 352 | gamba.\n",
      "Processing Record 353 | krasnoyarsk-45.\n",
      "City not found. Skipping...\n",
      "Processing Record 354 | kalakamati.\n",
      "Processing Record 355 | qaqortoq.\n",
      "Processing Record 356 | beyneu.\n",
      "Processing Record 357 | sabang.\n",
      "Processing Record 358 | bubaque.\n",
      "Processing Record 359 | villa carlos paz.\n",
      "Processing Record 360 | belokurikha.\n",
      "Processing Record 361 | chimbote.\n",
      "Processing Record 362 | faya.\n",
      "Processing Record 363 | ambilobe.\n",
      "Processing Record 364 | hemsedal.\n",
      "Processing Record 365 | tomatlan.\n",
      "Processing Record 366 | abu kamal.\n",
      "Processing Record 367 | oreanda.\n",
      "City not found. Skipping...\n",
      "Processing Record 368 | linhares.\n",
      "Processing Record 369 | abha.\n",
      "Processing Record 370 | uvalde.\n",
      "Processing Record 371 | great falls.\n",
      "Processing Record 372 | rocha.\n",
      "Processing Record 373 | kazalinsk.\n",
      "City not found. Skipping...\n",
      "Processing Record 374 | rawson.\n",
      "Processing Record 375 | zubtsov.\n",
      "Processing Record 376 | kamenskoye.\n",
      "City not found. Skipping...\n",
      "Processing Record 377 | charters towers.\n",
      "Processing Record 378 | mechetinskaya.\n",
      "Processing Record 379 | ahipara.\n",
      "Processing Record 380 | vostok.\n",
      "Processing Record 381 | vung tau.\n",
      "Processing Record 382 | athabasca.\n",
      "Processing Record 383 | koumac.\n",
      "Processing Record 384 | saint-louis.\n",
      "Processing Record 385 | lexington park.\n",
      "Processing Record 386 | biloela.\n",
      "Processing Record 387 | aanekoski.\n",
      "Processing Record 388 | pinawa.\n",
      "Processing Record 389 | bandarbeyla.\n",
      "Processing Record 390 | tayshet.\n",
      "Processing Record 391 | longyearbyen.\n",
      "Processing Record 392 | kasongo-lunda.\n",
      "Processing Record 393 | aykhal.\n",
      "Processing Record 394 | gigmoto.\n",
      "Processing Record 395 | tailai.\n",
      "Processing Record 396 | nioro.\n",
      "Processing Record 397 | temaraia.\n",
      "City not found. Skipping...\n",
      "Processing Record 398 | khatanga.\n",
      "Processing Record 399 | kembolcha.\n",
      "Processing Record 400 | romanovka.\n",
      "Processing Record 401 | tanete.\n",
      "Processing Record 402 | grindavik.\n",
      "Processing Record 403 | sao joao da barra.\n",
      "Processing Record 404 | lata.\n",
      "Processing Record 405 | mandurah.\n",
      "Processing Record 406 | vila velha.\n",
      "Processing Record 407 | abalak.\n",
      "Processing Record 408 | grand river south east.\n",
      "City not found. Skipping...\n",
      "Processing Record 409 | azimur.\n",
      "City not found. Skipping...\n",
      "Processing Record 410 | sosnovo-ozerskoye.\n",
      "Processing Record 411 | acarau.\n",
      "Processing Record 412 | oum hadjer.\n",
      "Processing Record 413 | khambhaliya.\n",
      "Processing Record 414 | ponta do sol.\n",
      "Processing Record 415 | grand-santi.\n",
      "Processing Record 416 | pangody.\n",
      "Processing Record 417 | santa fe.\n",
      "Processing Record 418 | nanortalik.\n",
      "Processing Record 419 | tuensang.\n",
      "Processing Record 420 | wittstock.\n",
      "Processing Record 421 | ngukurr.\n",
      "City not found. Skipping...\n",
      "Processing Record 422 | khani.\n",
      "Processing Record 423 | tura.\n",
      "Processing Record 424 | san felipe.\n",
      "Processing Record 425 | ligayan.\n",
      "Processing Record 426 | port augusta.\n",
      "Processing Record 427 | ambon.\n",
      "Processing Record 428 | floresta.\n",
      "Processing Record 429 | plettenberg bay.\n",
      "Processing Record 430 | tanout.\n",
      "Processing Record 431 | zhigansk.\n",
      "Processing Record 432 | taksimo.\n",
      "Processing Record 433 | upata.\n",
      "Processing Record 434 | namibe.\n",
      "Processing Record 435 | salinopolis.\n",
      "Processing Record 436 | rock sound.\n",
      "Processing Record 437 | rio grande.\n",
      "Processing Record 438 | sola.\n",
      "Processing Record 439 | yeppoon.\n",
      "Processing Record 440 | fare.\n",
      "Processing Record 441 | lewistown.\n",
      "Processing Record 442 | maturin.\n",
      "Processing Record 443 | likhoslavl.\n",
      "Processing Record 444 | meulaboh.\n",
      "Processing Record 445 | santa vitoria do palmar.\n",
      "Processing Record 446 | menongue.\n",
      "Processing Record 447 | veraval.\n"
     ]
    },
    {
     "name": "stdout",
     "output_type": "stream",
     "text": [
      "Processing Record 448 | wanganui.\n",
      "Processing Record 449 | doctor pedro p. pena.\n",
      "City not found. Skipping...\n",
      "Processing Record 450 | samusu.\n",
      "City not found. Skipping...\n",
      "Processing Record 451 | uporovo.\n",
      "Processing Record 452 | karratha.\n",
      "Processing Record 453 | surt.\n",
      "Processing Record 454 | khor.\n",
      "Processing Record 455 | broome.\n",
      "Processing Record 456 | itaituba.\n",
      "Processing Record 457 | misratah.\n",
      "Processing Record 458 | natal.\n",
      "Processing Record 459 | catemaco.\n",
      "Processing Record 460 | kokstad.\n",
      "Processing Record 461 | porvoo.\n",
      "Processing Record 462 | phan rang.\n",
      "City not found. Skipping...\n",
      "Processing Record 463 | amahai.\n",
      "Processing Record 464 | chapada dos guimaraes.\n",
      "Processing Record 465 | araouane.\n",
      "Processing Record 466 | kuching.\n",
      "Processing Record 467 | antalaha.\n",
      "Processing Record 468 | porto velho.\n",
      "Processing Record 469 | baghdad.\n",
      "Processing Record 470 | bend.\n",
      "Processing Record 471 | watsa.\n",
      "Processing Record 472 | shumerlya.\n",
      "Processing Record 473 | phalaborwa.\n",
      "Processing Record 474 | santa maria.\n",
      "Processing Record 475 | argelia.\n",
      "Processing Record 476 | voh.\n",
      "Processing Record 477 | floro.\n",
      "Processing Record 478 | necochea.\n",
      "Processing Record 479 | sabirabad.\n",
      "Processing Record 480 | loandjili.\n",
      "Processing Record 481 | vila.\n",
      "Processing Record 482 | okhotsk.\n",
      "Processing Record 483 | grand gaube.\n",
      "Processing Record 484 | kenai.\n",
      "Processing Record 485 | tolaga bay.\n",
      "Processing Record 486 | minbu.\n",
      "Processing Record 487 | toliary.\n",
      "City not found. Skipping...\n",
      "Processing Record 488 | alta floresta.\n",
      "Processing Record 489 | shasta lake.\n",
      "Processing Record 490 | kiama.\n",
      "Processing Record 491 | fort nelson.\n",
      "Processing Record 492 | sorvag.\n",
      "City not found. Skipping...\n",
      "Processing Record 493 | roma.\n",
      "Processing Record 494 | lamar.\n",
      "Processing Record 495 | serebryanyy bor.\n",
      "Processing Record 496 | lolua.\n",
      "City not found. Skipping...\n",
      "Processing Record 497 | hovd.\n",
      "Processing Record 498 | wewak.\n",
      "Processing Record 499 | maralal.\n",
      "Processing Record 500 | sinnamary.\n",
      "Processing Record 501 | littlehampton.\n",
      "Processing Record 502 | millbrook.\n",
      "Processing Record 503 | sokna.\n",
      "Processing Record 504 | las choapas.\n",
      "Processing Record 505 | vermillion.\n",
      "Processing Record 506 | tecoanapa.\n",
      "Processing Record 507 | nago.\n",
      "Processing Record 508 | tofield.\n",
      "Processing Record 509 | kuche.\n",
      "City not found. Skipping...\n",
      "Processing Record 510 | nizhniy baskunchak.\n",
      "Processing Record 511 | lodja.\n",
      "Processing Record 512 | belyy yar.\n",
      "Processing Record 513 | vagur.\n",
      "Processing Record 514 | brigantine.\n",
      "Processing Record 515 | labuhan.\n",
      "Processing Record 516 | stornoway.\n",
      "Processing Record 517 | porto novo.\n",
      "Processing Record 518 | mackay.\n",
      "Processing Record 519 | goya.\n",
      "Processing Record 520 | kinkala.\n",
      "Processing Record 521 | gorom-gorom.\n",
      "Processing Record 522 | puerto pinasco.\n",
      "City not found. Skipping...\n",
      "Processing Record 523 | kosiv.\n",
      "Processing Record 524 | huilong.\n",
      "Processing Record 525 | hobyo.\n",
      "Processing Record 526 | fukue.\n",
      "Processing Record 527 | machico.\n",
      "Processing Record 528 | chaihe.\n",
      "Processing Record 529 | cartagena.\n",
      "Processing Record 530 | krapivinskiy.\n",
      "Processing Record 531 | saleaula.\n",
      "City not found. Skipping...\n",
      "Processing Record 532 | vestmannaeyjar.\n",
      "Processing Record 533 | mirpur sakro.\n",
      "Processing Record 534 | kavaratti.\n",
      "Processing Record 535 | bangangte.\n",
      "Processing Record 536 | urengoy.\n",
      "Processing Record 537 | itaparica.\n",
      "Processing Record 538 | wukari.\n",
      "Processing Record 539 | skelleftea.\n",
      "Processing Record 540 | palmer.\n",
      "Processing Record 541 | mayumba.\n",
      "Processing Record 542 | balkhash.\n",
      "Processing Record 543 | ntungamo.\n",
      "Processing Record 544 | zhezkazgan.\n",
      "Processing Record 545 | viligili.\n",
      "City not found. Skipping...\n",
      "Processing Record 546 | wellington.\n",
      "Processing Record 547 | mahajanga.\n",
      "Processing Record 548 | oranjemund.\n",
      "Processing Record 549 | arrecife.\n",
      "Processing Record 550 | zhanaozen.\n",
      "Processing Record 551 | gorzow wielkopolski.\n",
      "Processing Record 552 | dogbo.\n",
      "Processing Record 553 | tocopilla.\n",
      "Processing Record 554 | ziro.\n",
      "Processing Record 555 | richards bay.\n",
      "Processing Record 556 | podkletnoye.\n",
      "Processing Record 557 | karkaralinsk.\n",
      "City not found. Skipping...\n",
      "Processing Record 558 | sao felix do xingu.\n",
      "Processing Record 559 | san policarpo.\n",
      "Processing Record 560 | nakamura.\n",
      "Processing Record 561 | knysna.\n",
      "Processing Record 562 | palabuhanratu.\n",
      "City not found. Skipping...\n",
      "Processing Record 563 | rosetta.\n",
      "Processing Record 564 | baruun-urt.\n",
      "Processing Record 565 | beringovskiy.\n",
      "Processing Record 566 | chernyshevskiy.\n",
      "Processing Record 567 | sobolevo.\n",
      "Processing Record 568 | san vicente.\n",
      "Processing Record 569 | preston.\n",
      "Processing Record 570 | paamiut.\n",
      "Processing Record 571 | susa.\n",
      "Processing Record 572 | epanomi.\n",
      "Processing Record 573 | praia.\n",
      "Processing Record 574 | derzhavinsk.\n",
      "Processing Record 575 | chengde.\n",
      "Processing Record 576 | leninskoye.\n",
      "Processing Record 577 | taoudenni.\n",
      "Processing Record 578 | lambarene.\n",
      "Processing Record 579 | farafangana.\n",
      "Processing Record 580 | padang.\n",
      "Processing Record 581 | batagay-alyta.\n",
      "Processing Record 582 | terra santa.\n",
      "Processing Record 583 | alice springs.\n",
      "Processing Record 584 | radovan.\n",
      "Processing Record 585 | hami.\n",
      "Processing Record 586 | kupang.\n",
      "Processing Record 587 | angoche.\n",
      "Processing Record 588 | visby.\n",
      "Processing Record 589 | lompoc.\n",
      "Processing Record 590 | yelnya.\n",
      "Processing Record 591 | lulea.\n",
      "Processing Record 592 | loikaw.\n",
      "Processing Record 593 | zeya.\n",
      "Processing Record 594 | eyl.\n",
      "Processing Record 595 | mbalmayo.\n",
      "Processing Record 596 | kargasok.\n",
      "Processing Record 597 | artyom.\n",
      "Processing Record 598 | lakatoro.\n",
      "-----------------------------\n",
      "DATA RETRIEVAL COMPLETE\n",
      "-----------------------------\n"
     ]
    }
   ],
   "source": [
    "# COUNTER\n",
    "cities_count = len(cities)\n",
    "\n",
    "# CREATE EMPTY LIST TO HOLD DESIRED DATA- CITY, TEMP, HUMIDITY, ETC.\n",
    "City = []\n",
    "Cloudiness = []\n",
    "Country = []\n",
    "Date = []\n",
    "Humidity = []\n",
    "Lat = []\n",
    "Lng = []\n",
    "Max_Temp = []\n",
    "Wind_Speed = []\n",
    "\n",
    "# OPEN WEATHER URL\n",
    "url = \"http://api.openweathermap.org/data/2.5/weather?\"\n",
    "#query_url = url + \"appid=\" + weather_api_key + \"&q=\" + city\n",
    "\n",
    "# SET UP PRINT LOG\n",
    "print(\"PRINT LOG OF CITIES PROCESSED\")\n",
    "print(\"------------------------------\")\n",
    "\n",
    "#ITERATE THROUGH CITY DATA WITH FOR LOOP\n",
    "for x in range(cities_count):\n",
    "    print(f\"Processing Record {x} | {cities[x]}.\")\n",
    "    params = {\"q\":cities[x],\n",
    "                  \"units\":\"imperial\",\n",
    "                \"appid\":weather_api_key}\n",
    "    try:      \n",
    "        response = requests.get(url, params=params)\n",
    "        response_json = response.json()\n",
    "    \n",
    "        # APPEND JSON DATA TO DESIGNATED LISTS\n",
    "        City.append(response_json['name'])\n",
    "        Cloudiness.append(response_json['clouds']['all'])\n",
    "        Country.append(response_json['sys']['country'])\n",
    "        Date.append(response_json['dt'])\n",
    "        Humidity.append(response_json['main']['humidity'])\n",
    "        Lat.append(response_json['coord']['lat'])\n",
    "        Lng.append(response_json['coord']['lon'])\n",
    "        Max_Temp.append(response_json['main']['temp_max'])\n",
    "        Wind_Speed.append(response_json['wind']['speed'])\n",
    "        \n",
    "    except:\n",
    "        print('City not found. Skipping...')\n",
    "\n",
    "print('-----------------------------')\n",
    "print('DATA RETRIEVAL COMPLETE')\n",
    "print('-----------------------------')\n",
    "        "
   ]
  },
  {
   "cell_type": "markdown",
   "metadata": {},
   "source": [
    "### Convert Raw Data to DataFrame\n",
    "* Export the city data into a .csv.\n",
    "* Display the DataFrame"
   ]
  },
  {
   "cell_type": "code",
   "execution_count": 26,
   "metadata": {},
   "outputs": [
    {
     "data": {
      "text/html": [
       "<div>\n",
       "<style scoped>\n",
       "    .dataframe tbody tr th:only-of-type {\n",
       "        vertical-align: middle;\n",
       "    }\n",
       "\n",
       "    .dataframe tbody tr th {\n",
       "        vertical-align: top;\n",
       "    }\n",
       "\n",
       "    .dataframe thead th {\n",
       "        text-align: right;\n",
       "    }\n",
       "</style>\n",
       "<table border=\"1\" class=\"dataframe\">\n",
       "  <thead>\n",
       "    <tr style=\"text-align: right;\">\n",
       "      <th></th>\n",
       "      <th>City</th>\n",
       "      <th>Lat</th>\n",
       "      <th>Lng</th>\n",
       "      <th>Max Temp</th>\n",
       "      <th>Humidity</th>\n",
       "      <th>Cloudiness</th>\n",
       "      <th>Wind Speed</th>\n",
       "      <th>Country</th>\n",
       "      <th>Date</th>\n",
       "    </tr>\n",
       "  </thead>\n",
       "  <tbody>\n",
       "    <tr>\n",
       "      <td>0</td>\n",
       "      <td>San Joaquin</td>\n",
       "      <td>10.26</td>\n",
       "      <td>-67.79</td>\n",
       "      <td>73.09</td>\n",
       "      <td>89</td>\n",
       "      <td>100</td>\n",
       "      <td>4.21</td>\n",
       "      <td>VE</td>\n",
       "      <td>1594777615</td>\n",
       "    </tr>\n",
       "    <tr>\n",
       "      <td>1</td>\n",
       "      <td>Ushuaia</td>\n",
       "      <td>-54.80</td>\n",
       "      <td>-68.30</td>\n",
       "      <td>30.20</td>\n",
       "      <td>92</td>\n",
       "      <td>40</td>\n",
       "      <td>4.70</td>\n",
       "      <td>AR</td>\n",
       "      <td>1594777415</td>\n",
       "    </tr>\n",
       "    <tr>\n",
       "      <td>2</td>\n",
       "      <td>Bengkulu</td>\n",
       "      <td>-3.80</td>\n",
       "      <td>102.27</td>\n",
       "      <td>80.85</td>\n",
       "      <td>65</td>\n",
       "      <td>95</td>\n",
       "      <td>2.33</td>\n",
       "      <td>ID</td>\n",
       "      <td>1594777616</td>\n",
       "    </tr>\n",
       "    <tr>\n",
       "      <td>3</td>\n",
       "      <td>Tuktoyaktuk</td>\n",
       "      <td>69.45</td>\n",
       "      <td>-133.04</td>\n",
       "      <td>57.20</td>\n",
       "      <td>71</td>\n",
       "      <td>90</td>\n",
       "      <td>11.41</td>\n",
       "      <td>CA</td>\n",
       "      <td>1594777616</td>\n",
       "    </tr>\n",
       "    <tr>\n",
       "      <td>4</td>\n",
       "      <td>Landázuri</td>\n",
       "      <td>6.22</td>\n",
       "      <td>-73.81</td>\n",
       "      <td>65.93</td>\n",
       "      <td>90</td>\n",
       "      <td>71</td>\n",
       "      <td>4.47</td>\n",
       "      <td>CO</td>\n",
       "      <td>1594777616</td>\n",
       "    </tr>\n",
       "  </tbody>\n",
       "</table>\n",
       "</div>"
      ],
      "text/plain": [
       "          City    Lat     Lng  Max Temp  Humidity  Cloudiness  Wind Speed  \\\n",
       "0  San Joaquin  10.26  -67.79     73.09        89         100        4.21   \n",
       "1      Ushuaia -54.80  -68.30     30.20        92          40        4.70   \n",
       "2     Bengkulu  -3.80  102.27     80.85        65          95        2.33   \n",
       "3  Tuktoyaktuk  69.45 -133.04     57.20        71          90       11.41   \n",
       "4    Landázuri   6.22  -73.81     65.93        90          71        4.47   \n",
       "\n",
       "  Country        Date  \n",
       "0      VE  1594777615  \n",
       "1      AR  1594777415  \n",
       "2      ID  1594777616  \n",
       "3      CA  1594777616  \n",
       "4      CO  1594777616  "
      ]
     },
     "execution_count": 26,
     "metadata": {},
     "output_type": "execute_result"
    }
   ],
   "source": [
    "# CREATE DF USING DATA IN LISTS\n",
    "weather_data = {\n",
    "    \"City\": City, \"Lat\": Lat, \"Lng\": Lng, \"Max Temp\": Max_Temp, \n",
    "    \"Humidity\" : Humidity, \"Cloudiness\": Cloudiness, \"Wind Speed\": Wind_Speed,\n",
    "    \"Country\": Country, \"Date\": Date\n",
    "}\n",
    "weather_data_df = pd.DataFrame(weather_data)\n",
    "weather_data_df = weather_data_df.dropna()\n",
    "weather_data_df.head()"
   ]
  },
  {
   "cell_type": "code",
   "execution_count": 36,
   "metadata": {},
   "outputs": [
    {
     "data": {
      "text/plain": [
       "549"
      ]
     },
     "execution_count": 36,
     "metadata": {},
     "output_type": "execute_result"
    }
   ],
   "source": [
    "# FINAL LENGTH OF TABLE\n",
    "len(weather_data_df)"
   ]
  },
  {
   "cell_type": "code",
   "execution_count": 34,
   "metadata": {},
   "outputs": [],
   "source": [
    "# EXPORT DATA TO CSV\n",
    "weather_data_df.to_csv(\"output_data/cities.csv\")"
   ]
  },
  {
   "cell_type": "markdown",
   "metadata": {},
   "source": [
    "## Inspect the data and remove the cities where the humidity > 100%.\n",
    "----\n",
    "Skip this step if there are no cities that have humidity > 100%. "
   ]
  },
  {
   "cell_type": "code",
   "execution_count": 51,
   "metadata": {},
   "outputs": [
    {
     "name": "stdout",
     "output_type": "stream",
     "text": [
      "Cities with humidity > 100% = 0 is funny.\n"
     ]
    }
   ],
   "source": [
    "# ISOLATE CITIES WITH HUMIDITY > 100%\n",
    "humidity_over_100 = weather_data_df.loc[weather_data_df['Humidity'] > 100]\n",
    "\n",
    "humidity_count = len(humidity_over_100)\n",
    "print(f\"Cities with humidity > 100% = {humidity_count} is funny.\")"
   ]
  },
  {
   "cell_type": "markdown",
   "metadata": {},
   "source": [
    "## Plotting the Data\n",
    "* Use proper labeling of the plots using plot titles (including date of analysis) and axes labels.\n",
    "* Save the plotted figures as .pngs."
   ]
  },
  {
   "cell_type": "markdown",
   "metadata": {},
   "source": [
    "## Latitude vs. Temperature Plot"
   ]
  },
  {
   "cell_type": "code",
   "execution_count": 115,
   "metadata": {
    "scrolled": true
   },
   "outputs": [
    {
     "data": {
      "image/png": "[encoded data removed]",
      "text/plain": [
       "<Figure size 432x288 with 1 Axes>"
      ]
     },
     "metadata": {
      "needs_background": "light"
     },
     "output_type": "display_data"
    }
   ],
   "source": [
    "# SETUP PLOT FIGURE\n",
    "fig, ax1 = plt.subplots(figsize=(6,4))\n",
    "\n",
    "# SET LABELS\n",
    "x_values = weather_data_df['Max Temp']\n",
    "y_values = weather_data_df['Lat']\n",
    "ax1.set_xlabel('Temperature')\n",
    "ax1.set_ylabel('Latitude')\n",
    "ax1.set_title('Latitude vs. Temperature')\n",
    "\n",
    "plt.scatter(x_values, y_values)\n",
    "\n",
    "# LINEAR REGRESSION\n",
    "(slope, intercept, rvalue, pvalue, stderr) = linregress(x_values, y_values)\n",
    "regress_values = x_values * slope + intercept\n",
    "plt.plot(x_values,regress_values,\"r-\")\n",
    "\n",
    "plt.savefig(\"Scatter1.png\", bbox_inches='tight', dpi=600)"
   ]
  },
  {
   "cell_type": "markdown",
   "metadata": {},
   "source": [
    "## Latitude vs. Humidity Plot"
   ]
  },
  {
   "cell_type": "code",
   "execution_count": 64,
   "metadata": {},
   "outputs": [
    {
     "data": {
      "image/png": "[encoded data removed]",
      "text/plain": [
       "<Figure size 432x288 with 1 Axes>"
      ]
     },
     "metadata": {
      "needs_background": "light"
     },
     "output_type": "display_data"
    }
   ],
   "source": [
    "# SETUP PLOT FIGURE\n",
    "fig, ax2 = plt.subplots(figsize=(6,4))\n",
    "\n",
    "# SET LABELS\n",
    "x_values = weather_data_df['Lat']\n",
    "y_values = weather_data_df['Humidity']\n",
    "ax2.set_xlabel('Latitude')\n",
    "ax2.set_ylabel('Humidity (%)')\n",
    "ax2.set_title('City Latitude vs. Humidity (04/01/20)')\n",
    "\n",
    "plt.scatter(x_values, y_values)\n",
    "\n",
    "# LINEAR REGRESSION\n",
    "(slope, intercept, rvalue, pvalue, stderr) = linregress(x_values, y_values)\n",
    "regress_values = x_values * slope + intercept\n",
    "plt.plot(x_values,regress_values,\"r-\")\n",
    "\n",
    "plt.savefig(\"Scatter2.png\", bbox_inches='tight', dpi=600)"
   ]
  },
  {
   "cell_type": "markdown",
   "metadata": {},
   "source": [
    "## Latitude vs. Cloudiness Plot"
   ]
  },
  {
   "cell_type": "code",
   "execution_count": 68,
   "metadata": {},
   "outputs": [
    {
     "data": {
      "image/png": "[encoded data removed]",
      "text/plain": [
       "<Figure size 432x288 with 1 Axes>"
      ]
     },
     "metadata": {
      "needs_background": "light"
     },
     "output_type": "display_data"
    }
   ],
   "source": [
    "# SETUP PLOT FIGURE\n",
    "fig, ax3 = plt.subplots(figsize=(6,4))\n",
    "\n",
    "# SET LABELS\n",
    "x_values = weather_data_df['Lat']\n",
    "y_values = weather_data_df['Cloudiness']\n",
    "ax3.set_xlabel('Latitude')\n",
    "ax3.set_ylabel('Cloudiness (%)')\n",
    "ax3.set_title('City Latitude vs. Cloudiness (04/01/20)')\n",
    "\n",
    "plt.scatter(x_values, y_values)\n",
    "\n",
    "# LINEAR REGRESSION\n",
    "(slope, intercept, rvalue, pvalue, stderr) = linregress(x_values, y_values)\n",
    "regress_values = x_values * slope + intercept\n",
    "plt.plot(x_values,regress_values,\"r-\")\n",
    "\n",
    "plt.savefig(\"Scatter3.png\", bbox_inches='tight', dpi=600)"
   ]
  },
  {
   "cell_type": "markdown",
   "metadata": {},
   "source": [
    "## Latitude vs. Wind Speed Plot"
   ]
  },
  {
   "cell_type": "code",
   "execution_count": 87,
   "metadata": {},
   "outputs": [
    {
     "data": {
      "image/png": "[encoded data removed]",
      "text/plain": [
       "<Figure size 432x288 with 1 Axes>"
      ]
     },
     "metadata": {
      "needs_background": "light"
     },
     "output_type": "display_data"
    }
   ],
   "source": [
    "# SETUP PLOT FIGURE\n",
    "fig, ax4 = plt.subplots(figsize=(6,4))\n",
    "\n",
    "# SET LABELS\n",
    "x_values = weather_data_df['Lat']\n",
    "y_values = weather_data_df['Wind Speed']\n",
    "ax4.set_xlabel('Latitude')\n",
    "ax4.set_ylabel('Wind Speed (mph)')\n",
    "ax4.set_title('City Latitude vs. Wind Speed (04/01/20)')\n",
    "\n",
    "plt.scatter(x_values, y_values)\n",
    "\n",
    "# LINEAR REGRESSION\n",
    "(slope, intercept, rvalue, pvalue, stderr) = linregress(x_values, y_values)\n",
    "regress_values = x_values * slope + intercept\n",
    "plt.plot(x_values,regress_values,\"r-\")\n",
    "\n",
    "plt.savefig(\"Scatter4.png\", bbox_inches='tight', dpi=600)"
   ]
  },
  {
   "cell_type": "markdown",
   "metadata": {},
   "source": [
    "## Linear Regression"
   ]
  },
  {
   "cell_type": "code",
   "execution_count": 75,
   "metadata": {},
   "outputs": [],
   "source": [
    "# Create Northern and Southern Hemisphere DataFrames\n",
    "northern_weather_df = weather_data_df.loc[weather_data_df['Lat'] > 0]\n",
    "southern_weather_df = weather_data_df.loc[weather_data_df['Lat'] < 0 ]"
   ]
  },
  {
   "cell_type": "code",
   "execution_count": 85,
   "metadata": {},
   "outputs": [
    {
     "data": {
      "text/html": [
       "<style  type=\"text/css\" >\n",
       "</style><table id=\"T_3bc9d056_c658_11ea_a829_7cd1c387f1ba\" ><caption>Northern Weather Hemisphere</caption><thead>    <tr>        <th class=\"blank level0\" ></th>        <th class=\"col_heading level0 col0\" >City</th>        <th class=\"col_heading level0 col1\" >Lat</th>        <th class=\"col_heading level0 col2\" >Lng</th>        <th class=\"col_heading level0 col3\" >Max Temp</th>        <th class=\"col_heading level0 col4\" >Humidity</th>        <th class=\"col_heading level0 col5\" >Cloudiness</th>        <th class=\"col_heading level0 col6\" >Wind Speed</th>        <th class=\"col_heading level0 col7\" >Country</th>        <th class=\"col_heading level0 col8\" >Date</th>    </tr></thead><tbody>\n",
       "                <tr>\n",
       "                        <th id=\"T_3bc9d056_c658_11ea_a829_7cd1c387f1balevel0_row0\" class=\"row_heading level0 row0\" >0</th>\n",
       "                        <td id=\"T_3bc9d056_c658_11ea_a829_7cd1c387f1barow0_col0\" class=\"data row0 col0\" >San Joaquin</td>\n",
       "                        <td id=\"T_3bc9d056_c658_11ea_a829_7cd1c387f1barow0_col1\" class=\"data row0 col1\" >10.26</td>\n",
       "                        <td id=\"T_3bc9d056_c658_11ea_a829_7cd1c387f1barow0_col2\" class=\"data row0 col2\" >-67.79</td>\n",
       "                        <td id=\"T_3bc9d056_c658_11ea_a829_7cd1c387f1barow0_col3\" class=\"data row0 col3\" >73.09</td>\n",
       "                        <td id=\"T_3bc9d056_c658_11ea_a829_7cd1c387f1barow0_col4\" class=\"data row0 col4\" >89</td>\n",
       "                        <td id=\"T_3bc9d056_c658_11ea_a829_7cd1c387f1barow0_col5\" class=\"data row0 col5\" >100</td>\n",
       "                        <td id=\"T_3bc9d056_c658_11ea_a829_7cd1c387f1barow0_col6\" class=\"data row0 col6\" >4.21</td>\n",
       "                        <td id=\"T_3bc9d056_c658_11ea_a829_7cd1c387f1barow0_col7\" class=\"data row0 col7\" >VE</td>\n",
       "                        <td id=\"T_3bc9d056_c658_11ea_a829_7cd1c387f1barow0_col8\" class=\"data row0 col8\" >1594777615</td>\n",
       "            </tr>\n",
       "            <tr>\n",
       "                        <th id=\"T_3bc9d056_c658_11ea_a829_7cd1c387f1balevel0_row1\" class=\"row_heading level0 row1\" >3</th>\n",
       "                        <td id=\"T_3bc9d056_c658_11ea_a829_7cd1c387f1barow1_col0\" class=\"data row1 col0\" >Tuktoyaktuk</td>\n",
       "                        <td id=\"T_3bc9d056_c658_11ea_a829_7cd1c387f1barow1_col1\" class=\"data row1 col1\" >69.45</td>\n",
       "                        <td id=\"T_3bc9d056_c658_11ea_a829_7cd1c387f1barow1_col2\" class=\"data row1 col2\" >-133.04</td>\n",
       "                        <td id=\"T_3bc9d056_c658_11ea_a829_7cd1c387f1barow1_col3\" class=\"data row1 col3\" >57.2</td>\n",
       "                        <td id=\"T_3bc9d056_c658_11ea_a829_7cd1c387f1barow1_col4\" class=\"data row1 col4\" >71</td>\n",
       "                        <td id=\"T_3bc9d056_c658_11ea_a829_7cd1c387f1barow1_col5\" class=\"data row1 col5\" >90</td>\n",
       "                        <td id=\"T_3bc9d056_c658_11ea_a829_7cd1c387f1barow1_col6\" class=\"data row1 col6\" >11.41</td>\n",
       "                        <td id=\"T_3bc9d056_c658_11ea_a829_7cd1c387f1barow1_col7\" class=\"data row1 col7\" >CA</td>\n",
       "                        <td id=\"T_3bc9d056_c658_11ea_a829_7cd1c387f1barow1_col8\" class=\"data row1 col8\" >1594777616</td>\n",
       "            </tr>\n",
       "    </tbody></table>"
      ],
      "text/plain": [
       "<pandas.io.formats.style.Styler at 0x1a33658990>"
      ]
     },
     "execution_count": 85,
     "metadata": {},
     "output_type": "execute_result"
    }
   ],
   "source": [
    "northern_weather_df.head(2).style.set_caption('Northern Weather Hemisphere')"
   ]
  },
  {
   "cell_type": "code",
   "execution_count": 86,
   "metadata": {},
   "outputs": [
    {
     "data": {
      "text/html": [
       "<style  type=\"text/css\" >\n",
       "</style><table id=\"T_3d9abaf8_c658_11ea_a829_7cd1c387f1ba\" ><caption>Southern Weather Hemisphere</caption><thead>    <tr>        <th class=\"blank level0\" ></th>        <th class=\"col_heading level0 col0\" >City</th>        <th class=\"col_heading level0 col1\" >Lat</th>        <th class=\"col_heading level0 col2\" >Lng</th>        <th class=\"col_heading level0 col3\" >Max Temp</th>        <th class=\"col_heading level0 col4\" >Humidity</th>        <th class=\"col_heading level0 col5\" >Cloudiness</th>        <th class=\"col_heading level0 col6\" >Wind Speed</th>        <th class=\"col_heading level0 col7\" >Country</th>        <th class=\"col_heading level0 col8\" >Date</th>    </tr></thead><tbody>\n",
       "                <tr>\n",
       "                        <th id=\"T_3d9abaf8_c658_11ea_a829_7cd1c387f1balevel0_row0\" class=\"row_heading level0 row0\" >1</th>\n",
       "                        <td id=\"T_3d9abaf8_c658_11ea_a829_7cd1c387f1barow0_col0\" class=\"data row0 col0\" >Ushuaia</td>\n",
       "                        <td id=\"T_3d9abaf8_c658_11ea_a829_7cd1c387f1barow0_col1\" class=\"data row0 col1\" >-54.8</td>\n",
       "                        <td id=\"T_3d9abaf8_c658_11ea_a829_7cd1c387f1barow0_col2\" class=\"data row0 col2\" >-68.3</td>\n",
       "                        <td id=\"T_3d9abaf8_c658_11ea_a829_7cd1c387f1barow0_col3\" class=\"data row0 col3\" >30.2</td>\n",
       "                        <td id=\"T_3d9abaf8_c658_11ea_a829_7cd1c387f1barow0_col4\" class=\"data row0 col4\" >92</td>\n",
       "                        <td id=\"T_3d9abaf8_c658_11ea_a829_7cd1c387f1barow0_col5\" class=\"data row0 col5\" >40</td>\n",
       "                        <td id=\"T_3d9abaf8_c658_11ea_a829_7cd1c387f1barow0_col6\" class=\"data row0 col6\" >4.7</td>\n",
       "                        <td id=\"T_3d9abaf8_c658_11ea_a829_7cd1c387f1barow0_col7\" class=\"data row0 col7\" >AR</td>\n",
       "                        <td id=\"T_3d9abaf8_c658_11ea_a829_7cd1c387f1barow0_col8\" class=\"data row0 col8\" >1594777415</td>\n",
       "            </tr>\n",
       "            <tr>\n",
       "                        <th id=\"T_3d9abaf8_c658_11ea_a829_7cd1c387f1balevel0_row1\" class=\"row_heading level0 row1\" >2</th>\n",
       "                        <td id=\"T_3d9abaf8_c658_11ea_a829_7cd1c387f1barow1_col0\" class=\"data row1 col0\" >Bengkulu</td>\n",
       "                        <td id=\"T_3d9abaf8_c658_11ea_a829_7cd1c387f1barow1_col1\" class=\"data row1 col1\" >-3.8</td>\n",
       "                        <td id=\"T_3d9abaf8_c658_11ea_a829_7cd1c387f1barow1_col2\" class=\"data row1 col2\" >102.27</td>\n",
       "                        <td id=\"T_3d9abaf8_c658_11ea_a829_7cd1c387f1barow1_col3\" class=\"data row1 col3\" >80.85</td>\n",
       "                        <td id=\"T_3d9abaf8_c658_11ea_a829_7cd1c387f1barow1_col4\" class=\"data row1 col4\" >65</td>\n",
       "                        <td id=\"T_3d9abaf8_c658_11ea_a829_7cd1c387f1barow1_col5\" class=\"data row1 col5\" >95</td>\n",
       "                        <td id=\"T_3d9abaf8_c658_11ea_a829_7cd1c387f1barow1_col6\" class=\"data row1 col6\" >2.33</td>\n",
       "                        <td id=\"T_3d9abaf8_c658_11ea_a829_7cd1c387f1barow1_col7\" class=\"data row1 col7\" >ID</td>\n",
       "                        <td id=\"T_3d9abaf8_c658_11ea_a829_7cd1c387f1barow1_col8\" class=\"data row1 col8\" >1594777616</td>\n",
       "            </tr>\n",
       "    </tbody></table>"
      ],
      "text/plain": [
       "<pandas.io.formats.style.Styler at 0x1a33631390>"
      ]
     },
     "execution_count": 86,
     "metadata": {},
     "output_type": "execute_result"
    }
   ],
   "source": [
    "southern_weather_df.head(2).style.set_caption('Southern Weather Hemisphere')"
   ]
  },
  {
   "cell_type": "markdown",
   "metadata": {},
   "source": [
    "####  Northern Hemisphere - Max Temp vs. Latitude Linear Regression"
   ]
  },
  {
   "cell_type": "code",
   "execution_count": 102,
   "metadata": {},
   "outputs": [
    {
     "name": "stdout",
     "output_type": "stream",
     "text": [
      "The r-squared is: 0.0003656925486506554\n"
     ]
    },
    {
     "data": {
      "image/png": "[encoded data removed]",
      "text/plain": [
       "<Figure size 432x288 with 1 Axes>"
      ]
     },
     "metadata": {
      "needs_background": "light"
     },
     "output_type": "display_data"
    }
   ],
   "source": [
    "# SETUP PLOT FIGURE\n",
    "fig, ax5 = plt.subplots(figsize=(6,4))\n",
    "\n",
    "# SET LABELS\n",
    "x_values = northern_weather_df['Lat']\n",
    "y_values = northern_weather_df['Wind Speed']\n",
    "ax5.set_xlabel('Latitude')\n",
    "ax5.set_ylabel('Wind Speed (mph)')\n",
    "ax5.set_title('Northern Hemisphere - Max Temp vs. Latitude Linear Regression')\n",
    "\n",
    "\n",
    "plt.scatter(x_values, y_values)\n",
    "\n",
    "# LINEAR REGRESSION\n",
    "(slope, intercept, rvalue, pvalue, stderr) = linregress(x_values, y_values)\n",
    "regress_values = x_values * slope + intercept\n",
    "plt.plot(x_values,regress_values,\"r-\")\n",
    "\n",
    "plt.savefig(\"Scatter5.png\", bbox_inches='tight', dpi=600)\n",
    "\n",
    "print(f\"The r-squared is: {rvalue**2}\")"
   ]
  },
  {
   "cell_type": "markdown",
   "metadata": {},
   "source": [
    "####  Southern Hemisphere - Max Temp vs. Latitude Linear Regression"
   ]
  },
  {
   "cell_type": "code",
   "execution_count": 104,
   "metadata": {},
   "outputs": [
    {
     "name": "stdout",
     "output_type": "stream",
     "text": [
      "The r-squared is: 0.6117346167050149\n"
     ]
    },
    {
     "data": {
      "image/png": "[encoded data removed]",
      "text/plain": [
       "<Figure size 432x288 with 1 Axes>"
      ]
     },
     "metadata": {
      "needs_background": "light"
     },
     "output_type": "display_data"
    }
   ],
   "source": [
    "# SETUP PLOT FIGURE\n",
    "fig, ax6 = plt.subplots(figsize=(6,4))\n",
    "\n",
    "# SET LABELS\n",
    "x_values = southern_weather_df['Lat']\n",
    "y_values = southern_weather_df['Max Temp']\n",
    "ax6.set_xlabel('Latitude')\n",
    "ax6.set_ylabel('Max Temp')\n",
    "ax6.set_title('Southern Hemisphere - Max Temp vs. Latitude Linear Regression')\n",
    "\n",
    "plt.scatter(x_values, y_values)\n",
    "\n",
    "# LINEAR REGRESSION\n",
    "(slope, intercept, rvalue, pvalue, stderr) = linregress(x_values, y_values)\n",
    "regress_values = x_values * slope + intercept\n",
    "plt.plot(x_values,regress_values,\"r-\")\n",
    "\n",
    "plt.savefig(\"Scatter6.png\", bbox_inches='tight', dpi=600)\n",
    "\n",
    "print(f\"The r-squared is: {rvalue**2}\")"
   ]
  },
  {
   "cell_type": "markdown",
   "metadata": {},
   "source": [
    "####  Northern Hemisphere - Humidity (%) vs. Latitude Linear Regression"
   ]
  },
  {
   "cell_type": "code",
   "execution_count": 105,
   "metadata": {},
   "outputs": [
    {
     "name": "stdout",
     "output_type": "stream",
     "text": [
      "The r-squared is: 0.0012312989179938368\n"
     ]
    },
    {
     "data": {
      "image/png": "[encoded data removed]",
      "text/plain": [
       "<Figure size 432x288 with 1 Axes>"
      ]
     },
     "metadata": {
      "needs_background": "light"
     },
     "output_type": "display_data"
    }
   ],
   "source": [
    "# SETUP PLOT FIGURE\n",
    "fig, ax7 = plt.subplots(figsize=(6,4))\n",
    "\n",
    "# SET LABELS\n",
    "x_values = northern_weather_df['Lat']\n",
    "y_values = northern_weather_df['Humidity']\n",
    "ax7.set_xlabel('Latitude')\n",
    "ax7.set_ylabel('Humidity')\n",
    "ax7.set_title('Northern Hemisphere - Humidity (%) vs. Latitude Linear Regression')\n",
    "\n",
    "plt.scatter(x_values, y_values)\n",
    "\n",
    "# LINEAR REGRESSION\n",
    "(slope, intercept, rvalue, pvalue, stderr) = linregress(x_values, y_values)\n",
    "regress_values = x_values * slope + intercept\n",
    "plt.plot(x_values,regress_values,\"r-\")\n",
    "\n",
    "plt.savefig(\"Scatter7.png\", bbox_inches='tight', dpi=600)\n",
    "\n",
    "print(f\"The r-squared is: {rvalue**2}\")"
   ]
  },
  {
   "cell_type": "markdown",
   "metadata": {},
   "source": [
    "####  Southern Hemisphere - Humidity (%) vs. Latitude Linear Regression"
   ]
  },
  {
   "cell_type": "code",
   "execution_count": 109,
   "metadata": {},
   "outputs": [
    {
     "name": "stdout",
     "output_type": "stream",
     "text": [
      "The r-squared is: 2.4632764956485153e-05\n"
     ]
    },
    {
     "data": {
      "image/png": "[encoded data removed]",
      "text/plain": [
       "<Figure size 432x288 with 1 Axes>"
      ]
     },
     "metadata": {
      "needs_background": "light"
     },
     "output_type": "display_data"
    }
   ],
   "source": [
    "# SETUP PLOT FIGURE\n",
    "fig, ax8 = plt.subplots(figsize=(6,4))\n",
    "\n",
    "# SET LABELS\n",
    "x_values = southern_weather_df['Lat']\n",
    "y_values = southern_weather_df['Humidity']\n",
    "ax8.set_xlabel('Latitude')\n",
    "ax8.set_ylabel('Humidity')\n",
    "ax7.set_title('Southern Hemisphere - Humidity (%) vs. Latitude Linear Regression')\n",
    "\n",
    "plt.scatter(x_values, y_values)\n",
    "\n",
    "# LINEAR REGRESSION\n",
    "(slope, intercept, rvalue, pvalue, stderr) = linregress(x_values, y_values)\n",
    "regress_values = x_values * slope + intercept\n",
    "plt.plot(x_values,regress_values,\"r-\")\n",
    "\n",
    "plt.savefig(\"Scatter8.png\", bbox_inches='tight', dpi=600)\n",
    "\n",
    "print(f\"The r-squared is: {rvalue**2}\")"
   ]
  },
  {
   "cell_type": "markdown",
   "metadata": {},
   "source": [
    "####  Northern Hemisphere - Cloudiness (%) vs. Latitude Linear Regression"
   ]
  },
  {
   "cell_type": "code",
   "execution_count": 111,
   "metadata": {},
   "outputs": [
    {
     "name": "stdout",
     "output_type": "stream",
     "text": [
      "The r-squared is: 0.00021026682040109476\n"
     ]
    },
    {
     "data": {
      "image/png": "[encoded data removed]",
      "text/plain": [
       "<Figure size 432x288 with 1 Axes>"
      ]
     },
     "metadata": {
      "needs_background": "light"
     },
     "output_type": "display_data"
    }
   ],
   "source": [
    "# SETUP PLOT FIGURE\n",
    "fig, ax9 = plt.subplots(figsize=(6,4))\n",
    "\n",
    "# SET LABELS\n",
    "x_values = northern_weather_df['Lat']\n",
    "y_values = northern_weather_df['Cloudiness']\n",
    "ax9.set_xlabel('Latitude')\n",
    "ax9.set_ylabel('Cloudiness')\n",
    "ax7.set_title('Northern Hemisphere - Cloudiness (%) vs. Latitude Linear Regression')\n",
    "\n",
    "plt.scatter(x_values, y_values)\n",
    "\n",
    "# LINEAR REGRESSION\n",
    "(slope, intercept, rvalue, pvalue, stderr) = linregress(x_values, y_values)\n",
    "regress_values = x_values * slope + intercept\n",
    "plt.plot(x_values,regress_values,\"r-\")\n",
    "\n",
    "plt.savefig(\"Scatter9.png\", bbox_inches='tight', dpi=600)\n",
    "\n",
    "print(f\"The r-squared is: {rvalue**2}\")"
   ]
  },
  {
   "cell_type": "markdown",
   "metadata": {},
   "source": [
    "####  Southern Hemisphere - Cloudiness (%) vs. Latitude Linear Regression"
   ]
  },
  {
   "cell_type": "code",
   "execution_count": 112,
   "metadata": {},
   "outputs": [
    {
     "name": "stdout",
     "output_type": "stream",
     "text": [
      "The r-squared is: 0.013847419338751764\n"
     ]
    },
    {
     "data": {
      "image/png": "[encoded data removed]",
      "text/plain": [
       "<Figure size 432x288 with 1 Axes>"
      ]
     },
     "metadata": {
      "needs_background": "light"
     },
     "output_type": "display_data"
    }
   ],
   "source": [
    "# SETUP PLOT FIGURE\n",
    "fig, ax10 = plt.subplots(figsize=(6,4))\n",
    "\n",
    "# SET LABELS\n",
    "x_values = southern_weather_df['Lat']\n",
    "y_values = southern_weather_df['Cloudiness']\n",
    "ax10.set_xlabel('Latitude')\n",
    "ax10.set_ylabel('Cloudiness')\n",
    "ax7.set_title('Southern Hemisphere - Cloudiness (%) vs. Latitude Linear Regression')\n",
    "\n",
    "plt.scatter(x_values, y_values)\n",
    "\n",
    "# LINEAR REGRESSION\n",
    "(slope, intercept, rvalue, pvalue, stderr) = linregress(x_values, y_values)\n",
    "regress_values = x_values * slope + intercept\n",
    "plt.plot(x_values,regress_values,\"r-\")\n",
    "\n",
    "plt.savefig(\"Scatter10.png\", bbox_inches='tight', dpi=600)\n",
    "\n",
    "print(f\"The r-squared is: {rvalue**2}\")"
   ]
  },
  {
   "cell_type": "markdown",
   "metadata": {},
   "source": [
    "####  Northern Hemisphere - Wind Speed (mph) vs. Latitude Linear Regression"
   ]
  },
  {
   "cell_type": "code",
   "execution_count": 113,
   "metadata": {},
   "outputs": [
    {
     "name": "stdout",
     "output_type": "stream",
     "text": [
      "The r-squared is: 0.0003656925486506554\n"
     ]
    },
    {
     "data": {
      "image/png": "[encoded data removed]",
      "text/plain": [
       "<Figure size 576x360 with 1 Axes>"
      ]
     },
     "metadata": {
      "needs_background": "light"
     },
     "output_type": "display_data"
    }
   ],
   "source": [
    "# SETUP PLOT FIGURE\n",
    "fig, ax11 = plt.subplots(figsize=(8,5))\n",
    "\n",
    "# SET LABELS\n",
    "x_values = northern_weather_df['Lat']\n",
    "y_values = northern_weather_df['Wind Speed']\n",
    "ax11.set_xlabel('Latitude')\n",
    "ax11.set_ylabel('Wind Speed')\n",
    "ax7.set_title('Northern Hemisphere - Wind Speed (mph) vs. Latitude Linear Regression')\n",
    "\n",
    "plt.scatter(x_values, y_values)\n",
    "\n",
    "# LINEAR REGRESSION\n",
    "(slope, intercept, rvalue, pvalue, stderr) = linregress(x_values, y_values)\n",
    "regress_values = x_values * slope + intercept\n",
    "plt.plot(x_values,regress_values,\"r-\")\n",
    "\n",
    "plt.savefig(\"Scatter11.png\", bbox_inches='tight', dpi=600)\n",
    "\n",
    "print(f\"The r-squared is: {rvalue**2}\")"
   ]
  },
  {
   "cell_type": "markdown",
   "metadata": {},
   "source": [
    "####  Southern Hemisphere - Wind Speed (mph) vs. Latitude Linear Regression"
   ]
  },
  {
   "cell_type": "code",
   "execution_count": 114,
   "metadata": {},
   "outputs": [
    {
     "name": "stdout",
     "output_type": "stream",
     "text": [
      "The r-squared is: 0.022698764085077733\n"
     ]
    },
    {
     "data": {
      "image/png": "[encoded data removed]",
      "text/plain": [
       "<Figure size 576x360 with 1 Axes>"
      ]
     },
     "metadata": {
      "needs_background": "light"
     },
     "output_type": "display_data"
    }
   ],
   "source": [
    "# SETUP PLOT FIGURE\n",
    "fig, ax12 = plt.subplots(figsize=(8,5))\n",
    "\n",
    "# SET LABELS\n",
    "x_values = southern_weather_df['Lat']\n",
    "y_values = southern_weather_df['Wind Speed']\n",
    "ax12.set_xlabel('Latitude')\n",
    "ax12.set_ylabel('Wind Speed')\n",
    "ax7.set_title('Southern Hemisphere - Wind Speed (mph) vs. Latitude Linear Regression')\n",
    "\n",
    "plt.scatter(x_values, y_values)\n",
    "\n",
    "# LINEAR REGRESSION\n",
    "(slope, intercept, rvalue, pvalue, stderr) = linregress(x_values, y_values)\n",
    "regress_values = x_values * slope + intercept\n",
    "plt.plot(x_values,regress_values,\"r-\")\n",
    "\n",
    "plt.savefig(\"Scatter12.png\", bbox_inches='tight', dpi=600)\n",
    "\n",
    "print(f\"The r-squared is: {rvalue**2}\")"
   ]
  },
  {
   "cell_type": "code",
   "execution_count": null,
   "metadata": {},
   "outputs": [],
   "source": []
  }
 ],
 "metadata": {
  "anaconda-cloud": {},
  "kernel_info": {
   "name": "python3"
  },
  "kernelspec": {
   "display_name": "Python 3",
   "language": "python",
   "name": "python3"
  },
  "language_info": {
   "codemirror_mode": {
    "name": "ipython",
    "version": 3
   },
   "file_extension": ".py",
   "mimetype": "text/x-python",
   "name": "python",
   "nbconvert_exporter": "python",
   "pygments_lexer": "ipython3",
   "version": "3.7.4"
  },
  "latex_envs": {
   "LaTeX_envs_menu_present": true,
   "autoclose": false,
   "autocomplete": true,
   "bibliofile": "biblio.bib",
   "cite_by": "apalike",
   "current_citInitial": 1,
   "eqLabelWithNumbers": true,
   "eqNumInitial": 1,
   "hotkeys": {
    "equation": "Ctrl-E",
    "itemize": "Ctrl-I"
   },
   "labels_anchors": false,
   "latex_user_defs": false,
   "report_style_numbering": false,
   "user_envs_cfg": false
  },
  "nteract": {
   "version": "0.12.3"
  }
 },
 "nbformat": 4,
 "nbformat_minor": 2
}
