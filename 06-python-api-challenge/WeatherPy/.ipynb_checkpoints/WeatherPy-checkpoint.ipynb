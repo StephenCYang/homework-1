{
 "cells": [
  {
   "cell_type": "markdown",
   "metadata": {},
   "source": [
    "# WeatherPy\n",
    "----\n",
    "\n",
    "#### Note\n",
    "* Instructions have been included for each segment. You do not have to follow them exactly, but they are included to help you think through the steps."
   ]
  },
  {
   "cell_type": "code",
   "execution_count": 2,
   "metadata": {
    "scrolled": true
   },
   "outputs": [],
   "source": [
    "# Dependencies and Setup\n",
    "import matplotlib.pyplot as plt\n",
    "import pandas as pd\n",
    "import numpy as np\n",
    "import requests\n",
    "import time\n",
    "from scipy.stats import linregress\n",
    "\n",
    "# Import API key\n",
    "from api_keys import weather_api_key\n",
    "\n",
    "# Incorporated citipy to determine city based on latitude and longitude\n",
    "from citipy import citipy\n",
    "\n",
    "# Output File (CSV)\n",
    "output_data_file = \"output_data/cities.csv\"\n",
    "\n",
    "# Range of latitudes and longitudes\n",
    "lat_range = (-90, 90)\n",
    "lng_range = (-180, 180)"
   ]
  },
  {
   "cell_type": "markdown",
   "metadata": {},
   "source": [
    "## Generate Cities List"
   ]
  },
  {
   "cell_type": "code",
   "execution_count": 3,
   "metadata": {},
   "outputs": [
    {
     "data": {
      "text/plain": [
       "637"
      ]
     },
     "execution_count": 3,
     "metadata": {},
     "output_type": "execute_result"
    }
   ],
   "source": [
    "# List for holding lat_lngs and cities\n",
    "lat_lngs = []\n",
    "cities = []\n",
    "\n",
    "# Create a set of random lat and lng combinations\n",
    "lats = np.random.uniform(lat_range[0], lat_range[1], size=1500)\n",
    "lngs = np.random.uniform(lng_range[0], lng_range[1], size=1500)\n",
    "lat_lngs = zip(lats, lngs)\n",
    "\n",
    "# Identify nearest city for each lat, lng combination\n",
    "for lat_lng in lat_lngs:\n",
    "    city = citipy.nearest_city(lat_lng[0], lat_lng[1]).city_name\n",
    "    \n",
    "    # If the city is unique, then add it to a our cities list\n",
    "    if city not in cities:\n",
    "        cities.append(city)\n",
    "\n",
    "# Print the city count to confirm sufficient count\n",
    "len(cities)"
   ]
  },
  {
   "cell_type": "markdown",
   "metadata": {},
   "source": [
    "### Perform API Calls\n",
    "* Perform a weather check on each city using a series of successive API calls.\n",
    "* Include a print log of each city as it'sbeing processed (with the city number and city name).\n"
   ]
  },
  {
   "cell_type": "code",
   "execution_count": 4,
   "metadata": {},
   "outputs": [
    {
     "name": "stdout",
     "output_type": "stream",
     "text": [
      "PRINT LOG OF CITIES PROCESSED\n",
      "------------------------------\n",
      "Processing Record 0 | atuona.\n",
      "Processing Record 1 | saint-augustin.\n",
      "Processing Record 2 | lebu.\n",
      "Processing Record 3 | vila velha.\n",
      "Processing Record 4 | busselton.\n",
      "Processing Record 5 | yuli.\n",
      "Processing Record 6 | hobart.\n",
      "Processing Record 7 | saleaula.\n",
      "City not found. Skipping...\n",
      "Processing Record 8 | pangnirtung.\n",
      "Processing Record 9 | bluff.\n",
      "Processing Record 10 | coquimbo.\n",
      "Processing Record 11 | krasnoborsk.\n",
      "Processing Record 12 | bethel.\n",
      "Processing Record 13 | rikitea.\n",
      "Processing Record 14 | port elizabeth.\n",
      "Processing Record 15 | ejido.\n",
      "Processing Record 16 | axim.\n",
      "Processing Record 17 | hay river.\n",
      "Processing Record 18 | nouadhibou.\n",
      "Processing Record 19 | tuktoyaktuk.\n",
      "Processing Record 20 | belushya guba.\n",
      "City not found. Skipping...\n",
      "Processing Record 21 | vila franca do campo.\n",
      "Processing Record 22 | te anau.\n",
      "Processing Record 23 | matara.\n",
      "Processing Record 24 | arlit.\n",
      "Processing Record 25 | albany.\n",
      "Processing Record 26 | chhukha.\n",
      "City not found. Skipping...\n",
      "Processing Record 27 | new norfolk.\n",
      "Processing Record 28 | los llanos de aridane.\n",
      "Processing Record 29 | vaini.\n",
      "Processing Record 30 | valday.\n",
      "Processing Record 31 | fomboni.\n",
      "Processing Record 32 | alanya.\n",
      "Processing Record 33 | ponta do sol.\n",
      "Processing Record 34 | rawson.\n",
      "Processing Record 35 | warqla.\n",
      "City not found. Skipping...\n",
      "Processing Record 36 | butaritari.\n",
      "Processing Record 37 | saldanha.\n",
      "Processing Record 38 | olafsvik.\n",
      "Processing Record 39 | longyearbyen.\n",
      "Processing Record 40 | russell.\n",
      "Processing Record 41 | empangeni.\n",
      "Processing Record 42 | ust-nera.\n",
      "Processing Record 43 | castro.\n",
      "Processing Record 44 | ketchikan.\n",
      "Processing Record 45 | khani.\n",
      "Processing Record 46 | urdzhar.\n",
      "City not found. Skipping...\n",
      "Processing Record 47 | ushuaia.\n",
      "Processing Record 48 | saskylakh.\n",
      "Processing Record 49 | vanimo.\n",
      "Processing Record 50 | asau.\n",
      "Processing Record 51 | chuy.\n",
      "Processing Record 52 | puerto ayora.\n",
      "Processing Record 53 | east london.\n",
      "Processing Record 54 | port hardy.\n",
      "Processing Record 55 | mount isa.\n",
      "Processing Record 56 | chokurdakh.\n",
      "Processing Record 57 | qaanaaq.\n",
      "Processing Record 58 | lorengau.\n",
      "Processing Record 59 | rincon.\n",
      "Processing Record 60 | cabo san lucas.\n",
      "Processing Record 61 | hilo.\n",
      "Processing Record 62 | kapaa.\n",
      "Processing Record 63 | isangel.\n",
      "Processing Record 64 | dingle.\n",
      "Processing Record 65 | port alfred.\n",
      "Processing Record 66 | acari.\n",
      "Processing Record 67 | taolanaro.\n",
      "City not found. Skipping...\n",
      "Processing Record 68 | provideniya.\n",
      "Processing Record 69 | mahebourg.\n",
      "Processing Record 70 | san patricio.\n",
      "Processing Record 71 | cape town.\n",
      "Processing Record 72 | codrington.\n",
      "Processing Record 73 | mataura.\n",
      "Processing Record 74 | la ronge.\n",
      "Processing Record 75 | katherine.\n",
      "Processing Record 76 | alcaniz.\n",
      "Processing Record 77 | khartoum.\n",
      "Processing Record 78 | leningradskiy.\n",
      "Processing Record 79 | port macquarie.\n",
      "Processing Record 80 | verkhnetulomskiy.\n",
      "Processing Record 81 | dunedin.\n",
      "Processing Record 82 | namibe.\n",
      "Processing Record 83 | victoria.\n",
      "Processing Record 84 | bandarbeyla.\n",
      "Processing Record 85 | bintulu.\n",
      "Processing Record 86 | bredasdorp.\n",
      "Processing Record 87 | avarua.\n",
      "Processing Record 88 | kavieng.\n",
      "Processing Record 89 | pisco.\n",
      "Processing Record 90 | anloga.\n",
      "Processing Record 91 | punta arenas.\n",
      "Processing Record 92 | suffolk.\n",
      "Processing Record 93 | babanusah.\n",
      "City not found. Skipping...\n",
      "Processing Record 94 | kathu.\n",
      "Processing Record 95 | harer.\n",
      "Processing Record 96 | saint-louis.\n",
      "Processing Record 97 | nhulunbuy.\n",
      "Processing Record 98 | tahta.\n",
      "Processing Record 99 | sentyabrskiy.\n",
      "City not found. Skipping...\n",
      "Processing Record 100 | college.\n",
      "Processing Record 101 | sigli.\n",
      "Processing Record 102 | illoqqortoormiut.\n",
      "City not found. Skipping...\n",
      "Processing Record 103 | lazaro cardenas.\n",
      "Processing Record 104 | eydhafushi.\n",
      "Processing Record 105 | storm lake.\n",
      "Processing Record 106 | kaitangata.\n",
      "Processing Record 107 | narsaq.\n",
      "Processing Record 108 | santiago del estero.\n",
      "Processing Record 109 | vaitupu.\n",
      "City not found. Skipping...\n",
      "Processing Record 110 | maldonado.\n",
      "Processing Record 111 | khorinsk.\n",
      "Processing Record 112 | tuatapere.\n",
      "Processing Record 113 | birjand.\n",
      "Processing Record 114 | mount gambier.\n",
      "Processing Record 115 | jamestown.\n",
      "Processing Record 116 | caravelas.\n",
      "Processing Record 117 | banikoara.\n",
      "Processing Record 118 | farafangana.\n",
      "Processing Record 119 | diu.\n",
      "Processing Record 120 | ouadda.\n",
      "Processing Record 121 | revelstoke.\n",
      "Processing Record 122 | rundu.\n",
      "Processing Record 123 | port lincoln.\n",
      "Processing Record 124 | mar del plata.\n",
      "Processing Record 125 | gao.\n",
      "Processing Record 126 | airai.\n",
      "Processing Record 127 | haines junction.\n",
      "Processing Record 128 | calvinia.\n",
      "Processing Record 129 | palu.\n",
      "Processing Record 130 | georgetown.\n",
      "Processing Record 131 | nueva loja.\n",
      "Processing Record 132 | berlevag.\n",
      "Processing Record 133 | gazanjyk.\n",
      "Processing Record 134 | hermanus.\n",
      "Processing Record 135 | okhotsk.\n",
      "Processing Record 136 | iqaluit.\n",
      "Processing Record 137 | san cristobal.\n",
      "Processing Record 138 | ostrovnoy.\n",
      "Processing Record 139 | grand river south east.\n",
      "City not found. Skipping...\n",
      "Processing Record 140 | ilulissat.\n",
      "Processing Record 141 | upernavik.\n",
      "Processing Record 142 | ayan.\n",
      "Processing Record 143 | muisne.\n",
      "Processing Record 144 | maceio.\n",
      "Processing Record 145 | cidreira.\n",
      "Processing Record 146 | vardo.\n",
      "Processing Record 147 | port hedland.\n",
      "Processing Record 148 | barentsburg.\n",
      "City not found. Skipping...\n",
      "Processing Record 149 | hithadhoo.\n",
      "Processing Record 150 | traverse city.\n",
      "Processing Record 151 | tornio.\n",
      "Processing Record 152 | kruisfontein.\n",
      "Processing Record 153 | roma.\n",
      "Processing Record 154 | wahpeton.\n",
      "Processing Record 155 | wilhelmshaven.\n",
      "Processing Record 156 | galiwinku.\n",
      "City not found. Skipping...\n",
      "Processing Record 157 | mehamn.\n",
      "Processing Record 158 | tingrela.\n",
      "City not found. Skipping...\n",
      "Processing Record 159 | tottori.\n",
      "Processing Record 160 | viedma.\n",
      "Processing Record 161 | bosaso.\n",
      "Processing Record 162 | muroto.\n",
      "Processing Record 163 | salinopolis.\n",
      "Processing Record 164 | half moon bay.\n",
      "Processing Record 165 | norman wells.\n",
      "Processing Record 166 | linqiong.\n",
      "Processing Record 167 | khovu-aksy.\n",
      "Processing Record 168 | turochak.\n",
      "Processing Record 169 | moron.\n",
      "Processing Record 170 | bathsheba.\n",
      "Processing Record 171 | samarai.\n",
      "Processing Record 172 | yeletskiy.\n",
      "City not found. Skipping...\n",
      "Processing Record 173 | hailey.\n",
      "Processing Record 174 | thompson.\n",
      "Processing Record 175 | barrow.\n",
      "Processing Record 176 | alofi.\n",
      "Processing Record 177 | ribeira grande.\n",
      "Processing Record 178 | arraial do cabo.\n",
      "Processing Record 179 | komsomolskiy.\n",
      "Processing Record 180 | road town.\n",
      "Processing Record 181 | ambilobe.\n",
      "Processing Record 182 | cherskiy.\n",
      "Processing Record 183 | xai-xai.\n",
      "Processing Record 184 | simpang.\n",
      "Processing Record 185 | pedernales.\n",
      "Processing Record 186 | dharchula.\n",
      "Processing Record 187 | port blair.\n",
      "Processing Record 188 | alghero.\n",
      "Processing Record 189 | hasaki.\n",
      "Processing Record 190 | sabinopolis.\n",
      "Processing Record 191 | smolensk.\n",
      "Processing Record 192 | khor.\n",
      "Processing Record 193 | klaksvik.\n",
      "Processing Record 194 | maniitsoq.\n",
      "Processing Record 195 | tumannyy.\n",
      "City not found. Skipping...\n",
      "Processing Record 196 | buala.\n",
      "Processing Record 197 | nome.\n",
      "Processing Record 198 | belaya gora.\n",
      "Processing Record 199 | geraldton.\n",
      "Processing Record 200 | calama.\n",
      "Processing Record 201 | nizhneyansk.\n",
      "City not found. Skipping...\n",
      "Processing Record 202 | walvis bay.\n",
      "Processing Record 203 | esperance.\n",
      "Processing Record 204 | mareeba.\n",
      "Processing Record 205 | tasiilaq.\n",
      "Processing Record 206 | camacha.\n",
      "Processing Record 207 | bambous virieux.\n",
      "Processing Record 208 | palabuhanratu.\n",
      "City not found. Skipping...\n",
      "Processing Record 209 | dudinka.\n",
      "Processing Record 210 | grindavik.\n",
      "Processing Record 211 | riyadh.\n",
      "Processing Record 212 | marzuq.\n",
      "Processing Record 213 | rudnyy.\n",
      "Processing Record 214 | sonoita.\n",
      "Processing Record 215 | saint-philippe.\n",
      "Processing Record 216 | inhambane.\n",
      "Processing Record 217 | petropavlovsk-kamchatskiy.\n",
      "Processing Record 218 | atikokan.\n",
      "Processing Record 219 | havre-saint-pierre.\n",
      "Processing Record 220 | sao paulo de olivenca.\n",
      "Processing Record 221 | pacific grove.\n",
      "Processing Record 222 | nanortalik.\n",
      "Processing Record 223 | paucartambo.\n"
     ]
    },
    {
     "name": "stdout",
     "output_type": "stream",
     "text": [
      "City not found. Skipping...\n",
      "Processing Record 224 | newport.\n",
      "Processing Record 225 | hendaye.\n",
      "Processing Record 226 | tessalit.\n",
      "Processing Record 227 | shenjiamen.\n",
      "Processing Record 228 | sao filipe.\n",
      "Processing Record 229 | challapata.\n",
      "Processing Record 230 | sitka.\n",
      "Processing Record 231 | pevek.\n",
      "Processing Record 232 | hirado.\n",
      "Processing Record 233 | auki.\n",
      "Processing Record 234 | nikolskoye.\n",
      "Processing Record 235 | alabushevo.\n",
      "Processing Record 236 | umm lajj.\n",
      "Processing Record 237 | ancud.\n",
      "Processing Record 238 | isabela.\n",
      "Processing Record 239 | rungata.\n",
      "City not found. Skipping...\n",
      "Processing Record 240 | key west.\n",
      "Processing Record 241 | hambantota.\n",
      "Processing Record 242 | imbituba.\n",
      "Processing Record 243 | tambovka.\n",
      "Processing Record 244 | paamiut.\n",
      "Processing Record 245 | visnes.\n",
      "Processing Record 246 | balkhash.\n",
      "Processing Record 247 | huarmey.\n",
      "Processing Record 248 | cleethorpes.\n",
      "Processing Record 249 | potters bar.\n",
      "Processing Record 250 | tsihombe.\n",
      "City not found. Skipping...\n",
      "Processing Record 251 | avera.\n",
      "Processing Record 252 | musoma.\n",
      "Processing Record 253 | fuerte olimpo.\n",
      "Processing Record 254 | sovetskaya gavan.\n",
      "Processing Record 255 | puri.\n",
      "Processing Record 256 | piraju.\n",
      "Processing Record 257 | maiduguri.\n",
      "Processing Record 258 | nalut.\n",
      "Processing Record 259 | naze.\n",
      "Processing Record 260 | hervey bay.\n",
      "Processing Record 261 | hami.\n",
      "Processing Record 262 | innisfail.\n",
      "Processing Record 263 | arkansas city.\n",
      "Processing Record 264 | iwanai.\n",
      "Processing Record 265 | dikson.\n",
      "Processing Record 266 | arman.\n",
      "Processing Record 267 | juneau.\n",
      "Processing Record 268 | mabaruma.\n",
      "Processing Record 269 | nemuro.\n",
      "Processing Record 270 | kazalinsk.\n",
      "City not found. Skipping...\n",
      "Processing Record 271 | sisimiut.\n",
      "Processing Record 272 | yellowknife.\n",
      "Processing Record 273 | beloha.\n",
      "Processing Record 274 | garden acres.\n",
      "Processing Record 275 | seymchan.\n",
      "Processing Record 276 | hualmay.\n",
      "Processing Record 277 | attawapiskat.\n",
      "City not found. Skipping...\n",
      "Processing Record 278 | moi.\n",
      "Processing Record 279 | lagoa.\n",
      "Processing Record 280 | banjar.\n",
      "Processing Record 281 | altamira.\n",
      "Processing Record 282 | atka.\n",
      "City not found. Skipping...\n",
      "Processing Record 283 | sorland.\n",
      "Processing Record 284 | lompoc.\n",
      "Processing Record 285 | santander.\n",
      "Processing Record 286 | yulara.\n",
      "Processing Record 287 | samusu.\n",
      "City not found. Skipping...\n",
      "Processing Record 288 | fairbanks.\n",
      "Processing Record 289 | numan.\n",
      "Processing Record 290 | necochea.\n",
      "Processing Record 291 | furukawa.\n",
      "Processing Record 292 | ornskoldsvik.\n",
      "Processing Record 293 | shelburne.\n",
      "Processing Record 294 | kodiak.\n",
      "Processing Record 295 | charters towers.\n",
      "Processing Record 296 | morada nova.\n",
      "Processing Record 297 | atkarsk.\n",
      "Processing Record 298 | paramonga.\n",
      "Processing Record 299 | muravlenko.\n",
      "Processing Record 300 | khonuu.\n",
      "City not found. Skipping...\n",
      "Processing Record 301 | cairns.\n",
      "Processing Record 302 | impfondo.\n",
      "Processing Record 303 | diego de almagro.\n",
      "Processing Record 304 | tiksi.\n",
      "Processing Record 305 | egvekinot.\n",
      "Processing Record 306 | batticaloa.\n",
      "Processing Record 307 | clyde river.\n",
      "Processing Record 308 | rio gallegos.\n",
      "Processing Record 309 | mahon.\n",
      "Processing Record 310 | sulangan.\n",
      "Processing Record 311 | togul.\n",
      "Processing Record 312 | nurota.\n",
      "Processing Record 313 | saint george.\n",
      "Processing Record 314 | adrar.\n",
      "Processing Record 315 | jabinyanah.\n",
      "Processing Record 316 | gamba.\n",
      "Processing Record 317 | shenzhen.\n",
      "Processing Record 318 | sao jose da coroa grande.\n",
      "Processing Record 319 | tabou.\n",
      "Processing Record 320 | wadi musa.\n",
      "Processing Record 321 | aklavik.\n",
      "Processing Record 322 | meulaboh.\n",
      "Processing Record 323 | cooma.\n",
      "Processing Record 324 | lasa.\n",
      "Processing Record 325 | bonavista.\n",
      "Processing Record 326 | guia de isora.\n",
      "Processing Record 327 | springfield.\n",
      "Processing Record 328 | carutapera.\n",
      "Processing Record 329 | bengkulu.\n",
      "Processing Record 330 | mackenzie.\n",
      "Processing Record 331 | flin flon.\n",
      "Processing Record 332 | nelson bay.\n",
      "Processing Record 333 | marcona.\n",
      "City not found. Skipping...\n",
      "Processing Record 334 | almaznyy.\n",
      "Processing Record 335 | veracruz.\n",
      "Processing Record 336 | srikakulam.\n",
      "Processing Record 337 | onega.\n",
      "Processing Record 338 | mana.\n",
      "Processing Record 339 | amapa.\n",
      "Processing Record 340 | broome.\n",
      "Processing Record 341 | raga.\n",
      "Processing Record 342 | turukhansk.\n",
      "Processing Record 343 | tiruppuvanam.\n",
      "Processing Record 344 | salamanca.\n",
      "Processing Record 345 | gzhatsk.\n",
      "City not found. Skipping...\n",
      "Processing Record 346 | bolshoy lug.\n",
      "Processing Record 347 | verkhnevilyuysk.\n",
      "Processing Record 348 | carauari.\n",
      "Processing Record 349 | chapais.\n",
      "Processing Record 350 | hendersonville.\n",
      "Processing Record 351 | inirida.\n",
      "Processing Record 352 | kanker.\n",
      "Processing Record 353 | gwadar.\n",
      "Processing Record 354 | kamaishi.\n",
      "Processing Record 355 | daru.\n",
      "Processing Record 356 | fort nelson.\n",
      "Processing Record 357 | yatou.\n",
      "Processing Record 358 | pimenteiras.\n",
      "Processing Record 359 | ixtapa.\n",
      "Processing Record 360 | rutland.\n",
      "Processing Record 361 | deputatskiy.\n",
      "Processing Record 362 | mosquera.\n",
      "Processing Record 363 | nyurba.\n",
      "Processing Record 364 | kasongo-lunda.\n",
      "Processing Record 365 | cayenne.\n",
      "Processing Record 366 | fevralsk.\n",
      "City not found. Skipping...\n",
      "Processing Record 367 | bolungarvik.\n",
      "City not found. Skipping...\n",
      "Processing Record 368 | sidrolandia.\n",
      "Processing Record 369 | quatre cocos.\n",
      "Processing Record 370 | pimentel.\n",
      "Processing Record 371 | korla.\n",
      "Processing Record 372 | souillac.\n",
      "Processing Record 373 | villablino.\n",
      "Processing Record 374 | kapit.\n",
      "Processing Record 375 | odesskoye.\n",
      "Processing Record 376 | santa fe.\n",
      "Processing Record 377 | zaysan.\n",
      "Processing Record 378 | nishihara.\n",
      "Processing Record 379 | pouso alegre.\n",
      "Processing Record 380 | garden city.\n",
      "Processing Record 381 | aparecida do taboado.\n",
      "Processing Record 382 | zlitan.\n",
      "Processing Record 383 | faanui.\n",
      "Processing Record 384 | vestmannaeyjar.\n",
      "Processing Record 385 | emerald.\n",
      "Processing Record 386 | puerto escondido.\n",
      "Processing Record 387 | gigmoto.\n",
      "Processing Record 388 | kalabo.\n",
      "Processing Record 389 | esparta.\n",
      "Processing Record 390 | mayya.\n",
      "Processing Record 391 | prien.\n",
      "Processing Record 392 | calais.\n",
      "Processing Record 393 | derazhnya.\n",
      "Processing Record 394 | moyale.\n",
      "Processing Record 395 | todos santos.\n",
      "Processing Record 396 | praia.\n",
      "Processing Record 397 | qingdao.\n",
      "Processing Record 398 | shenyang.\n",
      "Processing Record 399 | touros.\n",
      "Processing Record 400 | okha.\n",
      "Processing Record 401 | iracoubo.\n",
      "Processing Record 402 | bowen.\n",
      "Processing Record 403 | cankuzo.\n",
      "Processing Record 404 | micheweni.\n",
      "Processing Record 405 | kuytun.\n",
      "Processing Record 406 | cockburn town.\n",
      "Processing Record 407 | gravdal.\n",
      "Processing Record 408 | utiroa.\n",
      "City not found. Skipping...\n",
      "Processing Record 409 | talaya.\n",
      "Processing Record 410 | aleksandrov gay.\n",
      "Processing Record 411 | goderich.\n",
      "Processing Record 412 | kathmandu.\n",
      "Processing Record 413 | brokopondo.\n",
      "Processing Record 414 | zhigansk.\n",
      "Processing Record 415 | husavik.\n",
      "Processing Record 416 | novomykolayivka.\n",
      "Processing Record 417 | abu samrah.\n",
      "Processing Record 418 | chokwe.\n",
      "Processing Record 419 | rafaela.\n",
      "Processing Record 420 | constitucion.\n",
      "Processing Record 421 | kuching.\n",
      "Processing Record 422 | shieli.\n",
      "Processing Record 423 | ouesso.\n",
      "Processing Record 424 | minervino murge.\n",
      "Processing Record 425 | surt.\n",
      "Processing Record 426 | babati.\n",
      "Processing Record 427 | icod de los vinos.\n",
      "Processing Record 428 | amderma.\n",
      "City not found. Skipping...\n",
      "Processing Record 429 | bubaque.\n",
      "Processing Record 430 | virginia beach.\n",
      "Processing Record 431 | nicoya.\n",
      "Processing Record 432 | tingi.\n",
      "Processing Record 433 | kavaratti.\n",
      "Processing Record 434 | beyneu.\n",
      "Processing Record 435 | sinnamary.\n",
      "Processing Record 436 | tumen.\n",
      "Processing Record 437 | yuriria.\n",
      "Processing Record 438 | marfino.\n",
      "Processing Record 439 | samarinda.\n",
      "Processing Record 440 | san marcos.\n",
      "Processing Record 441 | vila.\n",
      "Processing Record 442 | sambava.\n",
      "Processing Record 443 | ust-kamchatsk.\n",
      "City not found. Skipping...\n",
      "Processing Record 444 | cap malheureux.\n",
      "Processing Record 445 | estelle.\n",
      "Processing Record 446 | alta floresta.\n",
      "Processing Record 447 | lavrentiya.\n",
      "Processing Record 448 | qasigiannguit.\n",
      "Processing Record 449 | miri.\n",
      "Processing Record 450 | koygorodok.\n"
     ]
    },
    {
     "name": "stdout",
     "output_type": "stream",
     "text": [
      "Processing Record 451 | port-gentil.\n",
      "Processing Record 452 | makurdi.\n",
      "Processing Record 453 | rusape.\n",
      "Processing Record 454 | waingapu.\n",
      "Processing Record 455 | edd.\n",
      "Processing Record 456 | krasnyy tekstilshchik.\n",
      "City not found. Skipping...\n",
      "Processing Record 457 | qena.\n",
      "Processing Record 458 | isugod.\n",
      "Processing Record 459 | acapulco.\n",
      "Processing Record 460 | jalu.\n",
      "Processing Record 461 | tateyama.\n",
      "Processing Record 462 | lubumbashi.\n",
      "Processing Record 463 | kununurra.\n",
      "Processing Record 464 | usinsk.\n",
      "Processing Record 465 | cap-aux-meules.\n",
      "Processing Record 466 | ekhabi.\n",
      "Processing Record 467 | singaraja.\n",
      "Processing Record 468 | formoso do araguaia.\n",
      "City not found. Skipping...\n",
      "Processing Record 469 | keshabpur.\n",
      "Processing Record 470 | riviere-au-renard.\n",
      "Processing Record 471 | vao.\n",
      "Processing Record 472 | khatanga.\n",
      "Processing Record 473 | tomatlan.\n",
      "Processing Record 474 | mokhsogollokh.\n",
      "Processing Record 475 | kirkwall.\n",
      "Processing Record 476 | gat.\n",
      "Processing Record 477 | yongan.\n",
      "Processing Record 478 | vredendal.\n",
      "Processing Record 479 | sainte-suzanne.\n",
      "Processing Record 480 | jeremie.\n",
      "Processing Record 481 | kitimat.\n",
      "Processing Record 482 | kloulklubed.\n",
      "Processing Record 483 | sibu.\n",
      "Processing Record 484 | atar.\n",
      "Processing Record 485 | palmas bellas.\n",
      "Processing Record 486 | huangchuan.\n",
      "Processing Record 487 | troitskoye.\n",
      "Processing Record 488 | baytown.\n",
      "Processing Record 489 | fredericksburg.\n",
      "Processing Record 490 | khash.\n",
      "Processing Record 491 | severo-yeniseyskiy.\n",
      "Processing Record 492 | yeppoon.\n",
      "Processing Record 493 | bhimunipatnam.\n",
      "Processing Record 494 | huron.\n",
      "Processing Record 495 | abu dhabi.\n",
      "Processing Record 496 | san andres.\n",
      "Processing Record 497 | metu.\n",
      "Processing Record 498 | krasnaya zarya.\n",
      "Processing Record 499 | awbari.\n",
      "Processing Record 500 | chernyshevskiy.\n",
      "Processing Record 501 | tecoanapa.\n",
      "Processing Record 502 | telimele.\n",
      "Processing Record 503 | dolbeau.\n",
      "City not found. Skipping...\n",
      "Processing Record 504 | dhanera.\n",
      "Processing Record 505 | medina.\n",
      "Processing Record 506 | tromso.\n",
      "Processing Record 507 | palasa.\n",
      "Processing Record 508 | flinders.\n",
      "Processing Record 509 | srednekolymsk.\n",
      "Processing Record 510 | shakawe.\n",
      "Processing Record 511 | umzimvubu.\n",
      "City not found. Skipping...\n",
      "Processing Record 512 | bireun.\n",
      "Processing Record 513 | muros.\n",
      "Processing Record 514 | sfantu gheorghe.\n",
      "Processing Record 515 | gurlan.\n",
      "Processing Record 516 | karsiyang.\n",
      "Processing Record 517 | contamana.\n",
      "Processing Record 518 | hofn.\n",
      "Processing Record 519 | asyut.\n",
      "Processing Record 520 | banepa.\n",
      "Processing Record 521 | wajir.\n",
      "Processing Record 522 | homer.\n",
      "Processing Record 523 | camana.\n",
      "Processing Record 524 | yinchuan.\n",
      "Processing Record 525 | upington.\n",
      "Processing Record 526 | ahipara.\n",
      "Processing Record 527 | yanliang.\n",
      "Processing Record 528 | angra.\n",
      "City not found. Skipping...\n",
      "Processing Record 529 | bolshaya murta.\n",
      "City not found. Skipping...\n",
      "Processing Record 530 | maragogi.\n",
      "Processing Record 531 | coolum beach.\n",
      "Processing Record 532 | korhogo.\n",
      "Processing Record 533 | nefteyugansk.\n",
      "Processing Record 534 | sesheke.\n",
      "Processing Record 535 | nouakchott.\n",
      "Processing Record 536 | novikovo.\n",
      "Processing Record 537 | sabha.\n",
      "Processing Record 538 | bambanglipuro.\n",
      "Processing Record 539 | marathon.\n",
      "Processing Record 540 | rockhampton.\n",
      "Processing Record 541 | lafiagi.\n",
      "Processing Record 542 | lolua.\n",
      "City not found. Skipping...\n",
      "Processing Record 543 | novopokrovka.\n",
      "Processing Record 544 | pokhara.\n",
      "Processing Record 545 | gazli.\n",
      "Processing Record 546 | west bay.\n",
      "Processing Record 547 | pochutla.\n",
      "Processing Record 548 | bonthe.\n",
      "Processing Record 549 | aksarka.\n",
      "Processing Record 550 | samalaeulu.\n",
      "City not found. Skipping...\n",
      "Processing Record 551 | igarka.\n",
      "Processing Record 552 | itarema.\n",
      "Processing Record 553 | krupanj.\n",
      "Processing Record 554 | siniscola.\n",
      "Processing Record 555 | zastron.\n",
      "Processing Record 556 | fortuna.\n",
      "Processing Record 557 | namatanai.\n",
      "Processing Record 558 | ribas do rio pardo.\n",
      "Processing Record 559 | tanabe.\n",
      "Processing Record 560 | buraydah.\n",
      "Processing Record 561 | semporna.\n",
      "Processing Record 562 | muscle shoals.\n",
      "Processing Record 563 | sur.\n",
      "Processing Record 564 | bouna.\n",
      "Processing Record 565 | sao joao da barra.\n",
      "Processing Record 566 | mys shmidta.\n",
      "City not found. Skipping...\n",
      "Processing Record 567 | catuday.\n",
      "Processing Record 568 | shchors.\n",
      "Processing Record 569 | westport.\n",
      "Processing Record 570 | catamarca.\n",
      "Processing Record 571 | alyangula.\n",
      "Processing Record 572 | portland.\n",
      "Processing Record 573 | loiza.\n",
      "Processing Record 574 | brigantine.\n",
      "Processing Record 575 | wanning.\n",
      "Processing Record 576 | svetlogorsk.\n",
      "Processing Record 577 | kangaatsiaq.\n",
      "Processing Record 578 | jarjis.\n",
      "City not found. Skipping...\n",
      "Processing Record 579 | tasbuget.\n",
      "City not found. Skipping...\n",
      "Processing Record 580 | pilar.\n",
      "Processing Record 581 | timberlake.\n",
      "Processing Record 582 | katsuura.\n",
      "Processing Record 583 | jamame.\n",
      "Processing Record 584 | labelle.\n",
      "Processing Record 585 | yumaguzino.\n",
      "Processing Record 586 | parry sound.\n",
      "Processing Record 587 | high level.\n",
      "Processing Record 588 | umba.\n",
      "Processing Record 589 | monrovia.\n",
      "Processing Record 590 | margate.\n",
      "Processing Record 591 | luderitz.\n",
      "Processing Record 592 | lichinga.\n",
      "Processing Record 593 | itoman.\n",
      "Processing Record 594 | torbay.\n",
      "Processing Record 595 | merauke.\n",
      "Processing Record 596 | marawi.\n",
      "Processing Record 597 | puerto boyaca.\n",
      "Processing Record 598 | mafra.\n",
      "Processing Record 599 | morgan city.\n",
      "Processing Record 600 | rochegda.\n",
      "Processing Record 601 | woodland.\n",
      "Processing Record 602 | lata.\n",
      "Processing Record 603 | saint-pierre.\n",
      "Processing Record 604 | ntcheu.\n",
      "Processing Record 605 | pemba.\n",
      "Processing Record 606 | newton.\n",
      "Processing Record 607 | finnsnes.\n",
      "Processing Record 608 | bedele.\n",
      "Processing Record 609 | gimli.\n",
      "Processing Record 610 | savinskiy.\n",
      "Processing Record 611 | araouane.\n",
      "Processing Record 612 | bac lieu.\n",
      "Processing Record 613 | plettenberg bay.\n",
      "Processing Record 614 | solnechnyy.\n",
      "Processing Record 615 | wanaka.\n",
      "Processing Record 616 | griffith.\n",
      "Processing Record 617 | neiafu.\n",
      "Processing Record 618 | slonim.\n",
      "Processing Record 619 | flagstaff.\n",
      "Processing Record 620 | bagdarin.\n",
      "Processing Record 621 | ginir.\n",
      "Processing Record 622 | bokspits.\n",
      "City not found. Skipping...\n",
      "Processing Record 623 | kirakira.\n",
      "Processing Record 624 | west wendover.\n",
      "Processing Record 625 | xinpu.\n",
      "Processing Record 626 | saint-joseph.\n",
      "Processing Record 627 | padang.\n",
      "Processing Record 628 | gornyy.\n",
      "Processing Record 629 | wuwei.\n",
      "Processing Record 630 | darnah.\n",
      "Processing Record 631 | zeya.\n",
      "Processing Record 632 | razdolinsk.\n",
      "Processing Record 633 | mezhova.\n",
      "Processing Record 634 | nayoro.\n",
      "Processing Record 635 | cape coast.\n",
      "Processing Record 636 | sena madureira.\n",
      "-----------------------------\n",
      "DATA RETRIEVAL COMPLETE\n",
      "-----------------------------\n"
     ]
    }
   ],
   "source": [
    "# COUNTER\n",
    "cities_count = len(cities)\n",
    "\n",
    "# CREATE EMPTY LIST TO HOLD DESIRED DATA- CITY, TEMP, HUMIDITY, ETC.\n",
    "City = []\n",
    "Cloudiness = []\n",
    "Country = []\n",
    "Date = []\n",
    "Humidity = []\n",
    "Lat = []\n",
    "Lng = []\n",
    "Max_Temp = []\n",
    "Wind_Speed = []\n",
    "\n",
    "# OPEN WEATHER URL\n",
    "url = \"http://api.openweathermap.org/data/2.5/weather?\"\n",
    "#query_url = url + \"appid=\" + weather_api_key + \"&q=\" + city\n",
    "\n",
    "# SET UP PRINT LOG\n",
    "print(\"PRINT LOG OF CITIES PROCESSED\")\n",
    "print(\"------------------------------\")\n",
    "\n",
    "#ITERATE THROUGH CITY DATA WITH FOR LOOP\n",
    "for x in range(cities_count):\n",
    "    print(f\"Processing Record {x} | {cities[x]}.\")\n",
    "    params = {\"q\":cities[x],\n",
    "                  \"units\":\"imperial\",\n",
    "                \"appid\":weather_api_key}\n",
    "    try:      \n",
    "        response = requests.get(url, params=params)\n",
    "        response_json = response.json()\n",
    "    \n",
    "        # APPEND JSON DATA TO DESIGNATED LISTS\n",
    "        City.append(response_json['name'])\n",
    "        Cloudiness.append(response_json['clouds']['all'])\n",
    "        Country.append(response_json['sys']['country'])\n",
    "        Date.append(response_json['dt'])\n",
    "        Humidity.append(response_json['main']['humidity'])\n",
    "        Lat.append(response_json['coord']['lat'])\n",
    "        Lng.append(response_json['coord']['lon'])\n",
    "        Max_Temp.append(response_json['main']['temp_max'])\n",
    "        Wind_Speed.append(response_json['wind']['speed'])\n",
    "        \n",
    "    except:\n",
    "        print('City not found. Skipping...')\n",
    "\n",
    "print('-----------------------------')\n",
    "print('DATA RETRIEVAL COMPLETE')\n",
    "print('-----------------------------')\n",
    "        "
   ]
  },
  {
   "cell_type": "markdown",
   "metadata": {},
   "source": [
    "### Convert Raw Data to DataFrame\n",
    "* Export the city data into a .csv.\n",
    "* Display the DataFrame"
   ]
  },
  {
   "cell_type": "code",
   "execution_count": 5,
   "metadata": {},
   "outputs": [
    {
     "data": {
      "text/html": [
       "<div>\n",
       "<style scoped>\n",
       "    .dataframe tbody tr th:only-of-type {\n",
       "        vertical-align: middle;\n",
       "    }\n",
       "\n",
       "    .dataframe tbody tr th {\n",
       "        vertical-align: top;\n",
       "    }\n",
       "\n",
       "    .dataframe thead th {\n",
       "        text-align: right;\n",
       "    }\n",
       "</style>\n",
       "<table border=\"1\" class=\"dataframe\">\n",
       "  <thead>\n",
       "    <tr style=\"text-align: right;\">\n",
       "      <th></th>\n",
       "      <th>City</th>\n",
       "      <th>Lat</th>\n",
       "      <th>Lng</th>\n",
       "      <th>Max Temp</th>\n",
       "      <th>Humidity</th>\n",
       "      <th>Cloudiness</th>\n",
       "      <th>Wind Speed</th>\n",
       "      <th>Country</th>\n",
       "      <th>Date</th>\n",
       "    </tr>\n",
       "  </thead>\n",
       "  <tbody>\n",
       "    <tr>\n",
       "      <td>0</td>\n",
       "      <td>Atuona</td>\n",
       "      <td>-9.80</td>\n",
       "      <td>-139.03</td>\n",
       "      <td>79.32</td>\n",
       "      <td>76</td>\n",
       "      <td>5</td>\n",
       "      <td>16.58</td>\n",
       "      <td>PF</td>\n",
       "      <td>1594850166</td>\n",
       "    </tr>\n",
       "    <tr>\n",
       "      <td>1</td>\n",
       "      <td>Saint-Augustin</td>\n",
       "      <td>51.23</td>\n",
       "      <td>-58.65</td>\n",
       "      <td>59.81</td>\n",
       "      <td>50</td>\n",
       "      <td>1</td>\n",
       "      <td>8.99</td>\n",
       "      <td>CA</td>\n",
       "      <td>1594850669</td>\n",
       "    </tr>\n",
       "    <tr>\n",
       "      <td>2</td>\n",
       "      <td>Lebu</td>\n",
       "      <td>-37.62</td>\n",
       "      <td>-73.65</td>\n",
       "      <td>52.12</td>\n",
       "      <td>91</td>\n",
       "      <td>100</td>\n",
       "      <td>0.60</td>\n",
       "      <td>CL</td>\n",
       "      <td>1594850670</td>\n",
       "    </tr>\n",
       "    <tr>\n",
       "      <td>3</td>\n",
       "      <td>Vila Velha</td>\n",
       "      <td>-20.33</td>\n",
       "      <td>-40.29</td>\n",
       "      <td>69.80</td>\n",
       "      <td>88</td>\n",
       "      <td>90</td>\n",
       "      <td>8.05</td>\n",
       "      <td>BR</td>\n",
       "      <td>1594850670</td>\n",
       "    </tr>\n",
       "    <tr>\n",
       "      <td>4</td>\n",
       "      <td>Busselton</td>\n",
       "      <td>-33.65</td>\n",
       "      <td>115.33</td>\n",
       "      <td>59.00</td>\n",
       "      <td>94</td>\n",
       "      <td>34</td>\n",
       "      <td>22.93</td>\n",
       "      <td>AU</td>\n",
       "      <td>1594850670</td>\n",
       "    </tr>\n",
       "  </tbody>\n",
       "</table>\n",
       "</div>"
      ],
      "text/plain": [
       "             City    Lat     Lng  Max Temp  Humidity  Cloudiness  Wind Speed  \\\n",
       "0          Atuona  -9.80 -139.03     79.32        76           5       16.58   \n",
       "1  Saint-Augustin  51.23  -58.65     59.81        50           1        8.99   \n",
       "2            Lebu -37.62  -73.65     52.12        91         100        0.60   \n",
       "3      Vila Velha -20.33  -40.29     69.80        88          90        8.05   \n",
       "4       Busselton -33.65  115.33     59.00        94          34       22.93   \n",
       "\n",
       "  Country        Date  \n",
       "0      PF  1594850166  \n",
       "1      CA  1594850669  \n",
       "2      CL  1594850670  \n",
       "3      BR  1594850670  \n",
       "4      AU  1594850670  "
      ]
     },
     "execution_count": 5,
     "metadata": {},
     "output_type": "execute_result"
    }
   ],
   "source": [
    "# CREATE DF USING DATA IN LISTS\n",
    "weather_data = {\n",
    "    \"City\": City, \"Lat\": Lat, \"Lng\": Lng, \"Max Temp\": Max_Temp, \n",
    "    \"Humidity\" : Humidity, \"Cloudiness\": Cloudiness, \"Wind Speed\": Wind_Speed,\n",
    "    \"Country\": Country, \"Date\": Date\n",
    "}\n",
    "weather_data_df = pd.DataFrame(weather_data)\n",
    "weather_data_df = weather_data_df.()\n",
    "weather_data_df.head()"
   ]
  },
  {
   "cell_type": "code",
   "execution_count": 6,
   "metadata": {},
   "outputs": [
    {
     "data": {
      "text/plain": [
       "592"
      ]
     },
     "execution_count": 6,
     "metadata": {},
     "output_type": "execute_result"
    }
   ],
   "source": [
    "# FINAL LENGTH OF TABLE\n",
    "len(weather_data_df)"
   ]
  },
  {
   "cell_type": "code",
   "execution_count": 10,
   "metadata": {},
   "outputs": [],
   "source": [
    "# EXPORT DATA TO CSV\n",
    "weather_data_df.to_csv(\"../output_data/cities.csv\")"
   ]
  },
  {
   "cell_type": "markdown",
   "metadata": {},
   "source": [
    "## Inspect the data and remove the cities where the humidity > 100%.\n",
    "----\n",
    "Skip this step if there are no cities that have humidity > 100%. "
   ]
  },
  {
   "cell_type": "code",
   "execution_count": 12,
   "metadata": {},
   "outputs": [
    {
     "name": "stdout",
     "output_type": "stream",
     "text": [
      "Cities with humidity > 100% = 0\n"
     ]
    }
   ],
   "source": [
    "# ISOLATE CITIES WITH HUMIDITY > 100%\n",
    "humidity_over_100 = weather_data_df.loc[weather_data_df['Humidity'] > 100]\n",
    "\n",
    "humidity_count = len(humidity_over_100)\n",
    "print(f\"Cities with humidity > 100% = {humidity_count}\")"
   ]
  },
  {
   "cell_type": "markdown",
   "metadata": {},
   "source": [
    "## Plotting the Data\n",
    "* Use proper labeling of the plots using plot titles (including date of analysis) and axes labels.\n",
    "* Save the plotted figures as .pngs."
   ]
  },
  {
   "cell_type": "markdown",
   "metadata": {},
   "source": [
    "## Latitude vs. Temperature Plot"
   ]
  },
  {
   "cell_type": "code",
   "execution_count": 13,
   "metadata": {
    "scrolled": true
   },
   "outputs": [
    {
     "data": {
      "image/png": "[encoded data removed]",
      "text/plain": [
       "<Figure size 432x288 with 1 Axes>"
      ]
     },
     "metadata": {
      "needs_background": "light"
     },
     "output_type": "display_data"
    }
   ],
   "source": [
    "# SETUP PLOT FIGURE\n",
    "fig, ax1 = plt.subplots(figsize=(6,4))\n",
    "\n",
    "# SET LABELS\n",
    "x_values = weather_data_df['Max Temp']\n",
    "y_values = weather_data_df['Lat']\n",
    "ax1.set_xlabel('Temperature')\n",
    "ax1.set_ylabel('Latitude')\n",
    "ax1.set_title('Latitude vs. Temperature')\n",
    "\n",
    "plt.scatter(x_values, y_values)\n",
    "\n",
    "# LINEAR REGRESSION\n",
    "(slope, intercept, rvalue, pvalue, stderr) = linregress(x_values, y_values)\n",
    "regress_values = x_values * slope + intercept\n",
    "plt.plot(x_values,regress_values,\"r-\")\n",
    "\n",
    "plt.savefig(\"Scatter1.png\", bbox_inches='tight', dpi=600)"
   ]
  },
  {
   "cell_type": "markdown",
   "metadata": {},
   "source": [
    "Based on the sample, it appers that most of the hotter temperatures exist north of the equator (0). Also, colder temperatures are experienced sooner when moving south of the equater than if one moves north-- i.e. Temp of 50 degrees is experienced between -40 and -50 lat in the southern hemisphere, but between 60 and 70 lat in the northern hemisphere."
   ]
  },
  {
   "cell_type": "markdown",
   "metadata": {},
   "source": [
    "## Latitude vs. Humidity Plot"
   ]
  },
  {
   "cell_type": "code",
   "execution_count": 14,
   "metadata": {},
   "outputs": [
    {
     "data": {
      "image/png": "[encoded data removed]",
      "text/plain": [
       "<Figure size 432x288 with 1 Axes>"
      ]
     },
     "metadata": {
      "needs_background": "light"
     },
     "output_type": "display_data"
    }
   ],
   "source": [
    "# SETUP PLOT FIGURE\n",
    "fig, ax2 = plt.subplots(figsize=(6,4))\n",
    "\n",
    "# SET LABELS\n",
    "x_values = weather_data_df['Humidity']\n",
    "y_values = weather_data_df['Lat']\n",
    "ax2.set_xlabel('Humidity (%)')\n",
    "ax2.set_ylabel('Latitude')\n",
    "ax2.set_title('City Latitude vs. Humidity (04/01/20)')\n",
    "\n",
    "plt.scatter(x_values, y_values)\n",
    "\n",
    "# LINEAR REGRESSION\n",
    "(slope, intercept, rvalue, pvalue, stderr) = linregress(x_values, y_values)\n",
    "regress_values = x_values * slope + intercept\n",
    "plt.plot(x_values,regress_values,\"r-\")\n",
    "\n",
    "plt.savefig(\"Scatter2.png\", bbox_inches='tight', dpi=600)"
   ]
  },
  {
   "cell_type": "markdown",
   "metadata": {},
   "source": [
    "Based on the sample, it appears that there are more cities with lower humidity in the northern hemisphere."
   ]
  },
  {
   "cell_type": "markdown",
   "metadata": {},
   "source": [
    "## Latitude vs. Cloudiness Plot"
   ]
  },
  {
   "cell_type": "code",
   "execution_count": 15,
   "metadata": {},
   "outputs": [
    {
     "data": {
      "image/png": "[encoded data removed]",
      "text/plain": [
       "<Figure size 432x288 with 1 Axes>"
      ]
     },
     "metadata": {
      "needs_background": "light"
     },
     "output_type": "display_data"
    }
   ],
   "source": [
    "# SETUP PLOT FIGURE\n",
    "fig, ax3 = plt.subplots(figsize=(6,4))\n",
    "\n",
    "# SET LABELS\n",
    "x_values = weather_data_df['Cloudiness']\n",
    "y_values = weather_data_df['Lat']\n",
    "ax3.set_xlabel('Cloudiness (%)')\n",
    "ax3.set_ylabel('Latitude')\n",
    "ax3.set_title('City Latitude vs. Cloudiness (04/01/20)')\n",
    "\n",
    "plt.scatter(x_values, y_values)\n",
    "\n",
    "# LINEAR REGRESSION\n",
    "(slope, intercept, rvalue, pvalue, stderr) = linregress(x_values, y_values)\n",
    "regress_values = x_values * slope + intercept\n",
    "plt.plot(x_values,regress_values,\"r-\")\n",
    "\n",
    "plt.savefig(\"Scatter3.png\", bbox_inches='tight', dpi=600)"
   ]
  },
  {
   "cell_type": "markdown",
   "metadata": {},
   "source": [
    "Based on the sample, it appears that though cities in both hemispheres experience all percentages of cloudiness, there is more cloudiness the further north in latitude one moves."
   ]
  },
  {
   "cell_type": "markdown",
   "metadata": {},
   "source": [
    "## Latitude vs. Wind Speed Plot"
   ]
  },
  {
   "cell_type": "code",
   "execution_count": 16,
   "metadata": {},
   "outputs": [
    {
     "data": {
      "image/png": "[encoded data removed]",
      "text/plain": [
       "<Figure size 432x288 with 1 Axes>"
      ]
     },
     "metadata": {
      "needs_background": "light"
     },
     "output_type": "display_data"
    }
   ],
   "source": [
    "# SETUP PLOT FIGURE\n",
    "fig, ax4 = plt.subplots(figsize=(6,4))\n",
    "\n",
    "# SET LABELS\n",
    "x_values = weather_data_df['Wind Speed']\n",
    "y_values = weather_data_df['Lat']\n",
    "ax4.set_xlabel('Wind Speed (mph)')\n",
    "ax4.set_ylabel('Latitude')\n",
    "ax4.set_title('City Latitude vs. Wind Speed (04/01/20)')\n",
    "\n",
    "plt.scatter(x_values, y_values)\n",
    "\n",
    "# LINEAR REGRESSION\n",
    "(slope, intercept, rvalue, pvalue, stderr) = linregress(x_values, y_values)\n",
    "regress_values = x_values * slope + intercept\n",
    "plt.plot(x_values,regress_values,\"r-\")\n",
    "\n",
    "plt.savefig(\"Scatter4.png\", bbox_inches='tight', dpi=600)"
   ]
  },
  {
   "cell_type": "markdown",
   "metadata": {},
   "source": [
    "Based on the sample, it appears that wind speed is evenly distributed accros latitudes."
   ]
  },
  {
   "cell_type": "markdown",
   "metadata": {},
   "source": [
    "## Linear Regression"
   ]
  },
  {
   "cell_type": "code",
   "execution_count": 17,
   "metadata": {},
   "outputs": [],
   "source": [
    "# Create Northern and Southern Hemisphere DataFrames\n",
    "northern_weather_df = weather_data_df.loc[weather_data_df['Lat'] > 0]\n",
    "southern_weather_df = weather_data_df.loc[weather_data_df['Lat'] < 0 ]"
   ]
  },
  {
   "cell_type": "code",
   "execution_count": 18,
   "metadata": {},
   "outputs": [
    {
     "data": {
      "text/html": [
       "<style  type=\"text/css\" >\n",
       "</style><table id=\"T_7f7c1ec6_c6ee_11ea_8a2a_7cd1c387f1ba\" ><caption>Northern Weather Hemisphere</caption><thead>    <tr>        <th class=\"blank level0\" ></th>        <th class=\"col_heading level0 col0\" >City</th>        <th class=\"col_heading level0 col1\" >Lat</th>        <th class=\"col_heading level0 col2\" >Lng</th>        <th class=\"col_heading level0 col3\" >Max Temp</th>        <th class=\"col_heading level0 col4\" >Humidity</th>        <th class=\"col_heading level0 col5\" >Cloudiness</th>        <th class=\"col_heading level0 col6\" >Wind Speed</th>        <th class=\"col_heading level0 col7\" >Country</th>        <th class=\"col_heading level0 col8\" >Date</th>    </tr></thead><tbody>\n",
       "                <tr>\n",
       "                        <th id=\"T_7f7c1ec6_c6ee_11ea_8a2a_7cd1c387f1balevel0_row0\" class=\"row_heading level0 row0\" >1</th>\n",
       "                        <td id=\"T_7f7c1ec6_c6ee_11ea_8a2a_7cd1c387f1barow0_col0\" class=\"data row0 col0\" >Saint-Augustin</td>\n",
       "                        <td id=\"T_7f7c1ec6_c6ee_11ea_8a2a_7cd1c387f1barow0_col1\" class=\"data row0 col1\" >51.23</td>\n",
       "                        <td id=\"T_7f7c1ec6_c6ee_11ea_8a2a_7cd1c387f1barow0_col2\" class=\"data row0 col2\" >-58.65</td>\n",
       "                        <td id=\"T_7f7c1ec6_c6ee_11ea_8a2a_7cd1c387f1barow0_col3\" class=\"data row0 col3\" >59.81</td>\n",
       "                        <td id=\"T_7f7c1ec6_c6ee_11ea_8a2a_7cd1c387f1barow0_col4\" class=\"data row0 col4\" >50</td>\n",
       "                        <td id=\"T_7f7c1ec6_c6ee_11ea_8a2a_7cd1c387f1barow0_col5\" class=\"data row0 col5\" >1</td>\n",
       "                        <td id=\"T_7f7c1ec6_c6ee_11ea_8a2a_7cd1c387f1barow0_col6\" class=\"data row0 col6\" >8.99</td>\n",
       "                        <td id=\"T_7f7c1ec6_c6ee_11ea_8a2a_7cd1c387f1barow0_col7\" class=\"data row0 col7\" >CA</td>\n",
       "                        <td id=\"T_7f7c1ec6_c6ee_11ea_8a2a_7cd1c387f1barow0_col8\" class=\"data row0 col8\" >1594850669</td>\n",
       "            </tr>\n",
       "            <tr>\n",
       "                        <th id=\"T_7f7c1ec6_c6ee_11ea_8a2a_7cd1c387f1balevel0_row1\" class=\"row_heading level0 row1\" >5</th>\n",
       "                        <td id=\"T_7f7c1ec6_c6ee_11ea_8a2a_7cd1c387f1barow1_col0\" class=\"data row1 col0\" >Yuli</td>\n",
       "                        <td id=\"T_7f7c1ec6_c6ee_11ea_8a2a_7cd1c387f1barow1_col1\" class=\"data row1 col1\" >9.7</td>\n",
       "                        <td id=\"T_7f7c1ec6_c6ee_11ea_8a2a_7cd1c387f1barow1_col2\" class=\"data row1 col2\" >10.27</td>\n",
       "                        <td id=\"T_7f7c1ec6_c6ee_11ea_8a2a_7cd1c387f1barow1_col3\" class=\"data row1 col3\" >74.37</td>\n",
       "                        <td id=\"T_7f7c1ec6_c6ee_11ea_8a2a_7cd1c387f1barow1_col4\" class=\"data row1 col4\" >89</td>\n",
       "                        <td id=\"T_7f7c1ec6_c6ee_11ea_8a2a_7cd1c387f1barow1_col5\" class=\"data row1 col5\" >80</td>\n",
       "                        <td id=\"T_7f7c1ec6_c6ee_11ea_8a2a_7cd1c387f1barow1_col6\" class=\"data row1 col6\" >5.14</td>\n",
       "                        <td id=\"T_7f7c1ec6_c6ee_11ea_8a2a_7cd1c387f1barow1_col7\" class=\"data row1 col7\" >NG</td>\n",
       "                        <td id=\"T_7f7c1ec6_c6ee_11ea_8a2a_7cd1c387f1barow1_col8\" class=\"data row1 col8\" >1594850670</td>\n",
       "            </tr>\n",
       "    </tbody></table>"
      ],
      "text/plain": [
       "<pandas.io.formats.style.Styler at 0x1a1d1cdb50>"
      ]
     },
     "execution_count": 18,
     "metadata": {},
     "output_type": "execute_result"
    }
   ],
   "source": [
    "northern_weather_df.head(2).style.set_caption('Northern Weather Hemisphere')"
   ]
  },
  {
   "cell_type": "code",
   "execution_count": 19,
   "metadata": {},
   "outputs": [
    {
     "data": {
      "text/html": [
       "<style  type=\"text/css\" >\n",
       "</style><table id=\"T_807b696c_c6ee_11ea_8a2a_7cd1c387f1ba\" ><caption>Southern Weather Hemisphere</caption><thead>    <tr>        <th class=\"blank level0\" ></th>        <th class=\"col_heading level0 col0\" >City</th>        <th class=\"col_heading level0 col1\" >Lat</th>        <th class=\"col_heading level0 col2\" >Lng</th>        <th class=\"col_heading level0 col3\" >Max Temp</th>        <th class=\"col_heading level0 col4\" >Humidity</th>        <th class=\"col_heading level0 col5\" >Cloudiness</th>        <th class=\"col_heading level0 col6\" >Wind Speed</th>        <th class=\"col_heading level0 col7\" >Country</th>        <th class=\"col_heading level0 col8\" >Date</th>    </tr></thead><tbody>\n",
       "                <tr>\n",
       "                        <th id=\"T_807b696c_c6ee_11ea_8a2a_7cd1c387f1balevel0_row0\" class=\"row_heading level0 row0\" >0</th>\n",
       "                        <td id=\"T_807b696c_c6ee_11ea_8a2a_7cd1c387f1barow0_col0\" class=\"data row0 col0\" >Atuona</td>\n",
       "                        <td id=\"T_807b696c_c6ee_11ea_8a2a_7cd1c387f1barow0_col1\" class=\"data row0 col1\" >-9.8</td>\n",
       "                        <td id=\"T_807b696c_c6ee_11ea_8a2a_7cd1c387f1barow0_col2\" class=\"data row0 col2\" >-139.03</td>\n",
       "                        <td id=\"T_807b696c_c6ee_11ea_8a2a_7cd1c387f1barow0_col3\" class=\"data row0 col3\" >79.32</td>\n",
       "                        <td id=\"T_807b696c_c6ee_11ea_8a2a_7cd1c387f1barow0_col4\" class=\"data row0 col4\" >76</td>\n",
       "                        <td id=\"T_807b696c_c6ee_11ea_8a2a_7cd1c387f1barow0_col5\" class=\"data row0 col5\" >5</td>\n",
       "                        <td id=\"T_807b696c_c6ee_11ea_8a2a_7cd1c387f1barow0_col6\" class=\"data row0 col6\" >16.58</td>\n",
       "                        <td id=\"T_807b696c_c6ee_11ea_8a2a_7cd1c387f1barow0_col7\" class=\"data row0 col7\" >PF</td>\n",
       "                        <td id=\"T_807b696c_c6ee_11ea_8a2a_7cd1c387f1barow0_col8\" class=\"data row0 col8\" >1594850166</td>\n",
       "            </tr>\n",
       "            <tr>\n",
       "                        <th id=\"T_807b696c_c6ee_11ea_8a2a_7cd1c387f1balevel0_row1\" class=\"row_heading level0 row1\" >2</th>\n",
       "                        <td id=\"T_807b696c_c6ee_11ea_8a2a_7cd1c387f1barow1_col0\" class=\"data row1 col0\" >Lebu</td>\n",
       "                        <td id=\"T_807b696c_c6ee_11ea_8a2a_7cd1c387f1barow1_col1\" class=\"data row1 col1\" >-37.62</td>\n",
       "                        <td id=\"T_807b696c_c6ee_11ea_8a2a_7cd1c387f1barow1_col2\" class=\"data row1 col2\" >-73.65</td>\n",
       "                        <td id=\"T_807b696c_c6ee_11ea_8a2a_7cd1c387f1barow1_col3\" class=\"data row1 col3\" >52.12</td>\n",
       "                        <td id=\"T_807b696c_c6ee_11ea_8a2a_7cd1c387f1barow1_col4\" class=\"data row1 col4\" >91</td>\n",
       "                        <td id=\"T_807b696c_c6ee_11ea_8a2a_7cd1c387f1barow1_col5\" class=\"data row1 col5\" >100</td>\n",
       "                        <td id=\"T_807b696c_c6ee_11ea_8a2a_7cd1c387f1barow1_col6\" class=\"data row1 col6\" >0.6</td>\n",
       "                        <td id=\"T_807b696c_c6ee_11ea_8a2a_7cd1c387f1barow1_col7\" class=\"data row1 col7\" >CL</td>\n",
       "                        <td id=\"T_807b696c_c6ee_11ea_8a2a_7cd1c387f1barow1_col8\" class=\"data row1 col8\" >1594850670</td>\n",
       "            </tr>\n",
       "    </tbody></table>"
      ],
      "text/plain": [
       "<pandas.io.formats.style.Styler at 0x1a2208e4d0>"
      ]
     },
     "execution_count": 19,
     "metadata": {},
     "output_type": "execute_result"
    }
   ],
   "source": [
    "southern_weather_df.head(2).style.set_caption('Southern Weather Hemisphere')"
   ]
  },
  {
   "cell_type": "markdown",
   "metadata": {},
   "source": [
    "####  Northern Hemisphere - Max Temp vs. Latitude Linear Regression"
   ]
  },
  {
   "cell_type": "code",
   "execution_count": 20,
   "metadata": {},
   "outputs": [
    {
     "name": "stdout",
     "output_type": "stream",
     "text": [
      "The r-squared is: 0.47094907917667544\n"
     ]
    },
    {
     "data": {
      "image/png": "[encoded data removed]",
      "text/plain": [
       "<Figure size 432x288 with 1 Axes>"
      ]
     },
     "metadata": {
      "needs_background": "light"
     },
     "output_type": "display_data"
    }
   ],
   "source": [
    "# SETUP PLOT FIGURE\n",
    "fig, ax5 = plt.subplots(figsize=(6,4))\n",
    "\n",
    "# SET LABELS\n",
    "x_values = northern_weather_df['Max Temp']\n",
    "y_values = northern_weather_df['Lat']\n",
    "ax5.set_xlabel('Max Temp')\n",
    "ax5.set_ylabel('Latitudep')\n",
    "ax5.set_title('Northern Hemisphere - Max Temp vs. Latitude Linear Regression')\n",
    "\n",
    "\n",
    "plt.scatter(x_values, y_values)\n",
    "\n",
    "# LINEAR REGRESSION\n",
    "(slope, intercept, rvalue, pvalue, stderr) = linregress(x_values, y_values)\n",
    "regress_values = x_values * slope + intercept\n",
    "plt.plot(x_values,regress_values,\"r-\")\n",
    "\n",
    "plt.savefig(\"Scatter5.png\", bbox_inches='tight', dpi=600)\n",
    "\n",
    "print(f\"The r-squared is: {rvalue**2}\")"
   ]
  },
  {
   "cell_type": "markdown",
   "metadata": {},
   "source": [
    "Based on the sample, it appears that the closer one moves to the equator, the highter the temperature."
   ]
  },
  {
   "cell_type": "markdown",
   "metadata": {},
   "source": [
    "####  Southern Hemisphere - Max Temp vs. Latitude Linear Regression"
   ]
  },
  {
   "cell_type": "code",
   "execution_count": 21,
   "metadata": {},
   "outputs": [
    {
     "name": "stdout",
     "output_type": "stream",
     "text": [
      "The r-squared is: 0.6615652647377698\n"
     ]
    },
    {
     "data": {
      "image/png": "[encoded data removed]",
      "text/plain": [
       "<Figure size 432x288 with 1 Axes>"
      ]
     },
     "metadata": {
      "needs_background": "light"
     },
     "output_type": "display_data"
    }
   ],
   "source": [
    "# SETUP PLOT FIGURE\n",
    "fig, ax6 = plt.subplots(figsize=(6,4))\n",
    "\n",
    "# SET LABELS\n",
    "x_values = southern_weather_df['Max Temp']\n",
    "y_values = southern_weather_df['Lat']\n",
    "ax6.set_xlabel('Max Temp')\n",
    "ax6.set_ylabel('Latitude')\n",
    "ax6.set_title('Southern Hemisphere - Max Temp vs. Latitude Linear Regression')\n",
    "\n",
    "plt.scatter(x_values, y_values)\n",
    "\n",
    "# LINEAR REGRESSION\n",
    "(slope, intercept, rvalue, pvalue, stderr) = linregress(x_values, y_values)\n",
    "regress_values = x_values * slope + intercept\n",
    "plt.plot(x_values,regress_values,\"r-\")\n",
    "\n",
    "plt.savefig(\"Scatter6.png\", bbox_inches='tight', dpi=600)\n",
    "\n",
    "print(f\"The r-squared is: {rvalue**2}\")"
   ]
  },
  {
   "cell_type": "markdown",
   "metadata": {},
   "source": [
    "Based on the sample, it appears that the closer one moves to the equator, the highter the temperature."
   ]
  },
  {
   "cell_type": "markdown",
   "metadata": {},
   "source": [
    "####  Northern Hemisphere - Humidity (%) vs. Latitude Linear Regression"
   ]
  },
  {
   "cell_type": "code",
   "execution_count": 22,
   "metadata": {},
   "outputs": [
    {
     "name": "stdout",
     "output_type": "stream",
     "text": [
      "The r-squared is: 2.4132805669465335e-05\n"
     ]
    },
    {
     "data": {
      "image/png": "[encoded data removed]",
      "text/plain": [
       "<Figure size 432x288 with 1 Axes>"
      ]
     },
     "metadata": {
      "needs_background": "light"
     },
     "output_type": "display_data"
    }
   ],
   "source": [
    "# SETUP PLOT FIGURE\n",
    "fig, ax7 = plt.subplots(figsize=(6,4))\n",
    "\n",
    "# SET LABELS\n",
    "x_values = northern_weather_df['Humidity']\n",
    "y_values = northern_weather_df['Lat']\n",
    "ax7.set_xlabel('Humidity')\n",
    "ax7.set_ylabel('Latitude')\n",
    "ax7.set_title('Northern Hemisphere - Humidity (%) vs. Latitude Linear Regression')\n",
    "\n",
    "plt.scatter(x_values, y_values)\n",
    "\n",
    "# LINEAR REGRESSION\n",
    "(slope, intercept, rvalue, pvalue, stderr) = linregress(x_values, y_values)\n",
    "regress_values = x_values * slope + intercept\n",
    "plt.plot(x_values,regress_values,\"r-\")\n",
    "\n",
    "plt.savefig(\"Scatter7.png\", bbox_inches='tight', dpi=600)\n",
    "\n",
    "print(f\"The r-squared is: {rvalue**2}\")"
   ]
  },
  {
   "cell_type": "markdown",
   "metadata": {},
   "source": [
    "Based on the sample, it appears that, at all latitudes, humidity increases as temperature increases."
   ]
  },
  {
   "cell_type": "markdown",
   "metadata": {},
   "source": [
    "####  Southern Hemisphere - Humidity (%) vs. Latitude Linear Regression"
   ]
  },
  {
   "cell_type": "code",
   "execution_count": 26,
   "metadata": {},
   "outputs": [
    {
     "name": "stdout",
     "output_type": "stream",
     "text": [
      "The r-squared is: 0.0029187433300653853\n"
     ]
    },
    {
     "data": {
      "image/png": "[encoded data removed]",
      "text/plain": [
       "<Figure size 432x288 with 1 Axes>"
      ]
     },
     "metadata": {
      "needs_background": "light"
     },
     "output_type": "display_data"
    }
   ],
   "source": [
    "# SETUP PLOT FIGURE\n",
    "fig, ax8 = plt.subplots(figsize=(6,4))\n",
    "\n",
    "# SET LABELS\n",
    "x_values = southern_weather_df['Humidity']\n",
    "y_values = southern_weather_df['Lat']\n",
    "ax8.set_xlabel('Humidity')\n",
    "ax8.set_ylabel('Latitude')\n",
    "ax8.set_title('Southern Hemisphere - Humidity (%) vs. Latitude Linear Regression')\n",
    "\n",
    "plt.scatter(x_values, y_values)\n",
    "\n",
    "# LINEAR REGRESSION\n",
    "(slope, intercept, rvalue, pvalue, stderr) = linregress(x_values, y_values)\n",
    "regress_values = x_values * slope + intercept\n",
    "plt.plot(x_values,regress_values,\"r-\")\n",
    "\n",
    "plt.savefig(\"Scatter8.png\", bbox_inches='tight', dpi=600)\n",
    "\n",
    "print(f\"The r-squared is: {rvalue**2}\")"
   ]
  },
  {
   "cell_type": "markdown",
   "metadata": {},
   "source": [
    "Based on the sample, it appears that, at all latitudes, humidity increases as temperature increases."
   ]
  },
  {
   "cell_type": "markdown",
   "metadata": {},
   "source": [
    "####  Northern Hemisphere - Cloudiness (%) vs. Latitude Linear Regression"
   ]
  },
  {
   "cell_type": "code",
   "execution_count": 27,
   "metadata": {},
   "outputs": [
    {
     "name": "stdout",
     "output_type": "stream",
     "text": [
      "The r-squared is: 0.002322370134057911\n"
     ]
    },
    {
     "data": {
      "image/png": "[encoded data removed]",
      "text/plain": [
       "<Figure size 432x288 with 1 Axes>"
      ]
     },
     "metadata": {
      "needs_background": "light"
     },
     "output_type": "display_data"
    }
   ],
   "source": [
    "# SETUP PLOT FIGURE\n",
    "fig, ax9 = plt.subplots(figsize=(6,4))\n",
    "\n",
    "# SET LABELS\n",
    "x_values = northern_weather_df['Cloudiness']\n",
    "y_values = northern_weather_df['Lat']\n",
    "ax9.set_xlabel('Cloudiness')\n",
    "ax9.set_ylabel('Latitude')\n",
    "ax9.set_title('Northern Hemisphere - Cloudiness (%) vs. Latitude Linear Regression')\n",
    "\n",
    "plt.scatter(x_values, y_values)\n",
    "\n",
    "# LINEAR REGRESSION\n",
    "(slope, intercept, rvalue, pvalue, stderr) = linregress(x_values, y_values)\n",
    "regress_values = x_values * slope + intercept\n",
    "plt.plot(x_values,regress_values,\"r-\")\n",
    "\n",
    "plt.savefig(\"Scatter9.png\", bbox_inches='tight', dpi=600)\n",
    "\n",
    "print(f\"The r-squared is: {rvalue**2}\")"
   ]
  },
  {
   "cell_type": "markdown",
   "metadata": {},
   "source": [
    "Based on the sample, it appears that though cloudiness is mostly evenly distributed, there are more cities with high cloudiness closer to the equator. Perhaps in more tropical regions."
   ]
  },
  {
   "cell_type": "markdown",
   "metadata": {},
   "source": [
    "####  Southern Hemisphere - Cloudiness (%) vs. Latitude Linear Regression"
   ]
  },
  {
   "cell_type": "code",
   "execution_count": 28,
   "metadata": {},
   "outputs": [
    {
     "name": "stdout",
     "output_type": "stream",
     "text": [
      "The r-squared is: 0.00040316216224374056\n"
     ]
    },
    {
     "data": {
      "image/png": "[encoded data removed]",
      "text/plain": [
       "<Figure size 432x288 with 1 Axes>"
      ]
     },
     "metadata": {
      "needs_background": "light"
     },
     "output_type": "display_data"
    }
   ],
   "source": [
    "# SETUP PLOT FIGURE\n",
    "fig, ax10 = plt.subplots(figsize=(6,4))\n",
    "\n",
    "# SET LABELS\n",
    "x_values = southern_weather_df['Cloudiness']\n",
    "y_values = southern_weather_df['Lat']\n",
    "ax10.set_xlabel('Cloudiness')\n",
    "ax10.set_ylabel('Latitude')\n",
    "ax10.set_title('Southern Hemisphere - Cloudiness (%) vs. Latitude Linear Regression')\n",
    "\n",
    "plt.scatter(x_values, y_values)\n",
    "\n",
    "# LINEAR REGRESSION\n",
    "(slope, intercept, rvalue, pvalue, stderr) = linregress(x_values, y_values)\n",
    "regress_values = x_values * slope + intercept\n",
    "plt.plot(x_values,regress_values,\"r-\")\n",
    "\n",
    "plt.savefig(\"Scatter10.png\", bbox_inches='tight', dpi=600)\n",
    "\n",
    "print(f\"The r-squared is: {rvalue**2}\")"
   ]
  },
  {
   "cell_type": "markdown",
   "metadata": {},
   "source": [
    "Based on the sample, it appears that there are less cloudy cities in the Southern Hemisphere."
   ]
  },
  {
   "cell_type": "markdown",
   "metadata": {},
   "source": [
    "####  Northern Hemisphere - Wind Speed (mph) vs. Latitude Linear Regression"
   ]
  },
  {
   "cell_type": "code",
   "execution_count": 30,
   "metadata": {},
   "outputs": [
    {
     "name": "stdout",
     "output_type": "stream",
     "text": [
      "The r-squared is: 0.00030985245033274576\n"
     ]
    },
    {
     "data": {
      "image/png": "[encoded data removed]",
      "text/plain": [
       "<Figure size 432x288 with 1 Axes>"
      ]
     },
     "metadata": {
      "needs_background": "light"
     },
     "output_type": "display_data"
    }
   ],
   "source": [
    "# SETUP PLOT FIGURE\n",
    "fig, ax11 = plt.subplots(figsize=(6,4))\n",
    "\n",
    "# SET LABELS\n",
    "x_values = northern_weather_df['Wind Speed']\n",
    "y_values = northern_weather_df['Lat']\n",
    "ax11.set_xlabel('Wind Speed')\n",
    "ax11.set_ylabel('Latitide')\n",
    "ax11.set_title('Northern Hemisphere - Wind Speed (mph) vs. Latitude Linear Regression')\n",
    "\n",
    "plt.scatter(x_values, y_values)\n",
    "\n",
    "# LINEAR REGRESSION\n",
    "(slope, intercept, rvalue, pvalue, stderr) = linregress(x_values, y_values)\n",
    "regress_values = x_values * slope + intercept\n",
    "plt.plot(x_values,regress_values,\"r-\")\n",
    "\n",
    "plt.savefig(\"Scatter11.png\", bbox_inches='tight', dpi=600)\n",
    "\n",
    "print(f\"The r-squared is: {rvalue**2}\")"
   ]
  },
  {
   "cell_type": "markdown",
   "metadata": {},
   "source": [
    "Based on the sample, it appears that wind speeds tend to stay below 15mph in the Northern Hemisphere."
   ]
  },
  {
   "cell_type": "markdown",
   "metadata": {},
   "source": [
    "####  Southern Hemisphere - Wind Speed (mph) vs. Latitude Linear Regression"
   ]
  },
  {
   "cell_type": "code",
   "execution_count": 31,
   "metadata": {},
   "outputs": [
    {
     "name": "stdout",
     "output_type": "stream",
     "text": [
      "The r-squared is: 0.00963961896910126\n"
     ]
    },
    {
     "data": {
      "image/png": "[encoded data removed]",
      "text/plain": [
       "<Figure size 432x288 with 1 Axes>"
      ]
     },
     "metadata": {
      "needs_background": "light"
     },
     "output_type": "display_data"
    }
   ],
   "source": [
    "# SETUP PLOT FIGURE\n",
    "fig, ax12 = plt.subplots(figsize=(6,4))\n",
    "\n",
    "# SET LABELS\n",
    "x_values = southern_weather_df['Wind Speed']\n",
    "y_values = southern_weather_df['Lat']\n",
    "ax12.set_xlabel('Wind Speed')\n",
    "ax12.set_ylabel('Latitude')\n",
    "ax12.set_title('Southern Hemisphere - Wind Speed (mph) vs. Latitude Linear Regression')\n",
    "\n",
    "plt.scatter(x_values, y_values)\n",
    "\n",
    "# LINEAR REGRESSION\n",
    "(slope, intercept, rvalue, pvalue, stderr) = linregress(x_values, y_values)\n",
    "regress_values = x_values * slope + intercept\n",
    "plt.plot(x_values,regress_values,\"r-\")\n",
    "\n",
    "plt.savefig(\"Scatter12.png\", bbox_inches='tight', dpi=600)\n",
    "\n",
    "print(f\"The r-squared is: {rvalue**2}\")"
   ]
  },
  {
   "cell_type": "markdown",
   "metadata": {},
   "source": [
    "Based on the sample, it appears that wind speeds tend to stay below 15mph in the Southern Hemisphere."
   ]
  }
 ],
 "metadata": {
  "anaconda-cloud": {},
  "kernel_info": {
   "name": "python3"
  },
  "kernelspec": {
   "display_name": "Python 3",
   "language": "python",
   "name": "python3"
  },
  "language_info": {
   "codemirror_mode": {
    "name": "ipython",
    "version": 3
   },
   "file_extension": ".py",
   "mimetype": "text/x-python",
   "name": "python",
   "nbconvert_exporter": "python",
   "pygments_lexer": "ipython3",
   "version": "3.7.4"
  },
  "latex_envs": {
   "LaTeX_envs_menu_present": true,
   "autoclose": false,
   "autocomplete": true,
   "bibliofile": "biblio.bib",
   "cite_by": "apalike",
   "current_citInitial": 1,
   "eqLabelWithNumbers": true,
   "eqNumInitial": 1,
   "hotkeys": {
    "equation": "Ctrl-E",
    "itemize": "Ctrl-I"
   },
   "labels_anchors": false,
   "latex_user_defs": false,
   "report_style_numbering": false,
   "user_envs_cfg": false
  },
  "nteract": {
   "version": "0.12.3"
  }
 },
 "nbformat": 4,
 "nbformat_minor": 2
}
